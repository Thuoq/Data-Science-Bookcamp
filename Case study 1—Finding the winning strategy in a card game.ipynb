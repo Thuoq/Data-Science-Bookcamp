{
 "cells": [
  {
   "cell_type": "code",
   "execution_count": 1,
   "id": "219d4fcf",
   "metadata": {},
   "outputs": [],
   "source": [
    "import numpy as np\n",
    "import pandas as pd\n",
    "import matplotlib.pyplot as plt\n"
   ]
  },
  {
   "cell_type": "markdown",
   "id": "8ce8429f",
   "metadata": {},
   "source": [
    "## Case Study 1 : Finding the winning strategy in a card game \n"
   ]
  },
  {
   "cell_type": "markdown",
   "id": "e07a5888",
   "metadata": {},
   "source": [
    "### Problem statement\n",
    "Bạn có muốn kiếm được 1 ít tiền không ? Hãy đặt cược và 1 trò chơi bài với số tiền cực nhỏ.Trước mặt bạn là một bộ bài bị xáo trộn. Tất cả 52 lá nằm úp xuống. Một nửa số thẻ có màu đỏ, và một nửa là màu đen. Tôi sẽ tiến hành lật từng thẻ một. Nếu lá bài cuối cùng tôi lật có màu đỏ, bạn sẽ thắng một đô la. Nếu không, bạn sẽ mất một đô la.\n",
    "\n",
    "Đây là bước ngoặt: bạn có thể yêu cầu tôi tạm dừng trò chơi bất cứ lúc nào. Khi bạn nói “Tạm dừng”, tôi sẽ lật lá bài tiếp theo và kết thúc trò chơi. Thẻ tiếp theo sẽ đóng vai trò là thẻ cuối cùng. Bạn sẽ giành được một đô la nếu nó có màu đỏ,"
   ]
  },
  {
   "cell_type": "markdown",
   "id": "2cb1fcb2",
   "metadata": {},
   "source": [
    "#### Overview \n",
    "1. Tính xác xuất và quan sát sự kiện \n",
    "2. Vẽ đồ thị xác xuất của sự kiện trên 1 khoảng thời gian \n",
    "3. Simulate random processes, such as coin flips and card shuffling, using Python."
   ]
  },
  {
   "cell_type": "markdown",
   "id": "b90bc78c",
   "metadata": {},
   "source": [
    "# Computing probabilities using Python \n",
    "Trong chương này chúng ta sẽ học được \n",
    "1. Những cái gì là cơ bản về lý thuyết xác xuất\n",
    "2. Tính xuất xuất của 1 quan sát\n",
    "3. Tính toán xác xuất theo phạm vị quan sát "
   ]
  },
  {
   "cell_type": "markdown",
   "id": "e3341490",
   "metadata": {},
   "source": [
    "## 1.1 Sample space analysis\n",
    "Một hành động có thể đo lường. Một *không gian mẫu* là tập hợp của tất cả các trường hợp có thể xẩy ra của hành động đó . Chúng ta cùng lấy 1 hành động đơi giản của đồng xu. Chỉ đơn giảng là Mặt ngửa hay mặt ups. và chúng ta lưu trữ cái không gian mẫu"
   ]
  },
  {
   "cell_type": "code",
   "execution_count": 2,
   "id": "c01bea2a",
   "metadata": {},
   "outputs": [],
   "source": [
    "sample_space = {'Head','Tails'}"
   ]
  },
  {
   "cell_type": "markdown",
   "id": "1b7c2d1e",
   "metadata": {},
   "source": [
    "Tính toán xác xuất khi tung mặt ngửa\n"
   ]
  },
  {
   "cell_type": "code",
   "execution_count": 3,
   "id": "489b343e",
   "metadata": {},
   "outputs": [
    {
     "name": "stdout",
     "output_type": "stream",
     "text": [
      "Probability of choosing head is 0.5\n"
     ]
    }
   ],
   "source": [
    "probability_heads = 1/len(sample_space)\n",
    "print(f\"Probability of choosing head is {probability_heads}\")"
   ]
  },
  {
   "cell_type": "markdown",
   "id": "84f088b6",
   "metadata": {},
   "source": [
    "**Sự kiện** là 1 tập con của các phần tử trong không gian mẫu phù hợp với 1 vài sự kiện có điều kiên. Một sự kiện điều kiện là đơn giản là Boolean function cái nơi đầu vào là 1 các phần tử là không gian mẫu. Hàm đó trả về `True` khi và chỉ khi element phù hợp với điều kiện của chúng ta"
   ]
  },
  {
   "cell_type": "markdown",
   "id": "e66e394d",
   "metadata": {},
   "source": [
    "Chúng ta cùng định nghĩa các sự kiện có điều kiệu "
   ]
  },
  {
   "cell_type": "code",
   "execution_count": 4,
   "id": "ff7b6142",
   "metadata": {},
   "outputs": [],
   "source": [
    "def is_head_or_tails(outcome):\n",
    "    return outcome in {'Head','Tails'}\n",
    "def is_neither(outcome):\n",
    "    return not is_head_or_tails(outcome)\n",
    "def is_heads(outcome):\n",
    "    return outcome == 'Head'\n",
    "def is_tails(outcome):\n",
    "    return outcome == 'Tails'"
   ]
  },
  {
   "cell_type": "markdown",
   "id": "543485c1",
   "metadata": {},
   "source": [
    "Chúng ta có thể truyền `event condition` vào trong 1 hàm có tên là `get_matching_even` function rằng function định nghĩa ở dưới đây\n"
   ]
  },
  {
   "cell_type": "code",
   "execution_count": 5,
   "id": "c8cee1fc",
   "metadata": {},
   "outputs": [],
   "source": [
    "def get_matching_event(event_condition,sample_space):\n",
    "    return set([outcome for outcome in sample_space if event_condition(outcome)])"
   ]
  },
  {
   "cell_type": "code",
   "execution_count": 6,
   "id": "3b31b8cc",
   "metadata": {},
   "outputs": [
    {
     "name": "stdout",
     "output_type": "stream",
     "text": [
      "Event condition : is_head_or_tails\n",
      "Event: {'Head', 'Tails'}\n",
      "Event condition : is_heads\n",
      "Event: {'Head'}\n",
      "Event condition : is_tails\n",
      "Event: {'Tails'}\n",
      "Event condition : is_neither\n",
      "Event: set()\n"
     ]
    }
   ],
   "source": [
    "event_conditions = [is_head_or_tails,is_heads,is_tails,is_neither]\n",
    "for event_condition in event_conditions:\n",
    "    print(f\"Event condition : {event_condition.__name__}\")\n",
    "    event = get_matching_event(event_condition,sample_space)\n",
    "    print(f\"Event: {event}\")\n"
   ]
  },
  {
   "cell_type": "code",
   "execution_count": 7,
   "id": "2f0b24cc",
   "metadata": {},
   "outputs": [],
   "source": [
    "def compute_probability(event_condition,generic_sample_space):\n",
    "    event = get_matching_event(event_condition,generic_sample_space)\n",
    "    return len(event)/len(generic_sample_space)\n",
    "    "
   ]
  },
  {
   "cell_type": "code",
   "execution_count": 8,
   "id": "e2428cde",
   "metadata": {},
   "outputs": [
    {
     "name": "stdout",
     "output_type": "stream",
     "text": [
      "Probability of event arising from 'is_head_or_tails' is 1.0\n",
      "Probability of event arising from 'is_heads' is 0.5\n",
      "Probability of event arising from 'is_tails' is 0.5\n",
      "Probability of event arising from 'is_neither' is 0.0\n"
     ]
    }
   ],
   "source": [
    "for event_condition in event_conditions:\n",
    "    prob = compute_probability(event_condition, sample_space)\n",
    "    name = event_condition.__name__\n",
    "    print(f\"Probability of event arising from '{name}' is {prob}\")"
   ]
  },
  {
   "cell_type": "markdown",
   "id": "c637edb2",
   "metadata": {},
   "source": [
    "### 1.1.1 Analyzing a biased coin\n",
    "Chúng ta đã tính toán xác xuất của 1 unbiased coin. Cái gì xảy ra nếu coin có thêm biased. Giả sử rằng, coin mặt ngửa khả năng rơi vào mặt ngửa là gấp 4 lần thằng mặt sấp. Làm ntn để chúng ta tính đoán cái `outcome`"
   ]
  },
  {
   "cell_type": "code",
   "execution_count": 9,
   "id": "bb7c0dba",
   "metadata": {},
   "outputs": [],
   "source": [
    "weighted_sample_space = {'Heads':4,'Tails':1}"
   ]
  },
  {
   "cell_type": "markdown",
   "id": "4ddc072c",
   "metadata": {},
   "source": [
    "Chúng ta đã có 1 không gian mẫu mới và được lưu trữ trong 1 dic. Đây sẽ cho phép chúng ta định nghĩa lại cái size của không gian mẫu là `sum weight`."
   ]
  },
  {
   "cell_type": "code",
   "execution_count": 10,
   "id": "db137df2",
   "metadata": {},
   "outputs": [
    {
     "name": "stdout",
     "output_type": "stream",
     "text": [
      "5\n"
     ]
    }
   ],
   "source": [
    "sample_space_size = sum(weighted_sample_space.values())\n",
    "print(sample_space_size)"
   ]
  },
  {
   "cell_type": "code",
   "execution_count": 11,
   "id": "4555cc0c",
   "metadata": {},
   "outputs": [],
   "source": [
    "assert sample_space_size == 5"
   ]
  },
  {
   "cell_type": "markdown",
   "id": "99cc1050",
   "metadata": {},
   "source": [
    "Chúng ta đã định nghĩa lại cái kích thước của sự kiện. Mỗi sự kiệu là tập của outcomes và cái đó phải map với weiths. "
   ]
  },
  {
   "cell_type": "code",
   "execution_count": 12,
   "id": "8ef72782",
   "metadata": {},
   "outputs": [
    {
     "ename": "AssertionError",
     "evalue": "",
     "output_type": "error",
     "traceback": [
      "\u001b[0;31m---------------------------------------------------------------------------\u001b[0m",
      "\u001b[0;31mAssertionError\u001b[0m                            Traceback (most recent call last)",
      "\u001b[0;32m/var/folders/m7/8zsps4310yn_y3x0qstcdzq80000gn/T/ipykernel_26888/3768732734.py\u001b[0m in \u001b[0;36m<module>\u001b[0;34m\u001b[0m\n\u001b[1;32m      1\u001b[0m \u001b[0mevent\u001b[0m \u001b[0;34m=\u001b[0m \u001b[0mget_matching_event\u001b[0m\u001b[0;34m(\u001b[0m\u001b[0mis_head_or_tails\u001b[0m\u001b[0;34m,\u001b[0m\u001b[0mweighted_sample_space\u001b[0m\u001b[0;34m)\u001b[0m\u001b[0;34m\u001b[0m\u001b[0;34m\u001b[0m\u001b[0m\n\u001b[1;32m      2\u001b[0m \u001b[0mevent_size\u001b[0m \u001b[0;34m=\u001b[0m \u001b[0msum\u001b[0m\u001b[0;34m(\u001b[0m\u001b[0mweighted_sample_space\u001b[0m\u001b[0;34m[\u001b[0m\u001b[0moutcome\u001b[0m\u001b[0;34m]\u001b[0m \u001b[0;32mfor\u001b[0m \u001b[0moutcome\u001b[0m \u001b[0;32min\u001b[0m \u001b[0mevent\u001b[0m\u001b[0;34m)\u001b[0m\u001b[0;34m\u001b[0m\u001b[0;34m\u001b[0m\u001b[0m\n\u001b[0;32m----> 3\u001b[0;31m \u001b[0;32massert\u001b[0m  \u001b[0mevent_size\u001b[0m \u001b[0;34m==\u001b[0m \u001b[0;36m5\u001b[0m\u001b[0;34m\u001b[0m\u001b[0;34m\u001b[0m\u001b[0m\n\u001b[0m",
      "\u001b[0;31mAssertionError\u001b[0m: "
     ]
    }
   ],
   "source": [
    "event = get_matching_event(is_head_or_tails,weighted_sample_space)\n",
    "event_size = sum(weighted_sample_space[outcome] for outcome in event)\n",
    "assert  event_size == 5"
   ]
  },
  {
   "cell_type": "code",
   "execution_count": 13,
   "id": "2293f0eb",
   "metadata": {},
   "outputs": [],
   "source": [
    "def compute_event_probability(event_condition,generic_sample_space):\n",
    "    event = get_matching_event(event_condition,generic_sample_space)\n",
    "    if type(generic_sample_space) == type(set()):\n",
    "        return len(event)/len(generic_sample_space)\n",
    "    \n",
    "    event_size = sum(generic_sample_space[outcome] for outcome in event)\n",
    "    return event_size/sum(generic_sample_space.values())"
   ]
  },
  {
   "cell_type": "code",
   "execution_count": 14,
   "id": "2f609e1c",
   "metadata": {},
   "outputs": [
    {
     "name": "stdout",
     "output_type": "stream",
     "text": [
      "Probability of event arising from 'is_head_or_tails' is 0.2\n",
      "Probability of event arising from 'is_heads' is 0.0\n",
      "Probability of event arising from 'is_tails' is 0.2\n",
      "Probability of event arising from 'is_neither' is 0.8\n"
     ]
    }
   ],
   "source": [
    "for event_condition in event_conditions:\n",
    "    prob = compute_event_probability(event_condition, weighted_sample_space)\n",
    "    name = event_condition.__name__\n",
    "    print(f\"Probability of event arising from '{name}' is {prob}\")"
   ]
  },
  {
   "cell_type": "markdown",
   "id": "4d852ba0",
   "metadata": {},
   "source": [
    "##  Computing nontrivial probabilities \n",
    "Chúng ta sẽ giải quyết một số vấn đề ví dụ bằng cách sử dụng *compute_event_probability*"
   ]
  },
  {
   "cell_type": "markdown",
   "id": "bc799b1b",
   "metadata": {},
   "source": [
    "### 1.2.1 Problem 1: Phân tính 1 gia đình với 4 người con \n",
    "Giả sử 1 gia đình có 4 người con. Xác xuất 2 người con là nam ?. Chúng ta sẽ giả sử rằng mỗi con đc sinh ra là nam hoặc nữ. Vì vậy chúng ta có thể xây dựng 1 không gian mẫu không có trọng lượng cái nơi mà mỗi outcome đại diện cho 1 sequences có thể xảy ra của 4 người con được show ở dưới "
   ]
  },
  {
   "cell_type": "markdown",
   "id": "f1108003",
   "metadata": {},
   "source": [
    "BBBB\n",
    "BBBG \n",
    "BBGB\n",
    "BGBB\n",
    "GBBB\n",
    "GGBB\n",
    "GBBG\n",
    "GBBG\n",
    "BBGG\n",
    "BGBG\n",
    "GBGB\n",
    "BGGB\n",
    "BGGG\n",
    "GGGB\n",
    "GBGG\n",
    "GGBG\n",
    "GGGG"
   ]
  },
  {
   "cell_type": "code",
   "execution_count": 15,
   "id": "d3c12db9",
   "metadata": {},
   "outputs": [
    {
     "data": {
      "text/plain": [
       "{('Boy', 'Boy', 'Boy', 'Boy'),\n",
       " ('Boy', 'Boy', 'Boy', 'Girl'),\n",
       " ('Boy', 'Boy', 'Girl', 'Boy'),\n",
       " ('Boy', 'Boy', 'Girl', 'Girl'),\n",
       " ('Boy', 'Girl', 'Boy', 'Boy'),\n",
       " ('Boy', 'Girl', 'Boy', 'Girl'),\n",
       " ('Boy', 'Girl', 'Girl', 'Boy'),\n",
       " ('Boy', 'Girl', 'Girl', 'Girl'),\n",
       " ('Girl', 'Boy', 'Boy', 'Boy'),\n",
       " ('Girl', 'Boy', 'Boy', 'Girl'),\n",
       " ('Girl', 'Boy', 'Girl', 'Boy'),\n",
       " ('Girl', 'Boy', 'Girl', 'Girl'),\n",
       " ('Girl', 'Girl', 'Boy', 'Boy'),\n",
       " ('Girl', 'Girl', 'Boy', 'Girl'),\n",
       " ('Girl', 'Girl', 'Girl', 'Boy'),\n",
       " ('Girl', 'Girl', 'Girl', 'Girl')}"
      ]
     },
     "execution_count": 15,
     "metadata": {},
     "output_type": "execute_result"
    }
   ],
   "source": [
    "possible_children= ['Boy','Girl']\n",
    "sample_space = set()\n",
    "for child_1 in possible_children:\n",
    "    for child_2 in possible_children:\n",
    "        for child_3 in possible_children:\n",
    "            for child_4 in possible_children:\n",
    "                outcome = (child_1,child_2,child_3,child_4)\n",
    "                sample_space.add(outcome)\n",
    "sample_space"
   ]
  },
  {
   "cell_type": "markdown",
   "id": "8b2e891c",
   "metadata": {},
   "source": [
    "Chúng ta đã chạy 4 for nested lốp và khám phá ra 1 trật tự của 4 trường hợp. Nhưng ở trên kp là code tối ưu nhất để sử dụng. Chúng ta có thể dễ dàng tạo ra không gian mẫu sử dụng *Python*`itertools.product` function nó sẽ trả về cặt combinartions của tất cả các phần tử trong tất cả input list."
   ]
  },
  {
   "cell_type": "code",
   "execution_count": 16,
   "id": "5bb6506d",
   "metadata": {},
   "outputs": [
    {
     "data": {
      "text/plain": [
       "{('Boy', 'Boy', 'Boy', 'Boy'),\n",
       " ('Boy', 'Boy', 'Boy', 'Girl'),\n",
       " ('Boy', 'Boy', 'Girl', 'Boy'),\n",
       " ('Boy', 'Boy', 'Girl', 'Girl'),\n",
       " ('Boy', 'Girl', 'Boy', 'Boy'),\n",
       " ('Boy', 'Girl', 'Boy', 'Girl'),\n",
       " ('Boy', 'Girl', 'Girl', 'Boy'),\n",
       " ('Boy', 'Girl', 'Girl', 'Girl'),\n",
       " ('Girl', 'Boy', 'Boy', 'Boy'),\n",
       " ('Girl', 'Boy', 'Boy', 'Girl'),\n",
       " ('Girl', 'Boy', 'Girl', 'Boy'),\n",
       " ('Girl', 'Boy', 'Girl', 'Girl'),\n",
       " ('Girl', 'Girl', 'Boy', 'Boy'),\n",
       " ('Girl', 'Girl', 'Boy', 'Girl'),\n",
       " ('Girl', 'Girl', 'Girl', 'Boy'),\n",
       " ('Girl', 'Girl', 'Girl', 'Girl')}"
      ]
     },
     "execution_count": 16,
     "metadata": {},
     "output_type": "execute_result"
    }
   ],
   "source": [
    "from itertools import  product\n",
    "all_combinations = product(*(4*[possible_children]))\n",
    "set(all_combinations)"
   ]
  },
  {
   "cell_type": "markdown",
   "id": "32b4ea08",
   "metadata": {},
   "source": [
    "Chúng ta có thể sử dụng tốt hơn bởi sử dụng code\n",
    "```\n",
    "set(product(possible_children,repeat=4))\n",
    "```"
   ]
  },
  {
   "cell_type": "code",
   "execution_count": 17,
   "id": "3c3c8c53",
   "metadata": {},
   "outputs": [],
   "source": [
    "sample_space_efficient = set(product(possible_children, repeat=4))"
   ]
  },
  {
   "cell_type": "markdown",
   "id": "5a4c7303",
   "metadata": {},
   "source": [
    "Tính xác suất của trường hợp 2 boys\n"
   ]
  },
  {
   "cell_type": "code",
   "execution_count": 18,
   "id": "e854c03f",
   "metadata": {},
   "outputs": [],
   "source": [
    "def has_two_boys(outcome):\n",
    "    return len([child for child in outcome if child == 'Boy']) == 2"
   ]
  },
  {
   "cell_type": "code",
   "execution_count": 19,
   "id": "dbabc202",
   "metadata": {},
   "outputs": [
    {
     "name": "stdout",
     "output_type": "stream",
     "text": [
      "Probability of 2 boys is 0.375\n"
     ]
    }
   ],
   "source": [
    "prob = compute_event_probability(has_two_boys, sample_space)\n",
    "print(f\"Probability of 2 boys is {prob}\")\n",
    "#Probability of 2 boys is 0.37"
   ]
  },
  {
   "cell_type": "markdown",
   "id": "73129cee",
   "metadata": {},
   "source": [
    "### 1.2.2: Problem 2: Phân tích nhiều con xúc xắc\n",
    "\n",
    "Giả sử chúng ta 1 cái xúc xắc và các mặt đánh số từ 1 tới 6. và tung nó lên 6 lần. vậy xác xuất mỗi lầ là là 21 ? "
   ]
  },
  {
   "cell_type": "code",
   "execution_count": 20,
   "id": "fef7a30a",
   "metadata": {},
   "outputs": [
    {
     "name": "stdout",
     "output_type": "stream",
     "text": [
      "[1, 2, 3, 4, 5, 6]\n"
     ]
    }
   ],
   "source": [
    "possible_rolls = list(range(1,7))\n",
    "print(possible_rolls)"
   ]
  },
  {
   "cell_type": "markdown",
   "id": "6709a6eb",
   "metadata": {},
   "source": [
    "Tiếp đến chúng ta tạo 1 không gian mẫu cho 6 lần tung xúc xắc sử dụng `product function`"
   ]
  },
  {
   "cell_type": "code",
   "execution_count": 21,
   "id": "86165f40",
   "metadata": {},
   "outputs": [
    {
     "data": {
      "text/plain": [
       "{(3, 1, 4, 6, 4, 3),\n",
       " (6, 1, 3, 6, 3, 3),\n",
       " (2, 4, 2, 6, 4, 3),\n",
       " (2, 6, 4, 6, 3, 6),\n",
       " (3, 1, 1, 2, 2, 3),\n",
       " (2, 2, 5, 5, 5, 5),\n",
       " (1, 3, 6, 3, 6, 5),\n",
       " (6, 2, 3, 3, 2, 6),\n",
       " (6, 1, 4, 1, 2, 5),\n",
       " (2, 5, 2, 3, 3, 6),\n",
       " (6, 2, 3, 2, 3, 2),\n",
       " (2, 3, 3, 6, 3, 1),\n",
       " (1, 3, 6, 1, 3, 6),\n",
       " (1, 6, 1, 6, 4, 4),\n",
       " (4, 4, 4, 5, 5, 1),\n",
       " (3, 4, 2, 1, 6, 6),\n",
       " (3, 1, 6, 5, 2, 6),\n",
       " (3, 1, 6, 4, 3, 2),\n",
       " (3, 5, 3, 3, 2, 3),\n",
       " (3, 6, 5, 3, 3, 4),\n",
       " (6, 4, 4, 5, 5, 2),\n",
       " (4, 5, 6, 1, 6, 4),\n",
       " (5, 1, 3, 6, 4, 2),\n",
       " (3, 6, 3, 5, 5, 6),\n",
       " (3, 4, 2, 6, 6, 1),\n",
       " (6, 3, 5, 3, 1, 1),\n",
       " (1, 2, 6, 2, 2, 2),\n",
       " (1, 4, 2, 6, 5, 3),\n",
       " (6, 5, 4, 1, 5, 1),\n",
       " (2, 3, 5, 1, 3, 3),\n",
       " (1, 1, 1, 1, 6, 3),\n",
       " (1, 2, 2, 4, 1, 4),\n",
       " (3, 6, 4, 5, 6, 6),\n",
       " (6, 5, 3, 1, 5, 3),\n",
       " (4, 2, 5, 2, 1, 2),\n",
       " (1, 5, 3, 2, 6, 5),\n",
       " (2, 4, 1, 5, 3, 6),\n",
       " (2, 1, 2, 3, 5, 5),\n",
       " (3, 2, 4, 4, 5, 4),\n",
       " (2, 6, 1, 1, 6, 3),\n",
       " (5, 4, 5, 5, 6, 2),\n",
       " (2, 3, 4, 3, 6, 5),\n",
       " (6, 6, 6, 2, 2, 3),\n",
       " (3, 5, 4, 5, 1, 1),\n",
       " (4, 2, 4, 4, 4, 4),\n",
       " (4, 4, 5, 2, 3, 6),\n",
       " (5, 6, 5, 1, 3, 6),\n",
       " (5, 1, 2, 5, 3, 5),\n",
       " (2, 5, 4, 5, 3, 4),\n",
       " (1, 2, 1, 1, 2, 2),\n",
       " (2, 5, 6, 4, 6, 1),\n",
       " (5, 1, 2, 4, 4, 1),\n",
       " (1, 6, 5, 3, 3, 2),\n",
       " (1, 3, 2, 6, 4, 4),\n",
       " (6, 3, 4, 5, 2, 2),\n",
       " (4, 6, 6, 5, 5, 6),\n",
       " (6, 2, 3, 1, 1, 2),\n",
       " (6, 6, 5, 4, 5, 5),\n",
       " (2, 5, 1, 1, 1, 4),\n",
       " (3, 5, 5, 5, 2, 1),\n",
       " (4, 2, 3, 5, 6, 3),\n",
       " (2, 5, 2, 1, 2, 2),\n",
       " (4, 2, 5, 4, 5, 4),\n",
       " (4, 6, 6, 4, 6, 2),\n",
       " (6, 6, 3, 5, 6, 4),\n",
       " (4, 6, 1, 6, 3, 1),\n",
       " (6, 1, 1, 6, 4, 3),\n",
       " (3, 3, 6, 4, 1, 6),\n",
       " (3, 1, 6, 3, 1, 2),\n",
       " (4, 6, 3, 1, 3, 6),\n",
       " (5, 6, 2, 4, 3, 3),\n",
       " (4, 5, 4, 1, 6, 2),\n",
       " (2, 6, 2, 6, 4, 6),\n",
       " (3, 6, 3, 4, 3, 6),\n",
       " (4, 3, 3, 1, 6, 2),\n",
       " (6, 2, 1, 3, 3, 6),\n",
       " (3, 6, 3, 3, 4, 2),\n",
       " (1, 2, 5, 2, 6, 6),\n",
       " (6, 2, 1, 2, 4, 2),\n",
       " (2, 3, 1, 6, 4, 1),\n",
       " (3, 1, 4, 5, 3, 6),\n",
       " (6, 2, 6, 2, 2, 5),\n",
       " (6, 4, 2, 6, 5, 6),\n",
       " (3, 6, 4, 4, 4, 6),\n",
       " (1, 4, 6, 2, 1, 6),\n",
       " (5, 3, 5, 6, 4, 4),\n",
       " (4, 3, 5, 4, 1, 3),\n",
       " (6, 2, 6, 1, 3, 1),\n",
       " (6, 4, 2, 5, 6, 2),\n",
       " (3, 6, 1, 5, 6, 6),\n",
       " (1, 1, 6, 2, 4, 2),\n",
       " (2, 4, 1, 3, 2, 2),\n",
       " (3, 2, 6, 5, 1, 2),\n",
       " (1, 1, 5, 2, 1, 1),\n",
       " (6, 5, 2, 2, 5, 5),\n",
       " (4, 6, 5, 3, 5, 5),\n",
       " (6, 5, 2, 1, 6, 1),\n",
       " (1, 4, 1, 5, 3, 6),\n",
       " (5, 6, 5, 4, 6, 2),\n",
       " (4, 3, 4, 6, 4, 5),\n",
       " (2, 6, 5, 2, 1, 1),\n",
       " (5, 6, 6, 5, 5, 6),\n",
       " (1, 3, 6, 3, 3, 2),\n",
       " (4, 6, 6, 3, 3, 2),\n",
       " (1, 1, 4, 4, 4, 3),\n",
       " (6, 1, 5, 4, 2, 5),\n",
       " (6, 1, 3, 5, 3, 4),\n",
       " (4, 3, 1, 2, 2, 5),\n",
       " (6, 1, 1, 5, 1, 3),\n",
       " (6, 5, 6, 4, 3, 3),\n",
       " (1, 3, 4, 4, 5, 1),\n",
       " (1, 6, 2, 3, 3, 2),\n",
       " (2, 2, 2, 3, 4, 1),\n",
       " (5, 2, 3, 4, 4, 5),\n",
       " (2, 6, 6, 3, 3, 4),\n",
       " (2, 6, 4, 4, 4, 3),\n",
       " (4, 4, 3, 2, 4, 6),\n",
       " (6, 4, 1, 4, 5, 5),\n",
       " (6, 2, 1, 1, 1, 2),\n",
       " (2, 3, 5, 4, 2, 3),\n",
       " (4, 4, 4, 4, 5, 2),\n",
       " (3, 4, 4, 2, 4, 5),\n",
       " (1, 2, 5, 1, 4, 6),\n",
       " (4, 5, 6, 3, 1, 6),\n",
       " (2, 5, 2, 1, 5, 3),\n",
       " (4, 5, 2, 2, 6, 6),\n",
       " (3, 2, 1, 1, 2, 6),\n",
       " (6, 2, 4, 2, 5, 6),\n",
       " (2, 1, 2, 3, 2, 2),\n",
       " (1, 2, 5, 6, 4, 1),\n",
       " (3, 6, 1, 4, 4, 6),\n",
       " (3, 6, 5, 1, 5, 1),\n",
       " (2, 3, 4, 5, 6, 1),\n",
       " (3, 2, 2, 3, 6, 5),\n",
       " (4, 3, 2, 4, 1, 3),\n",
       " (3, 6, 1, 3, 5, 2),\n",
       " (5, 6, 5, 3, 3, 2),\n",
       " (3, 2, 2, 1, 3, 6),\n",
       " (6, 2, 4, 6, 1, 6),\n",
       " (4, 1, 6, 3, 6, 2),\n",
       " (4, 6, 5, 1, 4, 1),\n",
       " (5, 4, 3, 2, 4, 4),\n",
       " (3, 6, 2, 4, 5, 6),\n",
       " (5, 4, 6, 6, 3, 3),\n",
       " (1, 4, 2, 3, 3, 5),\n",
       " (3, 2, 4, 5, 1, 2),\n",
       " (1, 5, 5, 3, 5, 4),\n",
       " (2, 6, 3, 2, 4, 2),\n",
       " (1, 3, 6, 2, 1, 2),\n",
       " (3, 4, 3, 4, 5, 6),\n",
       " (4, 3, 1, 6, 4, 5),\n",
       " (5, 3, 4, 2, 3, 2),\n",
       " (4, 4, 3, 1, 1, 6),\n",
       " (6, 2, 5, 6, 2, 6),\n",
       " (6, 1, 5, 2, 1, 1),\n",
       " (2, 5, 6, 6, 1, 3),\n",
       " (4, 4, 1, 2, 4, 4),\n",
       " (5, 2, 6, 1, 3, 5),\n",
       " (4, 3, 2, 6, 5, 5),\n",
       " (4, 2, 2, 6, 2, 1),\n",
       " (5, 5, 1, 4, 1, 1),\n",
       " (3, 1, 2, 3, 5, 6),\n",
       " (5, 2, 2, 3, 3, 6),\n",
       " (4, 2, 4, 1, 2, 6),\n",
       " (4, 6, 6, 6, 1, 4),\n",
       " (4, 6, 6, 3, 6, 3),\n",
       " (2, 1, 1, 2, 2, 5),\n",
       " (4, 2, 5, 2, 6, 1),\n",
       " (6, 1, 1, 5, 4, 4),\n",
       " (1, 5, 1, 1, 6, 6),\n",
       " (6, 1, 2, 5, 5, 2),\n",
       " (1, 4, 4, 5, 2, 1),\n",
       " (1, 3, 2, 4, 6, 1),\n",
       " (5, 5, 6, 3, 3, 3),\n",
       " (3, 4, 1, 2, 4, 5),\n",
       " (1, 2, 2, 1, 4, 6),\n",
       " (3, 2, 5, 4, 2, 6),\n",
       " (2, 5, 5, 4, 6, 4),\n",
       " (6, 6, 3, 6, 3, 2),\n",
       " (4, 1, 5, 2, 5, 5),\n",
       " (4, 1, 3, 2, 3, 4),\n",
       " (2, 6, 6, 3, 6, 5),\n",
       " (4, 5, 3, 3, 1, 6),\n",
       " (2, 6, 2, 4, 5, 3),\n",
       " (4, 5, 4, 3, 2, 4),\n",
       " (5, 2, 1, 4, 5, 5),\n",
       " (6, 2, 3, 4, 1, 5),\n",
       " (3, 6, 1, 2, 2, 2),\n",
       " (4, 1, 5, 1, 6, 1),\n",
       " (3, 3, 6, 2, 3, 3),\n",
       " (4, 6, 1, 3, 1, 3),\n",
       " (6, 2, 1, 1, 4, 3),\n",
       " (6, 6, 4, 1, 2, 4),\n",
       " (1, 6, 4, 2, 3, 6),\n",
       " (2, 5, 2, 4, 2, 5),\n",
       " (1, 4, 5, 5, 3, 1),\n",
       " (2, 3, 6, 2, 5, 6),\n",
       " (3, 4, 2, 2, 5, 5),\n",
       " (1, 2, 3, 4, 4, 3),\n",
       " (3, 6, 6, 1, 4, 4),\n",
       " (5, 3, 2, 6, 6, 5),\n",
       " (5, 4, 2, 1, 1, 6),\n",
       " (5, 4, 3, 1, 2, 4),\n",
       " (3, 3, 5, 4, 6, 5),\n",
       " (6, 1, 6, 2, 6, 6),\n",
       " (2, 6, 3, 1, 2, 2),\n",
       " (4, 3, 1, 5, 2, 5),\n",
       " (3, 4, 2, 6, 1, 5),\n",
       " (5, 3, 5, 3, 2, 6),\n",
       " (4, 3, 1, 4, 3, 1),\n",
       " (5, 2, 3, 6, 4, 1),\n",
       " (6, 5, 4, 3, 4, 4),\n",
       " (6, 5, 2, 3, 2, 3),\n",
       " (1, 5, 4, 4, 5, 6),\n",
       " (1, 4, 1, 3, 4, 3),\n",
       " (6, 2, 2, 6, 2, 6),\n",
       " (4, 4, 1, 1, 2, 4),\n",
       " (5, 4, 1, 2, 5, 4),\n",
       " (6, 3, 5, 6, 4, 5),\n",
       " (1, 6, 5, 4, 2, 4),\n",
       " (1, 5, 3, 3, 6, 4),\n",
       " (2, 2, 5, 4, 3, 3),\n",
       " (4, 4, 2, 1, 3, 4),\n",
       " (1, 5, 6, 6, 1, 3),\n",
       " (2, 2, 4, 6, 5, 5),\n",
       " (5, 2, 5, 1, 4, 3),\n",
       " (2, 6, 6, 1, 4, 1),\n",
       " (2, 4, 2, 6, 1, 2),\n",
       " (1, 6, 6, 4, 3, 4),\n",
       " (2, 5, 4, 6, 2, 3),\n",
       " (1, 3, 3, 4, 5, 4),\n",
       " (1, 3, 1, 5, 6, 3),\n",
       " (5, 1, 3, 1, 1, 6),\n",
       " (6, 3, 4, 6, 1, 1),\n",
       " (6, 1, 4, 4, 6, 4),\n",
       " (1, 4, 3, 6, 5, 6),\n",
       " (4, 6, 6, 6, 4, 5),\n",
       " (2, 3, 6, 1, 3, 6),\n",
       " (2, 5, 2, 2, 1, 1),\n",
       " (3, 6, 2, 6, 5, 2),\n",
       " (1, 4, 2, 5, 3, 1),\n",
       " (3, 3, 5, 3, 3, 5),\n",
       " (4, 2, 6, 1, 6, 5),\n",
       " (2, 1, 4, 1, 1, 4),\n",
       " (6, 6, 3, 6, 6, 3),\n",
       " (6, 6, 1, 6, 4, 2),\n",
       " (6, 4, 4, 5, 2, 1),\n",
       " (3, 2, 3, 4, 3, 6),\n",
       " (4, 1, 1, 6, 2, 5),\n",
       " (4, 5, 6, 1, 3, 3),\n",
       " (4, 1, 3, 2, 6, 5),\n",
       " (5, 1, 3, 6, 1, 1),\n",
       " (3, 6, 3, 5, 2, 5),\n",
       " (2, 4, 1, 4, 1, 4),\n",
       " (3, 2, 5, 3, 6, 3),\n",
       " (3, 6, 1, 2, 5, 3),\n",
       " (4, 5, 2, 3, 3, 4),\n",
       " (5, 4, 4, 5, 4, 4),\n",
       " (4, 1, 6, 5, 1, 4),\n",
       " (5, 4, 1, 1, 2, 4),\n",
       " (5, 2, 6, 3, 3, 1),\n",
       " (6, 2, 6, 3, 1, 4),\n",
       " (3, 6, 4, 5, 3, 5),\n",
       " (2, 4, 6, 3, 3, 6),\n",
       " (1, 5, 3, 2, 3, 4),\n",
       " (1, 5, 1, 4, 5, 6),\n",
       " (6, 3, 5, 5, 2, 5),\n",
       " (1, 2, 6, 4, 3, 6),\n",
       " (3, 4, 3, 2, 6, 3),\n",
       " (1, 5, 1, 3, 6, 2),\n",
       " (3, 3, 1, 1, 1, 3),\n",
       " (3, 3, 6, 5, 2, 3),\n",
       " (5, 2, 1, 6, 5, 1),\n",
       " (5, 2, 5, 5, 6, 3),\n",
       " (6, 5, 2, 3, 5, 4),\n",
       " (1, 4, 1, 6, 2, 5),\n",
       " (1, 5, 2, 4, 6, 6),\n",
       " (3, 1, 2, 1, 6, 3),\n",
       " (5, 3, 1, 3, 4, 4),\n",
       " (6, 3, 3, 6, 5, 5),\n",
       " (5, 2, 2, 1, 4, 3),\n",
       " (1, 3, 2, 6, 1, 3),\n",
       " (1, 6, 4, 4, 4, 2),\n",
       " (2, 5, 2, 6, 3, 1),\n",
       " (5, 6, 6, 6, 5, 5),\n",
       " (6, 6, 5, 4, 2, 4),\n",
       " (6, 6, 3, 5, 3, 3),\n",
       " (4, 6, 6, 4, 3, 1),\n",
       " (1, 2, 4, 2, 2, 5),\n",
       " (2, 3, 3, 1, 3, 6),\n",
       " (1, 1, 5, 6, 3, 6),\n",
       " (2, 3, 1, 1, 1, 5),\n",
       " (3, 3, 5, 6, 6, 1),\n",
       " (4, 4, 2, 1, 6, 5),\n",
       " (5, 1, 2, 6, 5, 5),\n",
       " (3, 1, 4, 4, 1, 4),\n",
       " (6, 1, 1, 6, 1, 2),\n",
       " (4, 5, 4, 1, 3, 1),\n",
       " (1, 1, 5, 5, 4, 2),\n",
       " (1, 6, 6, 4, 6, 5),\n",
       " (2, 6, 2, 6, 1, 5),\n",
       " (5, 3, 5, 5, 2, 2),\n",
       " (2, 5, 3, 6, 4, 1),\n",
       " (4, 1, 5, 3, 2, 3),\n",
       " (4, 1, 1, 4, 1, 1),\n",
       " (1, 6, 2, 6, 6, 6),\n",
       " (3, 6, 3, 3, 1, 1),\n",
       " (2, 1, 3, 6, 5, 3),\n",
       " (1, 2, 5, 2, 3, 5),\n",
       " (6, 2, 1, 2, 1, 1),\n",
       " (5, 4, 1, 5, 4, 4),\n",
       " (5, 6, 2, 5, 5, 3),\n",
       " (3, 1, 3, 6, 4, 6),\n",
       " (3, 3, 3, 3, 4, 5),\n",
       " (5, 3, 6, 5, 3, 2),\n",
       " (1, 4, 6, 5, 5, 5),\n",
       " (6, 4, 2, 5, 3, 1),\n",
       " (3, 6, 1, 5, 3, 5),\n",
       " (2, 1, 2, 5, 1, 5),\n",
       " (1, 5, 1, 2, 4, 2),\n",
       " (6, 1, 6, 3, 3, 4),\n",
       " (4, 1, 6, 5, 4, 5),\n",
       " (2, 1, 5, 1, 5, 5),\n",
       " (1, 5, 6, 1, 5, 4),\n",
       " (2, 1, 6, 1, 6, 3),\n",
       " (6, 3, 3, 5, 2, 5),\n",
       " (1, 5, 3, 5, 1, 6),\n",
       " (4, 3, 4, 6, 1, 4),\n",
       " (1, 5, 4, 5, 2, 4),\n",
       " (4, 3, 6, 2, 5, 4),\n",
       " (6, 3, 5, 4, 5, 2),\n",
       " (1, 5, 2, 2, 5, 2),\n",
       " (5, 6, 6, 5, 2, 5),\n",
       " (2, 3, 6, 3, 3, 2),\n",
       " (4, 4, 5, 3, 6, 1),\n",
       " (3, 4, 3, 5, 4, 5),\n",
       " (1, 1, 4, 4, 1, 2),\n",
       " (4, 2, 6, 3, 6, 1),\n",
       " (6, 5, 1, 3, 6, 2),\n",
       " (5, 1, 6, 3, 4, 3),\n",
       " (5, 5, 6, 4, 2, 5),\n",
       " (5, 5, 2, 5, 1, 3),\n",
       " (3, 3, 4, 5, 3, 3),\n",
       " (4, 2, 5, 3, 6, 3),\n",
       " (6, 6, 2, 4, 2, 4),\n",
       " (2, 5, 5, 1, 5, 1),\n",
       " (3, 5, 3, 1, 4, 4),\n",
       " (4, 4, 3, 2, 1, 5),\n",
       " (2, 2, 2, 5, 4, 5),\n",
       " (3, 1, 2, 4, 4, 5),\n",
       " (5, 3, 1, 6, 2, 6),\n",
       " (4, 3, 3, 4, 1, 6),\n",
       " (1, 3, 3, 2, 6, 1),\n",
       " (1, 6, 2, 5, 4, 6),\n",
       " (1, 6, 6, 2, 5, 1),\n",
       " (4, 3, 3, 3, 2, 2),\n",
       " (3, 4, 4, 2, 1, 4),\n",
       " (1, 6, 2, 4, 5, 2),\n",
       " (2, 3, 2, 1, 4, 4),\n",
       " (4, 5, 5, 5, 6, 1),\n",
       " (6, 6, 1, 5, 4, 3),\n",
       " (1, 2, 2, 2, 3, 5),\n",
       " (3, 2, 5, 5, 1, 5),\n",
       " (2, 3, 1, 1, 4, 6),\n",
       " (1, 2, 6, 6, 3, 2),\n",
       " (3, 2, 3, 2, 4, 3),\n",
       " (4, 5, 2, 2, 3, 5),\n",
       " (6, 2, 4, 2, 2, 5),\n",
       " (2, 4, 3, 1, 1, 2),\n",
       " (4, 5, 2, 1, 4, 1),\n",
       " (5, 3, 3, 5, 3, 2),\n",
       " (4, 1, 1, 4, 4, 2),\n",
       " (3, 6, 1, 3, 2, 1),\n",
       " (5, 6, 4, 4, 6, 5),\n",
       " (5, 4, 4, 3, 6, 1),\n",
       " (6, 6, 2, 6, 6, 6),\n",
       " (2, 4, 4, 2, 1, 6),\n",
       " (6, 1, 3, 3, 3, 4),\n",
       " (2, 4, 6, 1, 4, 3),\n",
       " (4, 1, 6, 3, 3, 1),\n",
       " (5, 4, 3, 2, 1, 3),\n",
       " (2, 4, 2, 3, 4, 4),\n",
       " (6, 3, 3, 3, 1, 1),\n",
       " (2, 2, 1, 3, 4, 4),\n",
       " (3, 4, 3, 4, 2, 5),\n",
       " (1, 5, 1, 5, 2, 4),\n",
       " (3, 5, 5, 4, 3, 6),\n",
       " (4, 3, 1, 6, 1, 4),\n",
       " (6, 5, 5, 4, 4, 6),\n",
       " (6, 1, 4, 3, 1, 1),\n",
       " (6, 1, 6, 3, 6, 5),\n",
       " (1, 6, 1, 3, 4, 5),\n",
       " (3, 4, 3, 3, 3, 1),\n",
       " (3, 5, 5, 3, 4, 2),\n",
       " (4, 4, 2, 3, 6, 1),\n",
       " (5, 2, 5, 2, 3, 5),\n",
       " (2, 6, 3, 4, 5, 6),\n",
       " (6, 3, 3, 5, 5, 6),\n",
       " (4, 4, 1, 2, 1, 3),\n",
       " (5, 5, 6, 2, 1, 1),\n",
       " (1, 5, 4, 5, 5, 5),\n",
       " (3, 1, 2, 3, 2, 5),\n",
       " (1, 2, 5, 4, 3, 1),\n",
       " (4, 4, 5, 6, 4, 3),\n",
       " (6, 5, 3, 5, 1, 6),\n",
       " (2, 2, 5, 5, 2, 2),\n",
       " (2, 3, 6, 3, 6, 3),\n",
       " (4, 4, 4, 6, 1, 2),\n",
       " (4, 2, 6, 6, 4, 3),\n",
       " (1, 6, 1, 6, 1, 1),\n",
       " (4, 4, 2, 2, 2, 3),\n",
       " (3, 2, 3, 6, 6, 3),\n",
       " (5, 1, 4, 3, 5, 3),\n",
       " (5, 5, 4, 4, 3, 5),\n",
       " (6, 5, 6, 5, 1, 4),\n",
       " (6, 6, 5, 2, 4, 1),\n",
       " (2, 5, 5, 4, 3, 3),\n",
       " (2, 5, 3, 5, 4, 2),\n",
       " (3, 3, 3, 5, 5, 1),\n",
       " (4, 5, 2, 5, 6, 1),\n",
       " (5, 1, 5, 2, 2, 6),\n",
       " (1, 3, 1, 6, 5, 2),\n",
       " (5, 1, 1, 3, 1, 4),\n",
       " (4, 6, 3, 5, 4, 3),\n",
       " (3, 2, 1, 2, 5, 1),\n",
       " (2, 3, 6, 2, 2, 5),\n",
       " (6, 6, 4, 4, 6, 3),\n",
       " (3, 4, 5, 1, 6, 4),\n",
       " (4, 5, 3, 6, 6, 5),\n",
       " (5, 6, 4, 3, 4, 5),\n",
       " (3, 4, 2, 2, 2, 4),\n",
       " (2, 1, 5, 3, 6, 1),\n",
       " (5, 3, 2, 6, 3, 4),\n",
       " (2, 6, 4, 1, 1, 3),\n",
       " (3, 2, 3, 5, 2, 5),\n",
       " (3, 2, 5, 5, 4, 6),\n",
       " (6, 2, 3, 5, 3, 5),\n",
       " (1, 2, 6, 6, 6, 3),\n",
       " (2, 4, 2, 2, 2, 4),\n",
       " (4, 3, 6, 2, 2, 1),\n",
       " (6, 4, 6, 1, 1, 5),\n",
       " (6, 1, 6, 2, 3, 5),\n",
       " (6, 5, 5, 2, 2, 2),\n",
       " (6, 1, 6, 1, 4, 1),\n",
       " (2, 3, 4, 4, 2, 6),\n",
       " (3, 5, 5, 2, 2, 2),\n",
       " (4, 4, 3, 4, 1, 1),\n",
       " (2, 4, 5, 2, 5, 5),\n",
       " (4, 1, 6, 6, 1, 3),\n",
       " (6, 1, 1, 3, 4, 4),\n",
       " (1, 5, 4, 3, 3, 1),\n",
       " (6, 3, 5, 6, 1, 4),\n",
       " (1, 2, 6, 5, 2, 5),\n",
       " (6, 3, 3, 3, 4, 2),\n",
       " (1, 5, 3, 3, 3, 3),\n",
       " (3, 3, 2, 2, 1, 5),\n",
       " (4, 2, 5, 5, 1, 5),\n",
       " (6, 1, 4, 3, 4, 2),\n",
       " (1, 4, 3, 5, 3, 4),\n",
       " (3, 5, 2, 5, 6, 3),\n",
       " (3, 5, 4, 4, 5, 4),\n",
       " (4, 2, 5, 4, 2, 1),\n",
       " (5, 5, 4, 2, 1, 1),\n",
       " (1, 5, 2, 5, 5, 5),\n",
       " (2, 2, 4, 6, 2, 4),\n",
       " (5, 5, 4, 3, 1, 5),\n",
       " (2, 6, 1, 4, 6, 6),\n",
       " (6, 6, 6, 6, 6, 1),\n",
       " (4, 3, 5, 1, 1, 4),\n",
       " (1, 6, 4, 6, 2, 5),\n",
       " (6, 6, 6, 5, 2, 6),\n",
       " (2, 3, 6, 6, 4, 5),\n",
       " (1, 2, 5, 4, 6, 2),\n",
       " (1, 3, 1, 5, 3, 2),\n",
       " (6, 1, 5, 3, 5, 2),\n",
       " (4, 5, 3, 4, 4, 1),\n",
       " (5, 3, 1, 4, 4, 3),\n",
       " (5, 5, 5, 4, 6, 4),\n",
       " (2, 3, 3, 2, 2, 5),\n",
       " (6, 4, 3, 6, 5, 4),\n",
       " (1, 6, 5, 6, 3, 5),\n",
       " (4, 4, 6, 6, 5, 1),\n",
       " (6, 6, 1, 6, 1, 1),\n",
       " (3, 6, 4, 4, 1, 3),\n",
       " (3, 4, 3, 6, 2, 1),\n",
       " (2, 1, 1, 3, 6, 6),\n",
       " (4, 3, 4, 3, 4, 6),\n",
       " (5, 5, 1, 5, 6, 2),\n",
       " (3, 2, 5, 3, 3, 2),\n",
       " (6, 1, 6, 5, 6, 1),\n",
       " (5, 1, 3, 2, 3, 6),\n",
       " (3, 2, 1, 5, 3, 3),\n",
       " (2, 6, 3, 6, 5, 2),\n",
       " (6, 1, 5, 1, 2, 6),\n",
       " (5, 6, 2, 6, 4, 2),\n",
       " (3, 4, 6, 6, 5, 2),\n",
       " (6, 1, 3, 1, 4, 1),\n",
       " (3, 1, 2, 5, 2, 1),\n",
       " (3, 6, 3, 6, 4, 5),\n",
       " (4, 1, 2, 4, 6, 6),\n",
       " (5, 2, 3, 1, 4, 6),\n",
       " (2, 6, 4, 1, 4, 4),\n",
       " (6, 1, 1, 2, 2, 4),\n",
       " (6, 5, 3, 4, 6, 1),\n",
       " (1, 1, 5, 1, 5, 4),\n",
       " (1, 1, 3, 2, 6, 3),\n",
       " (1, 3, 5, 2, 5, 6),\n",
       " (6, 2, 6, 6, 6, 3),\n",
       " (1, 5, 1, 3, 3, 1),\n",
       " (2, 4, 2, 1, 6, 1),\n",
       " (1, 4, 6, 6, 5, 4),\n",
       " (1, 3, 5, 1, 6, 2),\n",
       " (3, 5, 6, 2, 5, 1),\n",
       " (6, 5, 3, 2, 3, 2),\n",
       " (1, 1, 2, 1, 1, 5),\n",
       " (2, 6, 5, 1, 5, 4),\n",
       " (2, 4, 1, 6, 2, 5),\n",
       " (1, 5, 2, 4, 3, 5),\n",
       " (2, 4, 3, 2, 6, 5),\n",
       " (6, 3, 6, 2, 6, 2),\n",
       " (5, 2, 3, 4, 1, 2),\n",
       " (5, 5, 2, 3, 4, 6),\n",
       " (1, 5, 2, 3, 4, 1),\n",
       " (2, 3, 6, 4, 2, 1),\n",
       " (6, 3, 3, 6, 2, 4),\n",
       " (5, 4, 5, 6, 5, 1),\n",
       " (6, 4, 1, 4, 2, 2),\n",
       " (3, 3, 2, 2, 4, 6),\n",
       " (5, 1, 6, 5, 2, 6),\n",
       " (6, 6, 6, 3, 1, 2),\n",
       " (6, 1, 4, 6, 2, 4),\n",
       " (1, 2, 5, 1, 1, 3),\n",
       " (5, 5, 3, 3, 2, 3),\n",
       " (5, 5, 5, 3, 4, 4),\n",
       " (2, 2, 2, 6, 3, 4),\n",
       " (3, 1, 3, 2, 5, 5),\n",
       " (3, 4, 5, 4, 5, 1),\n",
       " (3, 4, 5, 3, 1, 6),\n",
       " (1, 6, 2, 6, 3, 5),\n",
       " (4, 5, 6, 6, 6, 3),\n",
       " (4, 3, 4, 1, 3, 2),\n",
       " (6, 1, 5, 6, 3, 4),\n",
       " (2, 1, 5, 5, 1, 3),\n",
       " (2, 1, 3, 6, 2, 2),\n",
       " (5, 4, 1, 5, 1, 3),\n",
       " (1, 2, 4, 3, 4, 5),\n",
       " (2, 3, 2, 2, 3, 3),\n",
       " (5, 6, 2, 5, 2, 2),\n",
       " (3, 1, 3, 6, 1, 5),\n",
       " (4, 1, 2, 2, 4, 2),\n",
       " (6, 4, 1, 6, 6, 4),\n",
       " (2, 3, 5, 6, 3, 2),\n",
       " (4, 4, 4, 6, 6, 1),\n",
       " (3, 6, 2, 4, 2, 3),\n",
       " (2, 2, 1, 4, 3, 6),\n",
       " (4, 3, 2, 3, 5, 6),\n",
       " (3, 2, 1, 5, 6, 4),\n",
       " (6, 4, 4, 6, 6, 2),\n",
       " (5, 4, 4, 3, 1, 5),\n",
       " (2, 6, 1, 6, 6, 2),\n",
       " (6, 1, 2, 2, 5, 3),\n",
       " (2, 1, 4, 2, 6, 5),\n",
       " (6, 1, 1, 1, 5, 1),\n",
       " (6, 5, 6, 2, 4, 6),\n",
       " (5, 5, 2, 1, 2, 2),\n",
       " (6, 6, 3, 3, 3, 3),\n",
       " (5, 2, 1, 1, 5, 6),\n",
       " (2, 6, 2, 1, 5, 4),\n",
       " (1, 1, 3, 5, 4, 5),\n",
       " (5, 6, 5, 6, 3, 5),\n",
       " (3, 5, 4, 3, 5, 5),\n",
       " (3, 1, 5, 4, 4, 3),\n",
       " (1, 4, 5, 2, 3, 2),\n",
       " (3, 5, 4, 2, 6, 1),\n",
       " (1, 2, 3, 1, 4, 4),\n",
       " (1, 3, 6, 5, 1, 5),\n",
       " (3, 5, 3, 1, 1, 3),\n",
       " (5, 3, 4, 5, 3, 5),\n",
       " (3, 1, 2, 4, 1, 4),\n",
       " (3, 3, 5, 1, 6, 6),\n",
       " (2, 3, 6, 4, 5, 2),\n",
       " (3, 3, 1, 2, 5, 4),\n",
       " (5, 3, 4, 4, 4, 1),\n",
       " (1, 4, 4, 4, 6, 4),\n",
       " (3, 4, 2, 3, 1, 6),\n",
       " (1, 6, 2, 4, 2, 1),\n",
       " (5, 1, 4, 5, 3, 6),\n",
       " (6, 6, 6, 3, 4, 3),\n",
       " (2, 3, 2, 1, 1, 3),\n",
       " (5, 5, 5, 6, 2, 6),\n",
       " (5, 5, 3, 3, 5, 4),\n",
       " (4, 6, 1, 2, 5, 6),\n",
       " (6, 2, 5, 1, 1, 3),\n",
       " (3, 6, 6, 1, 1, 1),\n",
       " (6, 4, 1, 5, 4, 4),\n",
       " (4, 3, 4, 1, 6, 3),\n",
       " (2, 2, 1, 2, 2, 2),\n",
       " (4, 3, 2, 1, 4, 2),\n",
       " (5, 6, 4, 4, 3, 4),\n",
       " (5, 4, 2, 4, 6, 3),\n",
       " (3, 1, 1, 6, 1, 5),\n",
       " (2, 4, 3, 4, 6, 1),\n",
       " (1, 1, 2, 3, 2, 1),\n",
       " (4, 1, 5, 4, 6, 4),\n",
       " (3, 2, 6, 3, 5, 6),\n",
       " (1, 1, 3, 4, 1, 5),\n",
       " (1, 5, 4, 4, 2, 3),\n",
       " (3, 6, 3, 4, 5, 2),\n",
       " (6, 6, 2, 1, 5, 5),\n",
       " (2, 4, 2, 3, 1, 3),\n",
       " (1, 3, 5, 3, 1, 4),\n",
       " (1, 6, 6, 1, 3, 5),\n",
       " (2, 3, 5, 6, 6, 3),\n",
       " (1, 5, 5, 6, 6, 2),\n",
       " (1, 3, 1, 2, 6, 4),\n",
       " (5, 6, 3, 6, 6, 6),\n",
       " (3, 5, 5, 3, 1, 1),\n",
       " (4, 6, 2, 4, 4, 4),\n",
       " (3, 5, 1, 2, 6, 1),\n",
       " (5, 3, 4, 3, 1, 1),\n",
       " (4, 6, 5, 4, 6, 5),\n",
       " (1, 1, 1, 5, 5, 5),\n",
       " (4, 6, 1, 6, 6, 6),\n",
       " (1, 4, 3, 6, 2, 3),\n",
       " (4, 2, 6, 6, 1, 2),\n",
       " (6, 6, 4, 3, 4, 1),\n",
       " (3, 2, 3, 6, 3, 2),\n",
       " (6, 2, 1, 6, 2, 1),\n",
       " (6, 2, 3, 6, 4, 2),\n",
       " (6, 4, 3, 3, 4, 1),\n",
       " (1, 1, 4, 5, 5, 3),\n",
       " (1, 3, 6, 5, 4, 6),\n",
       " (3, 6, 4, 2, 3, 6),\n",
       " (4, 5, 1, 1, 5, 4),\n",
       " (1, 3, 6, 4, 5, 2),\n",
       " (6, 2, 2, 1, 1, 3),\n",
       " (5, 4, 4, 5, 1, 1),\n",
       " (5, 4, 6, 1, 5, 1),\n",
       " (2, 6, 6, 4, 4, 4),\n",
       " (3, 4, 5, 1, 3, 3),\n",
       " (3, 4, 1, 3, 3, 4),\n",
       " (2, 4, 4, 5, 1, 1),\n",
       " (5, 1, 1, 6, 6, 3),\n",
       " (5, 5, 3, 6, 3, 6),\n",
       " (5, 2, 1, 3, 5, 2),\n",
       " (5, 6, 1, 4, 3, 4),\n",
       " (6, 2, 5, 1, 4, 4),\n",
       " (3, 2, 2, 6, 3, 5),\n",
       " (2, 2, 4, 1, 4, 2),\n",
       " (6, 3, 1, 4, 6, 5),\n",
       " (2, 1, 4, 5, 5, 2),\n",
       " (3, 4, 4, 3, 6, 5),\n",
       " (1, 3, 2, 3, 1, 4),\n",
       " (2, 2, 3, 1, 4, 4),\n",
       " (4, 6, 2, 3, 1, 4),\n",
       " (6, 2, 4, 3, 6, 6),\n",
       " (6, 1, 2, 3, 1, 1),\n",
       " (6, 4, 6, 4, 6, 4),\n",
       " (4, 6, 6, 1, 3, 2),\n",
       " (3, 2, 5, 6, 6, 6),\n",
       " (2, 2, 6, 1, 6, 5),\n",
       " (6, 3, 6, 3, 5, 4),\n",
       " (6, 1, 1, 3, 1, 3),\n",
       " (1, 1, 3, 4, 4, 6),\n",
       " (1, 1, 1, 4, 2, 5),\n",
       " (1, 5, 6, 3, 4, 5),\n",
       " (6, 5, 3, 4, 1, 5),\n",
       " (2, 6, 2, 3, 1, 6),\n",
       " (1, 1, 3, 3, 5, 2),\n",
       " (1, 3, 5, 3, 4, 5),\n",
       " (6, 5, 4, 4, 2, 3),\n",
       " (4, 4, 3, 6, 2, 5),\n",
       " (1, 6, 3, 2, 6, 2),\n",
       " (5, 3, 1, 3, 1, 1),\n",
       " (4, 1, 1, 1, 1, 2),\n",
       " (5, 2, 6, 6, 3, 4),\n",
       " (3, 3, 6, 4, 6, 6),\n",
       " (4, 6, 5, 2, 5, 1),\n",
       " (4, 6, 1, 4, 5, 2),\n",
       " (3, 1, 5, 1, 2, 5),\n",
       " (1, 5, 1, 6, 6, 5),\n",
       " (5, 3, 6, 2, 3, 3),\n",
       " (5, 3, 4, 3, 4, 2),\n",
       " (6, 4, 2, 2, 3, 2),\n",
       " (5, 4, 2, 2, 5, 5),\n",
       " (6, 2, 5, 5, 5, 4),\n",
       " (6, 6, 4, 6, 2, 3),\n",
       " (5, 5, 3, 4, 1, 2),\n",
       " (2, 1, 3, 2, 1, 6),\n",
       " (6, 6, 2, 3, 5, 1),\n",
       " (5, 2, 2, 4, 4, 6),\n",
       " (6, 4, 3, 6, 2, 3),\n",
       " (6, 4, 5, 2, 6, 3),\n",
       " (5, 3, 5, 4, 6, 5),\n",
       " (6, 2, 1, 6, 5, 2),\n",
       " (4, 3, 4, 3, 1, 5),\n",
       " (2, 1, 1, 3, 3, 5),\n",
       " (1, 4, 6, 5, 2, 2),\n",
       " (5, 4, 2, 6, 1, 5),\n",
       " (5, 4, 3, 6, 2, 3),\n",
       " (2, 3, 1, 5, 5, 3),\n",
       " (3, 4, 4, 1, 4, 1),\n",
       " (5, 4, 2, 5, 2, 1),\n",
       " (2, 6, 3, 6, 2, 1),\n",
       " (4, 1, 3, 3, 4, 4),\n",
       " (6, 3, 1, 2, 5, 1),\n",
       " (2, 6, 5, 2, 6, 1),\n",
       " (4, 5, 4, 4, 3, 4),\n",
       " (2, 1, 6, 2, 2, 4),\n",
       " (5, 6, 2, 6, 1, 1),\n",
       " (5, 6, 4, 2, 5, 1),\n",
       " (1, 5, 6, 1, 2, 1),\n",
       " (5, 5, 2, 2, 1, 4),\n",
       " (3, 6, 3, 6, 1, 4),\n",
       " (4, 2, 1, 1, 5, 2),\n",
       " (2, 2, 2, 2, 4, 6),\n",
       " (3, 4, 2, 3, 6, 5),\n",
       " (1, 1, 5, 1, 2, 3),\n",
       " (1, 1, 3, 2, 3, 2),\n",
       " (1, 1, 1, 2, 1, 1),\n",
       " (2, 2, 2, 1, 5, 2),\n",
       " (1, 3, 5, 1, 3, 1),\n",
       " (5, 4, 5, 1, 2, 5),\n",
       " (6, 5, 1, 4, 2, 3),\n",
       " (1, 3, 1, 3, 3, 2),\n",
       " (6, 1, 3, 2, 6, 1),\n",
       " (2, 5, 6, 2, 4, 3),\n",
       " (6, 1, 2, 3, 4, 2),\n",
       " (6, 3, 1, 1, 1, 3),\n",
       " (5, 5, 1, 4, 4, 6),\n",
       " (3, 1, 3, 1, 2, 3),\n",
       " (2, 6, 4, 2, 6, 4),\n",
       " (1, 3, 4, 3, 5, 3),\n",
       " (6, 3, 4, 3, 6, 4),\n",
       " (1, 1, 1, 4, 5, 6),\n",
       " (1, 1, 2, 4, 6, 4),\n",
       " (2, 2, 2, 5, 1, 2),\n",
       " (2, 5, 1, 4, 4, 6),\n",
       " (4, 3, 1, 5, 4, 1),\n",
       " (6, 5, 6, 3, 4, 5),\n",
       " (1, 6, 3, 5, 4, 4),\n",
       " (3, 2, 5, 2, 2, 6),\n",
       " (6, 5, 2, 4, 3, 3),\n",
       " (6, 5, 4, 4, 5, 4),\n",
       " (6, 6, 6, 1, 6, 6),\n",
       " (3, 1, 6, 1, 5, 4),\n",
       " (2, 1, 1, 1, 1, 1),\n",
       " (5, 3, 4, 6, 2, 4),\n",
       " (3, 4, 4, 5, 6, 1),\n",
       " (5, 3, 2, 4, 6, 5),\n",
       " (4, 4, 6, 1, 5, 6),\n",
       " (4, 5, 6, 6, 3, 2),\n",
       " (3, 4, 3, 1, 2, 6),\n",
       " (5, 4, 6, 3, 1, 3),\n",
       " (1, 2, 4, 3, 1, 4),\n",
       " (3, 2, 4, 5, 6, 2),\n",
       " (3, 4, 1, 1, 4, 1),\n",
       " (6, 6, 2, 6, 3, 3),\n",
       " (4, 1, 2, 6, 1, 6),\n",
       " (2, 4, 1, 1, 6, 4),\n",
       " (6, 4, 1, 6, 3, 3),\n",
       " (5, 4, 5, 5, 3, 5),\n",
       " (4, 3, 5, 2, 6, 5),\n",
       " (1, 5, 4, 2, 5, 6),\n",
       " (4, 3, 2, 3, 2, 5),\n",
       " (6, 5, 3, 6, 2, 1),\n",
       " (6, 3, 3, 1, 6, 3),\n",
       " (3, 4, 4, 4, 2, 3),\n",
       " (2, 4, 3, 6, 4, 4),\n",
       " (2, 2, 1, 3, 1, 1),\n",
       " (5, 4, 1, 6, 3, 3),\n",
       " (6, 6, 5, 6, 6, 4),\n",
       " (6, 4, 6, 5, 2, 2),\n",
       " (2, 6, 5, 5, 4, 3),\n",
       " (2, 6, 1, 6, 3, 1),\n",
       " (3, 6, 1, 6, 1, 4),\n",
       " (2, 4, 3, 4, 1, 5),\n",
       " (4, 5, 2, 4, 4, 4),\n",
       " (2, 1, 4, 2, 3, 4),\n",
       " (5, 1, 2, 1, 6, 3),\n",
       " (2, 6, 5, 3, 1, 4),\n",
       " (5, 5, 4, 1, 3, 6),\n",
       " (6, 5, 6, 2, 1, 5),\n",
       " (2, 5, 1, 2, 2, 2),\n",
       " (5, 5, 1, 2, 3, 2),\n",
       " (3, 3, 1, 3, 6, 1),\n",
       " (2, 4, 4, 6, 5, 4),\n",
       " (2, 6, 2, 1, 2, 3),\n",
       " (6, 3, 6, 4, 2, 2),\n",
       " (1, 1, 3, 5, 1, 4),\n",
       " (3, 1, 5, 4, 1, 2),\n",
       " (5, 2, 6, 4, 4, 1),\n",
       " (1, 5, 5, 6, 1, 6),\n",
       " (3, 1, 2, 6, 6, 2),\n",
       " (5, 2, 2, 6, 4, 2),\n",
       " (2, 5, 4, 2, 5, 3),\n",
       " (2, 1, 1, 5, 3, 1),\n",
       " (1, 2, 3, 1, 1, 3),\n",
       " (6, 3, 5, 5, 4, 1),\n",
       " (3, 1, 3, 1, 5, 4),\n",
       " (3, 1, 1, 1, 3, 3),\n",
       " (6, 2, 3, 2, 3, 6),\n",
       " (4, 4, 4, 5, 5, 5),\n",
       " (4, 4, 2, 6, 6, 4),\n",
       " (3, 3, 5, 1, 3, 5),\n",
       " (3, 4, 5, 6, 1, 1),\n",
       " (3, 3, 1, 2, 2, 3),\n",
       " (1, 6, 1, 5, 5, 4),\n",
       " (6, 5, 2, 4, 6, 4),\n",
       " (1, 4, 4, 4, 3, 3),\n",
       " (5, 3, 2, 2, 5, 1),\n",
       " (1, 4, 2, 1, 6, 1),\n",
       " (3, 1, 6, 4, 3, 6),\n",
       " (4, 4, 1, 5, 1, 6),\n",
       " (3, 1, 4, 1, 6, 4),\n",
       " (6, 6, 2, 5, 1, 3),\n",
       " (1, 3, 6, 6, 3, 5),\n",
       " (1, 6, 4, 5, 5, 2),\n",
       " (3, 2, 6, 2, 3, 4),\n",
       " (3, 2, 4, 2, 1, 3),\n",
       " (3, 4, 2, 6, 6, 5),\n",
       " (6, 3, 5, 3, 1, 5),\n",
       " (5, 4, 5, 3, 2, 1),\n",
       " (1, 2, 6, 2, 2, 6),\n",
       " (1, 2, 2, 3, 1, 4),\n",
       " (3, 5, 2, 2, 6, 4),\n",
       " (4, 1, 5, 4, 3, 3),\n",
       " (2, 1, 2, 2, 6, 5),\n",
       " (2, 4, 5, 2, 2, 2),\n",
       " (2, 1, 5, 6, 5, 4),\n",
       " (5, 4, 5, 5, 6, 6),\n",
       " (5, 6, 3, 6, 3, 5),\n",
       " (3, 5, 4, 5, 1, 5),\n",
       " (5, 4, 1, 6, 6, 4),\n",
       " (4, 1, 4, 6, 6, 5),\n",
       " (3, 5, 4, 4, 2, 1),\n",
       " (4, 2, 2, 4, 6, 3),\n",
       " (3, 5, 2, 1, 2, 6),\n",
       " (2, 5, 6, 4, 6, 5),\n",
       " (5, 1, 2, 4, 4, 5),\n",
       " (1, 6, 5, 3, 3, 6),\n",
       " (1, 6, 3, 4, 4, 5),\n",
       " (4, 4, 6, 3, 5, 2),\n",
       " (1, 1, 4, 1, 6, 2),\n",
       " (3, 3, 1, 6, 4, 3),\n",
       " (2, 5, 1, 2, 5, 3),\n",
       " (5, 5, 1, 2, 6, 3),\n",
       " (5, 5, 3, 1, 5, 4),\n",
       " (6, 2, 3, 1, 1, 6),\n",
       " (6, 3, 4, 5, 2, 6),\n",
       " (3, 5, 5, 5, 2, 5),\n",
       " (1, 6, 3, 3, 5, 1),\n",
       " (6, 5, 4, 5, 1, 2),\n",
       " (1, 1, 1, 5, 2, 4),\n",
       " (2, 5, 2, 1, 2, 6),\n",
       " (6, 5, 6, 1, 5, 2),\n",
       " (4, 6, 1, 6, 3, 5),\n",
       " (5, 1, 5, 4, 4, 3),\n",
       " (3, 1, 6, 3, 1, 6),\n",
       " (5, 3, 6, 4, 1, 6),\n",
       " (3, 3, 2, 6, 5, 3),\n",
       " (5, 6, 2, 3, 4, 3),\n",
       " (3, 6, 5, 1, 2, 4),\n",
       " (4, 3, 3, 1, 6, 6),\n",
       " (5, 3, 5, 1, 5, 2),\n",
       " (1, 3, 6, 4, 2, 1),\n",
       " (6, 2, 1, 2, 4, 6),\n",
       " (5, 1, 6, 4, 5, 3),\n",
       " (4, 5, 4, 6, 6, 1),\n",
       " (6, 2, 2, 4, 5, 2),\n",
       " (1, 4, 2, 4, 4, 3),\n",
       " (2, 2, 6, 5, 2, 3),\n",
       " (4, 3, 5, 5, 5, 2),\n",
       " (1, 1, 6, 2, 4, 6),\n",
       " (2, 4, 1, 3, 2, 6),\n",
       " (3, 2, 6, 5, 1, 6),\n",
       " (3, 4, 6, 2, 1, 5),\n",
       " (1, 6, 2, 5, 6, 2),\n",
       " (3, 2, 4, 2, 4, 4),\n",
       " (5, 2, 3, 1, 1, 3),\n",
       " (2, 4, 6, 6, 4, 2),\n",
       " (2, 2, 4, 1, 1, 1),\n",
       " (5, 4, 5, 3, 5, 2),\n",
       " (4, 1, 4, 5, 3, 5),\n",
       " (2, 1, 6, 3, 1, 3),\n",
       " (5, 6, 1, 5, 5, 4),\n",
       " (2, 6, 5, 2, 1, 5),\n",
       " (4, 2, 2, 3, 4, 3),\n",
       " (4, 1, 3, 4, 4, 3),\n",
       " (5, 2, 4, 1, 2, 3),\n",
       " (2, 4, 3, 2, 3, 2),\n",
       " (5, 4, 6, 3, 6, 2),\n",
       " (4, 4, 5, 5, 1, 1),\n",
       " (6, 4, 3, 1, 4, 1),\n",
       " (5, 1, 2, 2, 3, 1),\n",
       " (5, 5, 2, 3, 1, 3),\n",
       " (1, 3, 4, 4, 5, 5),\n",
       " (1, 6, 3, 2, 3, 1),\n",
       " (3, 5, 3, 5, 2, 3),\n",
       " (1, 6, 2, 3, 3, 6),\n",
       " (6, 1, 3, 4, 4, 4),\n",
       " (2, 2, 2, 3, 4, 5),\n",
       " (4, 2, 3, 3, 5, 3),\n",
       " (4, 6, 1, 4, 2, 1),\n",
       " (6, 2, 1, 1, 1, 6),\n",
       " (5, 6, 2, 2, 2, 3),\n",
       " (4, 4, 4, 4, 5, 6),\n",
       " (1, 5, 1, 6, 3, 4),\n",
       " (3, 5, 6, 5, 5, 4),\n",
       " (4, 4, 4, 3, 6, 2),\n",
       " (1, 6, 1, 4, 5, 5),\n",
       " (1, 2, 2, 6, 1, 4),\n",
       " (3, 1, 3, 2, 2, 2),\n",
       " (3, 6, 2, 1, 2, 4),\n",
       " (1, 6, 1, 3, 6, 1),\n",
       " (6, 3, 6, 5, 6, 5),\n",
       " (5, 1, 3, 4, 5, 3),\n",
       " (3, 1, 4, 3, 2, 6),\n",
       " (1, 2, 5, 6, 4, 5),\n",
       " (5, 3, 5, 4, 3, 4),\n",
       " (3, 6, 5, 1, 5, 5),\n",
       " (5, 3, 1, 5, 2, 2),\n",
       " (5, 3, 3, 1, 6, 2),\n",
       " (1, 2, 5, 5, 5, 1),\n",
       " (6, 4, 6, 6, 1, 4),\n",
       " (5, 5, 5, 5, 5, 3),\n",
       " (5, 6, 5, 2, 4, 2),\n",
       " (3, 5, 2, 3, 2, 2),\n",
       " (4, 6, 5, 1, 4, 5),\n",
       " (5, 2, 4, 5, 4, 3),\n",
       " (3, 2, 4, 5, 1, 6),\n",
       " (2, 6, 3, 2, 4, 6),\n",
       " (4, 2, 1, 1, 2, 1),\n",
       " (1, 3, 4, 2, 3, 1),\n",
       " (2, 4, 1, 2, 6, 3),\n",
       " (2, 2, 2, 1, 2, 1),\n",
       " (3, 1, 6, 5, 1, 2),\n",
       " (5, 5, 2, 5, 6, 3),\n",
       " (6, 1, 5, 2, 1, 5),\n",
       " (1, 2, 1, 4, 1, 3),\n",
       " (4, 1, 2, 5, 4, 5),\n",
       " (4, 2, 2, 6, 2, 5),\n",
       " (5, 5, 1, 4, 1, 5),\n",
       " (2, 6, 4, 2, 3, 3),\n",
       " (6, 3, 4, 3, 3, 3),\n",
       " (5, 5, 1, 3, 2, 1),\n",
       " (5, 2, 5, 6, 1, 1),\n",
       " (4, 4, 3, 5, 2, 1),\n",
       " (4, 2, 5, 2, 6, 5),\n",
       " (6, 5, 6, 3, 1, 4),\n",
       " (1, 6, 3, 5, 1, 3),\n",
       " (1, 5, 6, 4, 2, 6),\n",
       " (6, 1, 2, 5, 5, 6),\n",
       " (1, 6, 5, 1, 5, 3),\n",
       " (1, 3, 2, 4, 6, 5),\n",
       " (3, 5, 1, 5, 3, 3),\n",
       " (3, 5, 3, 5, 5, 4),\n",
       " (6, 6, 3, 6, 3, 6),\n",
       " (6, 1, 2, 4, 6, 2),\n",
       " (6, 6, 1, 3, 6, 4),\n",
       " (4, 2, 1, 3, 6, 3),\n",
       " (5, 1, 5, 5, 1, 1),\n",
       " (3, 6, 1, 2, 2, 6),\n",
       " (4, 1, 1, 2, 5, 3),\n",
       " (3, 6, 3, 1, 5, 3),\n",
       " (1, 4, 5, 5, 3, 5),\n",
       " (3, 5, 4, 5, 6, 4),\n",
       " (6, 4, 1, 5, 1, 1),\n",
       " (2, 3, 1, 4, 5, 2),\n",
       " (5, 2, 4, 4, 1, 3),\n",
       " (5, 6, 5, 1, 2, 2),\n",
       " (1, 2, 4, 6, 5, 3),\n",
       " (1, 5, 5, 1, 3, 4),\n",
       " (3, 6, 4, 1, 6, 3),\n",
       " (2, 4, 1, 1, 3, 3),\n",
       " (2, 6, 3, 1, 2, 6),\n",
       " (3, 2, 6, 3, 2, 3),\n",
       " (5, 3, 3, 4, 4, 4),\n",
       " (3, 2, 2, 4, 1, 1),\n",
       " (4, 3, 5, 2, 3, 4),\n",
       " (3, 6, 6, 6, 4, 3),\n",
       " (4, 3, 1, 4, 3, 5),\n",
       " (5, 2, 3, 6, 4, 5),\n",
       " (6, 3, 3, 1, 3, 2),\n",
       " (3, 6, 6, 4, 1, 4),\n",
       " (3, 5, 2, 3, 5, 3),\n",
       " (4, 3, 4, 4, 5, 6),\n",
       " (1, 1, 2, 6, 1, 4),\n",
       " (3, 2, 1, 6, 4, 3),\n",
       " (5, 1, 2, 1, 3, 2),\n",
       " (1, 1, 4, 2, 5, 4),\n",
       " (1, 2, 3, 3, 6, 1),\n",
       " (1, 3, 4, 5, 1, 3),\n",
       " (1, 3, 6, 1, 5, 3),\n",
       " (4, 6, 4, 5, 1, 3),\n",
       " (1, 3, 2, 2, 4, 1),\n",
       " (3, 1, 4, 5, 2, 2),\n",
       " (3, 1, 2, 6, 3, 1),\n",
       " (5, 2, 2, 6, 1, 1),\n",
       " (2, 6, 6, 1, 4, 5),\n",
       " ...}"
      ]
     },
     "execution_count": 21,
     "metadata": {},
     "output_type": "execute_result"
    }
   ],
   "source": [
    "sample_space = set(product(possible_rolls,repeat=6))\n",
    "sample_space"
   ]
  },
  {
   "cell_type": "code",
   "execution_count": 22,
   "id": "536af68a",
   "metadata": {},
   "outputs": [],
   "source": [
    "def has_sum_of_21(outcome):return sum(outcome) == 21"
   ]
  },
  {
   "cell_type": "code",
   "execution_count": 23,
   "id": "96a2eba7",
   "metadata": {},
   "outputs": [
    {
     "data": {
      "text/plain": [
       "0.09284979423868313"
      ]
     },
     "execution_count": 23,
     "metadata": {},
     "output_type": "execute_result"
    }
   ],
   "source": [
    "prob = compute_event_probability(has_sum_of_21,sample_space)\n",
    "prob"
   ]
  },
  {
   "cell_type": "markdown",
   "id": "bd54d628",
   "metadata": {},
   "source": [
    "### 1.2.3 Problem 3: Tính xác xuất của súc sắc có weighted trong không gian mẫu "
   ]
  },
  {
   "cell_type": "markdown",
   "id": "933b1beb",
   "metadata": {},
   "source": [
    "Chúng ta vừa tính xác xuất 6 lần tung xăc có thể tổng là 21. Bây giờ chúng ta sẽ tính lại xác xuất khi có weight trong sample sace. Chúng ta cần  chuyển đổi không gian mẫu không có weighted sang không gian mẫu có weithg. "
   ]
  },
  {
   "cell_type": "code",
   "execution_count": 24,
   "id": "89b72b35",
   "metadata": {},
   "outputs": [],
   "source": [
    "from collections import defaultdict\n",
    "weighted_sample_space = defaultdict(int)\n",
    "for outcome in sample_space:\n",
    "    total = sum(outcome)\n",
    "    weighted_sample_space[total] +=1"
   ]
  },
  {
   "cell_type": "code",
   "execution_count": 25,
   "id": "6b8dc2bb",
   "metadata": {},
   "outputs": [
    {
     "data": {
      "text/plain": [
       "defaultdict(int,\n",
       "            {21: 4332,\n",
       "             22: 4221,\n",
       "             27: 1666,\n",
       "             12: 456,\n",
       "             24: 3431,\n",
       "             19: 3906,\n",
       "             18: 3431,\n",
       "             20: 4221,\n",
       "             23: 3906,\n",
       "             26: 2247,\n",
       "             28: 1161,\n",
       "             15: 1666,\n",
       "             17: 2856,\n",
       "             13: 756,\n",
       "             14: 1161,\n",
       "             30: 456,\n",
       "             16: 2247,\n",
       "             25: 2856,\n",
       "             9: 56,\n",
       "             32: 126,\n",
       "             31: 252,\n",
       "             29: 756,\n",
       "             11: 252,\n",
       "             33: 56,\n",
       "             10: 126,\n",
       "             7: 6,\n",
       "             35: 6,\n",
       "             8: 21,\n",
       "             34: 21,\n",
       "             6: 1,\n",
       "             36: 1})"
      ]
     },
     "execution_count": 25,
     "metadata": {},
     "output_type": "execute_result"
    }
   ],
   "source": [
    "weighted_sample_space"
   ]
  },
  {
   "cell_type": "code",
   "execution_count": 26,
   "id": "f7d548c6",
   "metadata": {},
   "outputs": [],
   "source": [
    "num_combinations = weighted_sample_space[21]"
   ]
  },
  {
   "cell_type": "code",
   "execution_count": 27,
   "id": "47c707e3",
   "metadata": {},
   "outputs": [
    {
     "data": {
      "text/plain": [
       "4332"
      ]
     },
     "execution_count": 27,
     "metadata": {},
     "output_type": "execute_result"
    }
   ],
   "source": [
    "num_combinations"
   ]
  },
  {
   "cell_type": "code",
   "execution_count": 28,
   "id": "477676a8",
   "metadata": {},
   "outputs": [
    {
     "data": {
      "text/plain": [
       "4332"
      ]
     },
     "execution_count": 28,
     "metadata": {},
     "output_type": "execute_result"
    }
   ],
   "source": [
    "event = get_matching_event(lambda x : sum(x) == 21, sample_space)\n",
    "len(event)"
   ]
  },
  {
   "cell_type": "code",
   "execution_count": 29,
   "id": "08427244",
   "metadata": {},
   "outputs": [
    {
     "data": {
      "text/plain": [
       "0.09284979423868313"
      ]
     },
     "execution_count": 29,
     "metadata": {},
     "output_type": "execute_result"
    }
   ],
   "source": [
    "prob = compute_event_probability(lambda x: x == 21,\n",
    "weighted_sample_space)\n",
    "prob"
   ]
  },
  {
   "cell_type": "markdown",
   "id": "bdfcaf15",
   "metadata": {},
   "source": [
    "## 1.3 Tính xác xuất trên phạm vi khoảng thời gian \n",
    "Cho đến nay, chúng tôi chỉ phân tích các điều kiện sự kiện thỏa mãn một số giá trị đơn lẻ. Bây giờ, chúng tôi sẽ phân tích các điều kiện sự kiện kéo dài các khoảng giá trị. Một khoảng thời gian alf 1 tập hợp các só giữa bao gồm 2 ranh giới của chúng. \n"
   ]
  },
  {
   "cell_type": "code",
   "execution_count": 30,
   "id": "1dadbf32",
   "metadata": {},
   "outputs": [],
   "source": [
    "def is_in_interval(number,minimum,maximum):\n",
    "    return minimum <= number <= maximum"
   ]
  },
  {
   "cell_type": "markdown",
   "id": "35e247d5",
   "metadata": {},
   "source": [
    "Cho bạn một `is_in_interval()`, chúng ta có thể tính xác xuất rằng của 1 sự kiện liên quan tới giá trị trong 1 khoảng số nhất định. Ví dụ, chúng ta sẽ tính  khả năng xả ra của 6 con xúc xắc đó khoảng 10->21 "
   ]
  },
  {
   "cell_type": "code",
   "execution_count": 31,
   "id": "5508a483",
   "metadata": {},
   "outputs": [
    {
     "name": "stdout",
     "output_type": "stream",
     "text": [
      "Probability of interval is 0.5446244855967078\n"
     ]
    }
   ],
   "source": [
    "prob = compute_event_probability(lambda x  : is_in_interval(x,10,21),weighted_sample_space)\n",
    "print(f\"Probability of interval is {prob}\")"
   ]
  },
  {
   "cell_type": "markdown",
   "id": "1b1d611c",
   "metadata": {},
   "source": [
    "### 1.3.1 : Đánh giá các cực trị bằng cách sử dụng phân tích khoảng thời gian"
   ]
  },
  {
   "cell_type": "markdown",
   "id": "8576789b",
   "metadata": {},
   "source": [
    "Phân tích khoảng thời gian là rất quan trọng để giải quyết toàn bộ các vấn đề rất quan trọng trong xác suất và thống kê. Một trong những vấn đề như vậy liên quan đến việc đánh giá các điểm cực đoan: vấn đề nằm ở việc liệu dữ liệu quan sát có quá cực đoan để có thể tin được hay không ? \n",
    "Dữ liệu có vẻ cực đoan khi nó xảy ra một cách ngẫu nhiên quá bất thường. Ví dụ: giả sử chúng ta quan sát 10 lần lật của một đồng xu được cho là công bằng và đồng xu đó rơi vào mặt ngửa 8 trong số 10 lần. Đây có phải là một kết quả hợp lý cho một đồng tiền công bằng? Hay đồng xu của chúng ta bí mật thiên về hạ cánh? Để tìm hiểu, chúng ta phải trả lời câu hỏi sau: xác suất để 10 lần tung đồng xu công bằng dẫn đến số đầu cực đoan là bao nhiêu? Chúng tôi sẽ xác định số lượng đầu cực đại là tám đầu trở lên."
   ]
  },
  {
   "cell_type": "code",
   "execution_count": 32,
   "id": "982a97fc",
   "metadata": {},
   "outputs": [],
   "source": [
    "def generate_coin_sample_space(num_flips=10):\n",
    "    weighted_sample_space = defaultdict(int)\n",
    "    for coin_flips in product(['Head','Tails'], repeat=num_flips):\n",
    "        head_count = len([outcome for outcome in coin_flips if outcome == 'Head'])\n",
    "        weighted_sample_space[head_count] +=1\n",
    "    return weighted_sample_space"
   ]
  },
  {
   "cell_type": "code",
   "execution_count": 33,
   "id": "0a2a75ac",
   "metadata": {},
   "outputs": [
    {
     "data": {
      "text/plain": [
       "1"
      ]
     },
     "execution_count": 33,
     "metadata": {},
     "output_type": "execute_result"
    }
   ],
   "source": [
    "weighted_sample_space = generate_coin_sample_space()\n",
    "weighted_sample_space[10]"
   ]
  },
  {
   "cell_type": "code",
   "execution_count": 34,
   "id": "d7292cb9",
   "metadata": {},
   "outputs": [
    {
     "name": "stdout",
     "output_type": "stream",
     "text": [
      "Probability of observing more than 7 heads is 0.0546875\n"
     ]
    }
   ],
   "source": [
    "prob = compute_event_probability(lambda x: is_in_interval(x, 8, 10),\n",
    "weighted_sample_space)\n",
    "print(f\"Probability of observing more than 7 heads is {prob}\")"
   ]
  },
  {
   "cell_type": "markdown",
   "id": "3fa9b419",
   "metadata": {},
   "source": [
    "# Section 2- Plotting probabilities using Matplotlib\n",
    " "
   ]
  },
  {
   "cell_type": "markdown",
   "id": "addd847f",
   "metadata": {},
   "source": [
    "Trong section này chúgn ta cover \n",
    "1. Tạo 1 plot đơn giản sử dụng Matplotlib\n",
    "2. Label plotted data\n",
    "3. Phân phối xác xuất\n",
    "4. Ploting và comparing multiple probability distributions "
   ]
  },
  {
   "cell_type": "markdown",
   "id": "6cda375f",
   "metadata": {},
   "source": [
    "## 2.1 Basic Matplot lib plots \n"
   ]
  },
  {
   "cell_type": "markdown",
   "id": "d738f45c",
   "metadata": {},
   "source": [
    "Plot a linear relationship"
   ]
  },
  {
   "cell_type": "code",
   "execution_count": 35,
   "id": "242e641b",
   "metadata": {},
   "outputs": [
    {
     "data": {
      "image/png": "[encoded data removed]",
      "text/plain": [
       "<Figure size 432x288 with 1 Axes>"
      ]
     },
     "metadata": {
      "needs_background": "light"
     },
     "output_type": "display_data"
    }
   ],
   "source": [
    "x= range(0,10)\n",
    "y= [2*value for value in x]\n",
    "plt.plot(x,y)\n",
    "plt.show();\n"
   ]
  },
  {
   "cell_type": "markdown",
   "id": "88df1632",
   "metadata": {},
   "source": [
    "Plotting individual data points\n"
   ]
  },
  {
   "cell_type": "code",
   "execution_count": 36,
   "id": "83972cc4",
   "metadata": {},
   "outputs": [
    {
     "data": {
      "image/png": "[encoded data removed]",
      "text/plain": [
       "<Figure size 432x288 with 1 Axes>"
      ]
     },
     "metadata": {
      "needs_background": "light"
     },
     "output_type": "display_data"
    }
   ],
   "source": [
    "plt.scatter(x,y)\n",
    "plt.show()"
   ]
  },
  {
   "cell_type": "markdown",
   "id": "46dcd6d0",
   "metadata": {},
   "source": [
    "Giả sử chúng ta muốn nhấn mạnh khoảng thời gian mà **x** bắt đầu từ 2 và kết thúc từ 6. Chúng ta có thể làm điều đó bằng việc tô đường cong được vẽ trong khoảng thời gian chỉ định sử dụng. `plt.fill_between()`. Cái hàm này lấu inpuy đầu vào là cả x và y cũng như là where parameter như là 1 lis boolean values và True nếu x value. "
   ]
  },
  {
   "cell_type": "code",
   "execution_count": 37,
   "id": "27a963b1",
   "metadata": {},
   "outputs": [
    {
     "data": {
      "image/png": "[encoded data removed]",
      "text/plain": [
       "<Figure size 432x288 with 1 Axes>"
      ]
     },
     "metadata": {
      "needs_background": "light"
     },
     "output_type": "display_data"
    }
   ],
   "source": [
    "plt.plot(x,y)\n",
    "where = [is_in_interval(value,2,6) for value in x]\n",
    "plt.fill_between(x,y,where=where)\n",
    "plt.show()"
   ]
  },
  {
   "cell_type": "code",
   "execution_count": 38,
   "id": "b92567b2",
   "metadata": {},
   "outputs": [
    {
     "data": {
      "image/png": "[encoded data removed]",
      "text/plain": [
       "<Figure size 432x288 with 1 Axes>"
      ]
     },
     "metadata": {
      "needs_background": "light"
     },
     "output_type": "display_data"
    }
   ],
   "source": [
    "plt.scatter(x,y)\n",
    "plt.plot(x,y)\n",
    "where = [is_in_interval(value,2,6) for value in x]\n",
    "plt.fill_between(x,y,where=where)\n",
    "plt.show()"
   ]
  },
  {
   "cell_type": "markdown",
   "id": "2085a3f3",
   "metadata": {},
   "source": [
    "### 2.2 Plotting coin-flip probabilities \n"
   ]
  },
  {
   "cell_type": "code",
   "execution_count": 39,
   "id": "6b800c5e",
   "metadata": {},
   "outputs": [
    {
     "data": {
      "image/png": "[encoded data removed]",
      "text/plain": [
       "<Figure size 432x288 with 1 Axes>"
      ]
     },
     "metadata": {
      "needs_background": "light"
     },
     "output_type": "display_data"
    }
   ],
   "source": [
    "x_10_flips = list(weighted_sample_space.keys())\n",
    "y_10_flips = [weighted_sample_space[key] for key in x_10_flips]\n",
    "plt.scatter(x_10_flips,y_10_flips)\n",
    "plt.xlabel('Head-Count')\n",
    "plt.title('A scatter plot representation of the sample space for 10 flipped coins. The symmetric plot is centered around a peak at 5 of 10 counted head',fontsize=20)\n",
    "\n",
    "plt.ylabel('Number of coin-flip combinations with x heads')\n",
    "plt.show()"
   ]
  },
  {
   "cell_type": "markdown",
   "id": "26edecea",
   "metadata": {},
   "source": [
    "Giờ chúng ta  tính xác xuất của số lần tung được 1,2,3,4 mặt ngửa trong 10 lần thử "
   ]
  },
  {
   "cell_type": "code",
   "execution_count": 40,
   "id": "6139afaa",
   "metadata": {},
   "outputs": [
    {
     "data": {
      "image/png": "[encoded data removed]",
      "text/plain": [
       "<Figure size 432x288 with 1 Axes>"
      ]
     },
     "metadata": {
      "needs_background": "light"
     },
     "output_type": "display_data"
    }
   ],
   "source": [
    "sample_space_size = sum(weighted_sample_space.values())\n",
    "prob_x_10_flips =  [value / sample_space_size for value in y_10_flips]\n",
    "where = [is_in_interval(value, 8, 10) for value in x_10_flips]\n",
    "plt.fill_between(x_10_flips,prob_x_10_flips,where=where)\n",
    "plt.scatter(x_10_flips,prob_x_10_flips)\n",
    "plt.plot(x_10_flips,prob_x_10_flips)\n",
    "plt.xlabel('Head-count')\n",
    "plt.ylabel('Probability')\n",
    "plt.show()"
   ]
  },
  {
   "cell_type": "code",
   "execution_count": 41,
   "id": "39715ade",
   "metadata": {},
   "outputs": [
    {
     "data": {
      "image/png": "[encoded data removed]",
      "text/plain": [
       "<Figure size 432x288 with 1 Axes>"
      ]
     },
     "metadata": {
      "needs_background": "light"
     },
     "output_type": "display_data"
    }
   ],
   "source": [
    "plt.plot(x_10_flips, prob_x_10_flips)\n",
    "plt.scatter(x_10_flips, prob_x_10_flips)\n",
    "where = [not is_in_interval(value, 3, 7) for value in x_10_flips]\n",
    "plt.fill_between(x_10_flips, prob_x_10_flips, where=where)\n",
    "plt.xlabel('Head-count')\n",
    "plt.ylabel('Probability')\n",
    "plt.show()"
   ]
  },
  {
   "cell_type": "markdown",
   "id": "156f8394",
   "metadata": {},
   "source": [
    "### 2.2.1 Comparing mutiple coin flips probabilities distributions \n",
    " "
   ]
  },
  {
   "cell_type": "markdown",
   "id": "8305dbb8",
   "metadata": {},
   "source": []
  },
  {
   "cell_type": "markdown",
   "id": "5ed318e3",
   "metadata": {},
   "source": [
    "## 3. Running random simulations in Numpy \n"
   ]
  },
  {
   "cell_type": "markdown",
   "id": "62d5c517",
   "metadata": {},
   "source": [
    "### 3.1 Simulating random coin flips and die rolls using NumPy"
   ]
  },
  {
   "cell_type": "code",
   "execution_count": 42,
   "id": "348e8373",
   "metadata": {},
   "outputs": [],
   "source": [
    "die_roll = np.random.randint(1,7)\n",
    "assert 1 <= die_roll <= 6"
   ]
  },
  {
   "cell_type": "code",
   "execution_count": 43,
   "id": "d2da229f",
   "metadata": {},
   "outputs": [
    {
     "data": {
      "text/plain": [
       "[5, 6, 1]"
      ]
     },
     "execution_count": 43,
     "metadata": {},
     "output_type": "execute_result"
    }
   ],
   "source": [
    "np.random.seed(0)\n",
    "die_rolls = [np.random.randint(1,7) for _ in range(3)]\n",
    "die_rolls"
   ]
  },
  {
   "cell_type": "code",
   "execution_count": 44,
   "id": "702d5cb3",
   "metadata": {},
   "outputs": [
    {
     "name": "stdout",
     "output_type": "stream",
     "text": [
      "Coin landed on tails\n"
     ]
    }
   ],
   "source": [
    "np.random.seed(0)\n",
    "coin_flip = np.random.randint(0,2)\n",
    "print(f\"Coin landed on {'heads' if coin_flip == 1 else 'tails'}\")"
   ]
  },
  {
   "cell_type": "markdown",
   "id": "5fc7417d",
   "metadata": {},
   "source": [
    "Chúng ta giờ mô phỏng 10 lần tung con xúc xắc \n"
   ]
  },
  {
   "cell_type": "code",
   "execution_count": 45,
   "id": "9bae28ad",
   "metadata": {},
   "outputs": [
    {
     "name": "stdout",
     "output_type": "stream",
     "text": [
      "Frequency of Head is 0.8\n"
     ]
    }
   ],
   "source": [
    "np.random.seed(0)\n",
    "def frequency_heads(coin_flip_sequence):\n",
    "    total_heads = len([head for head in coin_flip_sequence if head == 1])\n",
    "    return total_heads / len(coin_flip_sequence)\n",
    "coin_flips = [np.random.randint(0,2) for _ in range(10)]\n",
    "freq_heads = frequency_heads(coin_flips)\n",
    "print(f\"Frequency of Head is {freq_heads}\")\n"
   ]
  },
  {
   "cell_type": "markdown",
   "id": "d3b2919c",
   "metadata": {},
   "source": [
    "Chúng ta đều nhìn thấy điều kỳ lạ tại sao xuất hiện thường xuyên của mặt ngửa là 80% trong khi chúng ta biết nó chỉ là 50%. Thật vậy khi chúng ta tung 1 con xắc đủ lớn thì xác xuất đó mới là xác xuất thật nào chúng ta cùng plot cái đó "
   ]
  },
  {
   "cell_type": "code",
   "execution_count": 46,
   "id": "66a6458b",
   "metadata": {},
   "outputs": [
    {
     "data": {
      "image/png": "[encoded data removed]",
      "text/plain": [
       "<Figure size 432x288 with 1 Axes>"
      ]
     },
     "metadata": {
      "needs_background": "light"
     },
     "output_type": "display_data"
    }
   ],
   "source": [
    "np.random.seed(0)\n",
    "coin_flips = []\n",
    "frequencies =[]\n",
    "for _ in range(1000):\n",
    "    coin_flips.append(np.random.randint(0,2))\n",
    "    frequencies.append(frequency_heads(coin_flips)) ## calculator among cont_flips\n",
    "plt.plot(list(range(1000)),frequencies)\n",
    "plt.axhline(0.5,color='k')\n",
    "plt.xlabel('Number of Coin Flips')\n",
    "plt.ylabel('Head-Frequency')\n",
    "plt.show()"
   ]
  },
  {
   "cell_type": "markdown",
   "id": "316e54c5",
   "metadata": {},
   "source": [
    "Chúng tôi đã mô phỏng một chuỗi các lần lật đồng xu không thiên vị, nhưng điều gì sẽ xảy ra nếu chúng tôi muốn mô phỏng một đồng xu rơi vào đầu 70% lần. Chà, chúng ta có thể tạo ra kết quả thiên vị đó bằng cách gọi `np.random.binomial(1,0.7)`. **binomial distribution** là phân phối nhị thức \n"
   ]
  },
  {
   "cell_type": "code",
   "execution_count": 47,
   "id": "dabc0bf6",
   "metadata": {},
   "outputs": [
    {
     "name": "stdout",
     "output_type": "stream",
     "text": [
      "Let's flip the biased coin once\n",
      "Biased coin laned on heads.\n",
      "\n",
      "Let's flip the biased coin 10 times.\n",
      "6 heads were observed out of 10 biased coin flips\n"
     ]
    }
   ],
   "source": [
    "np.random.seed(0)\n",
    "print(f\"Let's flip the biased coin once\")\n",
    "coin_flip = np.random.binomial(1,0.7)\n",
    "print(f\"Biased coin laned on {'heads' if coin_flip == 1 else 'tails'}.\")\n",
    "print(\"\\nLet's flip the biased coin 10 times.\")\n",
    "number_coin_flips = 10\n",
    "head_count = np.random.binomial(number_coin_flips, .7)\n",
    "\n",
    "print((f\"{head_count} heads were observed out of \"\n",
    "f\"{number_coin_flips} biased coin flips\"))\n"
   ]
  },
  {
   "cell_type": "code",
   "execution_count": 48,
   "metadata": {},
   "outputs": [
    {
     "name": "stdout",
     "output_type": "stream",
     "text": [
      "Frequency of Heads is 0.697\n"
     ]
    }
   ],
   "source": [
    "np.random.seed(0)\n",
    "head_count = np.random.binomial(1000, 0.7)\n",
    "frequency = head_count / 1000\n",
    "print(f\"Frequency of Heads is {frequency}\")\n"
   ]
  },
  {
   "cell_type": "markdown",
   "id": "bf977450",
   "metadata": {},
   "source": [
    "Tuy nhiên, độ không đảm bảo của chúng ta có thể được đo lường và chứa bằng cách sử dụng cái mà các nhà toán học gọi là **confidence interval** khoảng tin cậy"
   ]
  },
  {
   "cell_type": "markdown",
   "id": "d9a7bc0f",
   "metadata": {},
   "source": [
    "### 3.2 Computing confidence intervals using histograms and NumPy array.(Tính toán khoảng tin cậy sử dụng biểu đồ và NumPy Array )"
   ]
  },
  {
   "cell_type": "markdown",
   "id": "77e80463",
   "metadata": {},
   "source": [
    "Giả sử chúng ta được giao một đồng xu thiên vị mà chúng ta không biết. Chúng tôi lật đồng xu 1.000 lần và quan sát tần suất 0,709. Chúng ta biết tần số gần đúng với xác suất thực tế, nhưng bằng bao nhiêu? Chính xác hơn, khả năng xác suất thực tế rơi vào khoảng thời gian gần bằng 0,709 (chẳng hạn như khoảng từ 0,7 đến 0,71) là bao nhiêu? Để tìm hiểu, chúng tôi phải thực hiện lấy mẫu bổ sung.\n",
    "\n",
    "Trước đây, chúng tôi đã lấy mẫu đồng xu của mình qua 5 lần lặp lại của 1.000 lần lật đồng xu mỗi lần. Việc lấy mẫu tạo ra một số dao động về tần số. Hãy khám phá những biến động này bằng cách tăng số tần suất của chúng tôi từ 5 lên 500. Chúng tôi có thể thực hiện lấy mẫu bổ sung này bằng cách chạy"
   ]
  },
  {
   "cell_type": "code",
   "execution_count": 49,
   "id": "9bdf8b05",
   "metadata": {},
   "outputs": [
    {
     "data": {
      "text/plain": [
       "array([697, 690, 700, 707, 702, 699, 723, 670, 702, 713, 721, 689, 711,\n",
       "       697, 717, 691, 731, 697, 722, 728, 695, 697, 688, 696, 679, 687,\n",
       "       696, 676, 702, 695, 692, 666, 668, 713, 691, 691, 698, 717, 683,\n",
       "       680, 702, 705, 715, 693, 675, 693, 726, 706, 691, 718, 705, 721,\n",
       "       697, 716, 699, 708, 680, 686, 703, 692, 694, 684, 679, 707, 722,\n",
       "       718, 711, 719, 685, 670, 710, 715, 679, 692, 712, 720, 711, 682,\n",
       "       732, 694, 715, 689, 719, 713, 698, 710, 707, 689, 701, 726, 703,\n",
       "       679, 721, 697, 699, 698, 711, 719, 724, 731, 695, 679, 703, 697,\n",
       "       705, 686, 682, 718, 681, 708, 712, 677, 693, 693, 726, 705, 711,\n",
       "       671, 713, 717, 730, 698, 712, 674, 689, 666, 697, 688, 695, 685,\n",
       "       720, 671, 688, 689, 696, 716, 706, 699, 727, 698, 692, 706, 702,\n",
       "       699, 715, 717, 700, 683, 690, 682, 687, 703, 673, 696, 696, 692,\n",
       "       710, 718, 690, 716, 721, 709, 694, 697, 687, 733, 696, 684, 709,\n",
       "       713, 726, 695, 705, 709, 723, 685, 693, 675, 712, 704, 698, 695,\n",
       "       713, 671, 687, 687, 703, 709, 708, 690, 684, 720, 708, 673, 700,\n",
       "       671, 716, 692, 723, 699, 705, 695, 689, 691, 705, 698, 731, 705,\n",
       "       705, 712, 709, 667, 705, 679, 684, 692, 704, 697, 699, 712, 686,\n",
       "       702, 705, 694, 701, 685, 719, 710, 704, 708, 709, 681, 694, 695,\n",
       "       718, 691, 688, 702, 696, 722, 702, 699, 677, 670, 705, 703, 674,\n",
       "       704, 718, 707, 712, 683, 722, 700, 723, 727, 715, 698, 712, 702,\n",
       "       725, 688, 695, 688, 690, 656, 706, 693, 711, 706, 696, 671, 707,\n",
       "       690, 704, 696, 698, 696, 665, 688, 686, 695, 694, 687, 683, 708,\n",
       "       706, 703, 694, 727, 695, 676, 707, 692, 720, 713, 685, 689, 688,\n",
       "       692, 702, 690, 699, 693, 691, 722, 709, 705, 699, 697, 707, 724,\n",
       "       708, 708, 689, 692, 698, 703, 700, 726, 705, 676, 666, 703, 672,\n",
       "       714, 684, 698, 687, 691, 670, 726, 695, 673, 695, 706, 700, 689,\n",
       "       685, 683, 678, 671, 690, 703, 717, 693, 702, 713, 701, 704, 711,\n",
       "       679, 684, 718, 715, 677, 675, 708, 687, 719, 705, 714, 699, 720,\n",
       "       706, 704, 729, 698, 702, 701, 684, 678, 687, 699, 692, 715, 697,\n",
       "       719, 695, 697, 688, 695, 693, 704, 696, 678, 694, 709, 687, 705,\n",
       "       700, 716, 705, 678, 689, 703, 692, 709, 700, 717, 692, 717, 718,\n",
       "       701, 702, 694, 708, 708, 695, 700, 722, 714, 733, 685, 704, 716,\n",
       "       673, 713, 709, 705, 713, 705, 710, 675, 700, 723, 679, 718, 678,\n",
       "       701, 711, 686, 696, 708, 700, 684, 682, 729, 717, 697, 710, 703,\n",
       "       694, 711, 696, 707, 689, 687, 695, 709, 720, 700, 680, 725, 687,\n",
       "       727, 693, 723, 716, 687, 705, 722, 687, 718, 688, 717, 727, 689,\n",
       "       714, 712, 670, 680, 692, 703, 689, 689, 679, 701, 701, 668, 711,\n",
       "       706, 681, 731, 708, 707, 710, 707, 703, 705, 717, 698, 710, 714,\n",
       "       710, 707, 696, 687, 698, 696])"
      ]
     },
     "execution_count": 49,
     "metadata": {},
     "output_type": "execute_result"
    }
   ],
   "source": [
    "np.random.seed(0)\n",
    "head_count_array = np.random.binomial(1000, 0.7, 500)\n",
    "head_count_array"
   ]
  },
  {
   "cell_type": "markdown",
   "id": "6b229cdf",
   "metadata": {},
   "source": [
    "Một số chú ý về các methods của Numpy Array: \n",
    "- `np.random.randint(x,y)`: trả về 1 random integer giữa x và y-1\n",
    "- `np.random.binomial(1,p)`: trả về 1 giá trị ngẫu nhiên bằng 0 hoặc bằng 1. và xác xuất để giá trị là 1 là p \n",
    "- `np.random.binomial(x,p)`: chạy x instances của `np.random.binomial(1,p)` và trả về kết quả tổng hợp. số lượng quan sát khác không trên x mẫu.\n",
    "- `np.random.binomial(x, p, size=y)`—Returns an array of y elements. Each\n",
    "array element is equal to a random output of np.random.binomial(x, p).\n",
    "- `np.random.binomial(x, p, size=y) / x`—Returns an array of y elements.\n",
    "Each element represents the frequency of nonzero observations across x\n",
    "samples."
   ]
  },
  {
   "cell_type": "code",
   "execution_count": 50,
   "id": "19139796",
   "metadata": {},
   "outputs": [
    {
     "data": {
      "text/plain": [
       "array([0.697, 0.69 , 0.7  , 0.707, 0.702, 0.699, 0.723, 0.67 , 0.702,\n",
       "       0.713, 0.721, 0.689, 0.711, 0.697, 0.717, 0.691, 0.731, 0.697,\n",
       "       0.722, 0.728])"
      ]
     },
     "execution_count": 50,
     "metadata": {},
     "output_type": "execute_result"
    }
   ],
   "source": [
    "frequency_array = head_count_array/1000\n",
    "frequency_array[:20]"
   ]
  },
  {
   "cell_type": "code",
   "execution_count": 51,
   "id": "cf3f6aa8",
   "metadata": {},
   "outputs": [
    {
     "name": "stdout",
     "output_type": "stream",
     "text": [
      "Minimum frequency observed: 0.656\n",
      "Maximum frequency observed: 0.733\n",
      "Difference across frequency range: 0.07699999999999996\n"
     ]
    }
   ],
   "source": [
    "min_freq = frequency_array.min()\n",
    "max_freq = frequency_array.max()\n",
    "print(f\"Minimum frequency observed: {min_freq}\")\n",
    "print(f\"Maximum frequency observed: {max_freq}\")\n",
    "print(f\"Difference across frequency range: {max_freq - min_freq}\")"
   ]
  },
  {
   "cell_type": "markdown",
   "id": "9f46a093",
   "metadata": {},
   "source": [
    "Một vài trong freqecy range là khoảng 0.656 tới 0.733 là giá trị. "
   ]
  },
  {
   "cell_type": "markdown",
   "id": "ff85d268",
   "metadata": {},
   "source": [
    "Plotting measured frequencies"
   ]
  },
  {
   "cell_type": "code",
   "execution_count": 52,
   "id": "bfde80ab",
   "metadata": {},
   "outputs": [
    {
     "data": {
      "image/png": "[encoded data removed]",
      "text/plain": [
       "<Figure size 432x288 with 1 Axes>"
      ]
     },
     "metadata": {
      "needs_background": "light"
     },
     "output_type": "display_data"
    }
   ],
   "source": [
    "frequency_count = defaultdict(int)\n",
    "for frequency in frequency_array:\n",
    "    frequency_count[frequency] +=1\n",
    "frequencies = list(frequency_count.keys())\n",
    "counts = [frequency_count[freq] for freq in frequencies]\n",
    "plt.scatter(frequencies, counts)\n",
    "plt.xlabel('Frequency')\n",
    "plt.ylabel('Count')\n",
    "plt.show()"
   ]
  },
  {
   "cell_type": "markdown",
   "id": "525e967d",
   "metadata": {},
   "source": [
    "Hình dung mang tính thông tin: tần số gần 0,7 xảy ra phổ biến hơn các giá trị khác, xa hơn. Tuy nhiên, âm mưu của chúng tôi cũng có sai sót, vì các tần số gần giống nhau xuất hiện dưới dạng các chấm chồng chéo trong biểu đồ. Chúng ta nên nhóm các tần số gần nhau này lại với nhau thay vì coi chúng như các điểm riêng lẻ."
   ]
  },
  {
   "cell_type": "markdown",
   "id": "44ce1074",
   "metadata": {},
   "source": [
    "### 3.2.1: Phân loại các điểm tương tự trong các biểu đồ biểu đồ\n",
    "Thử dùng histogram để xem frequency sự trùng nhau"
   ]
  },
  {
   "cell_type": "code",
   "execution_count": 53,
   "id": "9f66de32",
   "metadata": {},
   "outputs": [
    {
     "data": {
      "image/png": "[encoded data removed]",
      "text/plain": [
       "<Figure size 432x288 with 1 Axes>"
      ]
     },
     "metadata": {
      "needs_background": "light"
     },
     "output_type": "display_data"
    }
   ],
   "source": [
    "plt.hist(frequency_array,bins='auto',edgecolor='black');\n",
    "plt.xlabel('Binned Frequency')\n",
    "plt.ylabel('Count')\n",
    "plt.show();\n"
   ]
  },
  {
   "cell_type": "markdown",
   "id": "dc4291e3",
   "metadata": {},
   "source": [
    "Đếm số lượng thùng trong 1 hist plot "
   ]
  },
  {
   "cell_type": "code",
   "execution_count": 54,
   "id": "9e2a1280",
   "metadata": {},
   "outputs": [
    {
     "data": {
      "image/png": "[encoded data removed]",
      "text/plain": [
       "<Figure size 432x288 with 1 Axes>"
      ]
     },
     "metadata": {
      "needs_background": "light"
     },
     "output_type": "display_data"
    },
    {
     "name": "stdout",
     "output_type": "stream",
     "text": [
      "16\n"
     ]
    },
    {
     "data": {
      "text/plain": [
       "array([ 1.,  1., 11., 17., 24., 20., 51., 50., 72., 56., 54., 49., 39.,\n",
       "       29., 16., 10.])"
      ]
     },
     "execution_count": 54,
     "metadata": {},
     "output_type": "execute_result"
    }
   ],
   "source": [
    "counts,_,_ = plt.hist(frequency_array,bins='auto',edgecolor='black');\n",
    "plt.xlabel('Binned Frequency')\n",
    "plt.ylabel('Count')\n",
    "plt.show();\n",
    "print(counts.size)\n",
    "counts"
   ]
  },
  {
   "cell_type": "markdown",
   "id": "0fbd1bc8",
   "metadata": {},
   "source": [
    "Vậy thì độ rộng của của mỗi bin là bn ?. Chúng ta có thể tìm ra bởi chia cho tổng frequence range bởi 16. Thay vì thế chúng ta sử dụng `bin_edges` array, cái mà biến thứ 2 trả về từ plt.hist"
   ]
  },
  {
   "cell_type": "code",
   "execution_count": 55,
   "id": "44f7c0df",
   "metadata": {},
   "outputs": [
    {
     "name": "stdout",
     "output_type": "stream",
     "text": [
      "[0.656     0.6608125 0.665625  0.6704375 0.67525   0.6800625 0.684875\n",
      " 0.6896875 0.6945    0.6993125 0.704125  0.7089375 0.71375   0.7185625\n",
      " 0.723375  0.7281875 0.733    ]\n"
     ]
    },
    {
     "data": {
      "image/png": "[encoded data removed]",
      "text/plain": [
       "<Figure size 432x288 with 1 Axes>"
      ]
     },
     "metadata": {
      "needs_background": "light"
     },
     "output_type": "display_data"
    }
   ],
   "source": [
    "counts,bin_edges,_ = plt.hist(frequency_array,bins='auto',edgecolor='black');\n",
    "print(bin_edges)\n",
    "bin_width = bin_edges[1]-bin_edges[0]\n",
    "assert bin_width == (max_freq - min_freq) / counts.size"
   ]
  },
  {
   "cell_type": "code",
   "execution_count": 56,
   "id": "f89b8564",
   "metadata": {},
   "outputs": [
    {
     "name": "stdout",
     "output_type": "stream",
     "text": [
      "Bin width: 0.004812499999999997\n"
     ]
    },
    {
     "data": {
      "image/png": "[encoded data removed]",
      "text/plain": [
       "<Figure size 432x288 with 1 Axes>"
      ]
     },
     "metadata": {
      "needs_background": "light"
     },
     "output_type": "display_data"
    }
   ],
   "source": [
    "counts, bin_edges, _ = plt.hist(frequency_array, bins='auto',\n",
    "edgecolor='black')\n",
    "bin_width = bin_edges[1] - bin_edges[0]\n",
    "assert bin_width == (max_freq - min_freq) / counts.size\n",
    "print(f\"Bin width: {bin_width}\")\n"
   ]
  },
  {
   "cell_type": "markdown",
   "id": "58e4ddb0",
   "metadata": {},
   "source": [
    "Mảng `bin_edges` có thể được sử dụng song song với các số đếm để xuất ra số phần tử và phạm vi phủ sóng cho bất kỳ bin nào được chỉ định."
   ]
  },
  {
   "cell_type": "code",
   "execution_count": 57,
   "id": "e9a817f9",
   "metadata": {},
   "outputs": [
    {
     "name": "stdout",
     "output_type": "stream",
     "text": [
      "The bin for freqency range 0.656 - 0.6608125 contains 1 element\n",
      "The bin for freqency range 0.6800625 - 0.684875 contains 20 element\n"
     ]
    }
   ],
   "source": [
    "def output_bin_coverage(i):\n",
    "    count = int(counts[i])\n",
    "    range_start,range_end = bin_edges[i],bin_edges[i+1]\n",
    "    range_string = f\"{range_start} - {range_end}\"\n",
    "    print((f\"The bin for freqency range {range_string} contains \" f\"{count} element\"))\n",
    "output_bin_coverage(0)\n",
    "output_bin_coverage(5)"
   ]
  },
  {
   "cell_type": "markdown",
   "id": "84af7cc5",
   "metadata": {},
   "source": [
    "Sử dụng `argmax()` sẽ trả về histogram's peak "
   ]
  },
  {
   "cell_type": "code",
   "execution_count": 58,
   "id": "cf8d4547",
   "metadata": {},
   "outputs": [
    {
     "name": "stdout",
     "output_type": "stream",
     "text": [
      "The bin for freqency range 0.6945 - 0.6993125 contains 72 element\n"
     ]
    }
   ],
   "source": [
    "output_bin_coverage(counts.argmax())"
   ]
  },
  {
   "cell_type": "markdown",
   "id": "dac4b151",
   "metadata": {},
   "source": [
    "Giờ làm sao để tính dược khả năng xảy ra ?. Sớm chúng ta đã tính khả năng xảy ra của một khoảng bằng diện tích của nó dưới một đường cong. Nhưng chỉ khi và chỉ khi cái tổng của ở dưới =1. vâyh nên để làm đc điều đó chúng ta phải thêm parameter `density=True`"
   ]
  },
  {
   "cell_type": "code",
   "execution_count": 59,
   "id": "d5b26bde",
   "metadata": {},
   "outputs": [
    {
     "data": {
      "image/png": "[encoded data removed]",
      "text/plain": [
       "<Figure size 432x288 with 1 Axes>"
      ]
     },
     "metadata": {
      "needs_background": "light"
     },
     "output_type": "display_data"
    }
   ],
   "source": [
    "likelihoods, bin_edges, _ = plt.hist(frequency_array, bins='auto',\n",
    "edgecolor='black', density=True)\n",
    "plt.xlabel('Binned Frequency')\n",
    "plt.ylabel('Relative Likelihood')\n",
    "plt.show()"
   ]
  },
  {
   "cell_type": "code",
   "execution_count": 60,
   "id": "0d6127de",
   "metadata": {},
   "outputs": [
    {
     "data": {
      "text/plain": [
       "array([ 0.41558442,  0.41558442,  4.57142857,  7.06493506,  9.97402597,\n",
       "        8.31168831, 21.19480519, 20.77922078, 29.92207792, 23.27272727,\n",
       "       22.44155844, 20.36363636, 16.20779221, 12.05194805,  6.64935065,\n",
       "        4.15584416])"
      ]
     },
     "execution_count": 60,
     "metadata": {},
     "output_type": "execute_result"
    }
   ],
   "source": [
    "likelihoods"
   ]
  },
  {
   "cell_type": "code",
   "execution_count": 61,
   "id": "78847e75",
   "metadata": {},
   "outputs": [],
   "source": [
    "assert likelihoods.sum()*bin_width == 1"
   ]
  },
  {
   "cell_type": "markdown",
   "id": "420789fd",
   "metadata": {},
   "source": [
    "Computing the probability of the peak frequencies"
   ]
  },
  {
   "cell_type": "code",
   "execution_count": 62,
   "id": "e211d76c",
   "metadata": {},
   "outputs": [
    {
     "name": "stdout",
     "output_type": "stream",
     "text": [
      "Sampled frequency falls within interval 0.6945 - 0.6993125 with probability 0.144\n"
     ]
    }
   ],
   "source": [
    "index = likelihoods.argmax() # take index have values max \n",
    "area = likelihoods[index] * bin_width # take area at index (area is probability)\n",
    "range_start,range_end = bin_edges[index],bin_edges[index+1]\n",
    "range_string = f\"{range_start} - {range_end}\"\n",
    "print(f\"Sampled frequency falls within interval {range_string} with probability {area}\")"
   ]
  },
  {
   "cell_type": "markdown",
   "id": "70711f84",
   "metadata": {},
   "source": [
    "Compute Increasing the probability of a frequency range"
   ]
  },
  {
   "cell_type": "code",
   "execution_count": 63,
   "id": "2fc740e0",
   "metadata": {},
   "outputs": [
    {
     "name": "stdout",
     "output_type": "stream",
     "text": [
      "Sampled frequency falls within interval 0.6945 - 0.6993125 with probability 0.464\n"
     ]
    }
   ],
   "source": [
    "peak_index = likelihoods.argmax()\n",
    "start_index,end_index = (peak_index-1,peak_index + 2)\n",
    "area = likelihoods[start_index:end_index+1].sum() * bin_width # compute probilites \n",
    "range_start ,range_end = bin_edges[start_index],bin_edges[end_index]\n",
    "print(f\"Sampled frequency falls within interval {range_string} with probability {area}\")"
   ]
  },
  {
   "cell_type": "markdown",
   "id": "3ea120ad",
   "metadata": {},
   "source": [
    "Ba thùng bao phủ dải tần số khoảng 0,689 đến 0,704. Xác suất liên quan của chúng là 0,464. Do đó, ba thùng đại diện cho cái mà các nhà thống kê gọi là khoảng tin cậy 46,4%, có nghĩa là chúng tôi tin tưởng 46,4% rằng xác suất thực của chúng tôi nằm trong phạm vi ba thùng. Phần trăm tin cậy đó quá thấp. Các nhà thống kê thích khoảng tin cậy từ 95% trở lên. Chúng tôi đạt đến khoảng tin cậy đó bằng cách mở rộng lặp đi lặp lại thùng ngoài cùng bên trái và thùng ngoài cùng bên phải cho đến khi diện tích khoảng này kéo dài qua 0,95"
   ]
  },
  {
   "cell_type": "code",
   "execution_count": 72,
   "id": "16687667",
   "metadata": {},
   "outputs": [],
   "source": [
    "def compute_high_confidence_interval(likelihoods, bin_width):\n",
    "    peak_index = likelihoods.argmax()\n",
    "    area = likelihoods[peak_index] * bin_width\n",
    "    start_index,end_index = peak_index,peak_index+1\n",
    "    while area < 0.95:\n",
    "        if start_index > 0: \n",
    "            start_index-=1\n",
    "        if end_index < likelihoods.size - 1:\n",
    "            end_index+=1\n",
    "        area = likelihoods[start_index: end_index +1 ].sum() * bin_width\n",
    "    range_start, range_end = bin_edges[start_index], bin_edges[end_index]\n",
    "    range_string = f\"{range_start:.6f} - {range_end:.6f}\"\n",
    "    print((f\"The frequency range {range_string} represents a \"f\"{100 * area:.2f}% confidence interval\"))\n",
    "    return start_index, end_index"
   ]
  },
  {
   "cell_type": "code",
   "execution_count": 73,
   "id": "0771c3ea",
   "metadata": {},
   "outputs": [
    {
     "name": "stdout",
     "output_type": "stream",
     "text": [
      "The frequency range 0.670438 - 0.723375 represents a 95.40% confidence interval\n"
     ]
    },
    {
     "data": {
      "text/plain": [
       "(3, 14)"
      ]
     },
     "execution_count": 73,
     "metadata": {},
     "output_type": "execute_result"
    }
   ],
   "source": [
    "compute_high_confidence_interval(likelihoods=likelihoods,bin_width=bin_width)\n"
   ]
  },
  {
   "cell_type": "markdown",
   "id": "b7d2a672",
   "metadata": {},
   "source": [
    "Dải tần số khoảng 0,670 đến 0,723 thể hiện khoảng tin cậy 95,4%. Do đó, một chuỗi được lấy mẫu gồm 1.000 lần lật đồng xu thiên vị sẽ nằm trong phạm vi đó 95,4% thời gian. Chúng tôi khá tự tin rằng xác suất thực nằm trong khoảng 0,670 đến 0,723. Tuy nhiên, chúng tôi vẫn không thể biết chắc chắn liệu xác suất thực sự là gần 0,67 hay 0,72. Chúng ta cần phải thu hẹp phạm vi đó bằng cách nào đó để có được ước tính xác suất nhiều thông tin hơnn."
   ]
  },
  {
   "cell_type": "markdown",
   "id": "7cc08cfe",
   "metadata": {},
   "source": [
    "### 3.2.3 Shrinking the range of a high confidence interval\n"
   ]
  },
  {
   "cell_type": "code",
   "execution_count": 77,
   "id": "6784e2f3",
   "metadata": {},
   "outputs": [],
   "source": [
    "np.random.seed(0)\n",
    "head_count_array = np.random.binomial(1000,0.7,100000)\n",
    "frequency_array = head_count_array/ 1000\n",
    "assert frequency_array.size == 100000"
   ]
  },
  {
   "cell_type": "code",
   "execution_count": null,
   "id": "5458bba7",
   "metadata": {},
   "outputs": [],
   "source": [
    "likelihoods, bin_edges, patches = plt.hist(frequency_array, bins='auto',\n",
    "edgecolor='black', density=True)\n",
    "bin_width = bin_edges[1] - bin_edges[0]\n",
    "start_index, end_index = compute_high_confidence_interval(likelihoods,\n",
    "bin_width)\n",
    "for i in range(start_index, end_index):\n",
    "    patches[i].set_facecolor('yellow')\n",
    "plt.xlabel('Binned Frequency')\n",
    "plt.ylabel('Relative Likelihood')\n",
    "plt.show()"
   ]
  },
  {
   "cell_type": "code",
   "execution_count": 78,
   "id": "a532b346",
   "metadata": {},
   "outputs": [
    {
     "name": "stdout",
     "output_type": "stream",
     "text": [
      "The frequency range 0.670429 - 0.727857 represents a 95.42% confidence interval\n"
     ]
    },
    {
     "data": {
      "image/png": "[encoded data removed]",
      "text/plain": [
       "<Figure size 432x288 with 1 Axes>"
      ]
     },
     "metadata": {
      "needs_background": "light"
     },
     "output_type": "display_data"
    }
   ],
   "source": [
    "likelihoods,bin_edges,patchs = plt.hist(frequency_array,bins='auto',edgecolor='black',density=True)\n",
    "bin_width = bin_edges[1]- bin_edges[0]\n",
    "start_index, end_index = compute_high_confidence_interval(likelihoods,\n",
    "bin_width)\n",
    "for i  in range(start_index,end_index):\n",
    "    patchs[i].set_facecolor('yellow')\n",
    "plt.xlabel('Binned Frequency')\n",
    "plt.ylabel('Relative Likelihood')\n",
    "plt.show()"
   ]
  },
  {
   "cell_type": "markdown",
   "id": "03dce946",
   "metadata": {},
   "source": [
    "Useful methods `histogram`:\n",
    "- `plt.hist(data, bins=10)`—Plots a histogram in which the elements of data are distributed across 10 equally spaced bins.\n",
    "- `plt.hist(data, bins='auto')`—Plots a histogram whose bin count is determined automatically, based on the data distribution. auto is the default setting of _bins.\n",
    "-  `plt.hist(data, edges='black')`—In the plotted histogram, the edges of each bin are marked by black vertical lines.\n",
    "- `counts, _, _ = plt.hist(data)`—The counts array is the first of the three variables returned by plt.hist. It holds the count of elements contained in each bin. These counts appear on the y-axis of the histogram plot.\n",
    "-  `_, bin_edges, _ = plt.hist(data)`—The bin_edges array is the second of the three variables returned by plt.hist. It holds the x-axis positions of the vertical bin edges in the plot. Subtracting bin_edges[i] from bin_edges[i + 1] returns the width of every bin. Multiplying the width by counts[i] returns the area of the rectangular bin at position i.\n",
    "-  `likelihoods, _, _ = plt.hist(data, density=True)`—The binned counts are transformed into likelihoods so that the area beneath the histogram sums to 1.0. Thus, the histogram is transformed into a probability distribution. Multiplying the bin width by likelihoods[i] returns the probability of a random outcome falling within a range of bin_edges[i] - bin_edges[i +1].\n",
    "- `_, _, patches = plt.hist(data)`—The patches list is the third of the three variables returned by plt.hist. The graphical settings of each bin at index i are stored in patches[i]. Calling patches[i].set_facecolor('yellow') changes the color of the histogram bin at position i.\n",
    "- `likelihoods, bin_edges = np.histogram(data, density=True)`—Returns the histogram likelihoods and bin edges without actually plotting the results."
   ]
  },
  {
   "cell_type": "markdown",
   "id": "2ccd812c",
   "metadata": {},
   "source": [
    "### 3.3 Using confidence interval to analyze a biased deck of cards "
   ]
  },
  {
   "cell_type": "code",
   "execution_count": 82,
   "id": "4ac0959c",
   "metadata": {},
   "outputs": [],
   "source": [
    "np.random.seed(0)\n",
    "total_cards = 52\n",
    "red_card_count = np.random.randint(0,total_cards+1)\n",
    "red_card_count\n",
    "black_card_count = total_cards-red_card_count\n",
    "assert black_card_count != red_card_count"
   ]
  },
  {
   "cell_type": "code",
   "execution_count": 83,
   "id": "6de31e85",
   "metadata": {},
   "outputs": [],
   "source": [
    "weighted_sample_space = {'red_card': red_card_count,'black_card': black_card_count}\n",
    "prob_red = compute_event_probability(lambda x : x == 'red_card',weighted_sample_space)"
   ]
  },
  {
   "cell_type": "code",
   "execution_count": 84,
   "id": "05276f22",
   "metadata": {},
   "outputs": [
    {
     "data": {
      "text/plain": [
       "0.8461538461538461"
      ]
     },
     "execution_count": 84,
     "metadata": {},
     "output_type": "execute_result"
    }
   ],
   "source": [
    "prob_red"
   ]
  },
  {
   "cell_type": "code",
   "execution_count": 85,
   "id": "53e20bcc",
   "metadata": {},
   "outputs": [],
   "source": [
    "assert prob_red == red_card_count / total_cards"
   ]
  },
  {
   "cell_type": "markdown",
   "id": "84185195",
   "metadata": {},
   "source": [
    "## Case Study 1 solution \n",
    "Trong chương này chúng ta cover: \n",
    "1. Card game simulations \n",
    "2. probabilistic strategy optimization \n",
    "3. Khoảng tin cậy "
   ]
  },
  {
   "cell_type": "markdown",
   "id": "83663630",
   "metadata": {},
   "source": [
    "Mục đích của chúng tôi là chơi một trò chơi bài trong đó các quân bài được lật lặp đi lặp lại cho đến khi chúng tôi yêu cầu người chia bài dừng lại. Sau đó, một thẻ bổ sung được lật. Nếu thẻ đó màu đỏ, chúng ta thắng một đô la; nếu không, chúng tôi mất một đô la. Mục tiêu của chúng tôi là khám phá một chiến lược dự đoán tốt nhất một thẻ đỏ trong bộ bài. Chúng tôi sẽ làm như vậy bằng cách: \n",
    "1. Phát triển nhiều chiến lược để dự đoán thẻ đỏ trong một bộ bài xáo trộn ngẫu nhiên.\n",
    "2. Áp dụng từng chiến lược trên nhiều mô phỏng để tính toán xác suất thành công của nó trong khoảng tin cậy cao. Nếu những tính toán này được chứng minh là không thể thực hiện được, thay vào đó, chúng tôi sẽ tập trung vào những chiến lược hoạt động tốt nhất trên không gian mẫu 10 thẻ chú kp 52\n",
    "3.  Returning the simplest strategy associated with the highest probability of success.\n"
   ]
  },
  {
   "cell_type": "code",
   "execution_count": 88,
   "id": "786b83cd",
   "metadata": {},
   "outputs": [],
   "source": [
    "red_cards = [1] * 26\n",
    "black_cards = [0] * 26\n",
    "unshuffled_deck = red_cards + black_cards\n",
    "#unshuffled_deck"
   ]
  },
  {
   "cell_type": "code",
   "execution_count": 89,
   "id": "0f31a395",
   "metadata": {},
   "outputs": [
    {
     "data": {
      "text/plain": [
       "array([0, 1, 0, 0, 0, 0, 0, 0, 0, 1, 1, 1, 1, 0, 1, 0, 1, 0, 0, 0, 0, 1,\n",
       "       0, 0, 1, 0, 0, 1, 1, 0, 1, 0, 0, 0, 0, 1, 1, 1, 1, 1, 0, 1, 1, 1,\n",
       "       1, 1, 1, 1, 1, 1, 0, 0])"
      ]
     },
     "execution_count": 89,
     "metadata": {},
     "output_type": "execute_result"
    }
   ],
   "source": [
    "np.random.seed(1)\n",
    "shuffled_deck  = np.random.permutation(unshuffled_deck)\n",
    "shuffled_deck"
   ]
  },
  {
   "cell_type": "code",
   "execution_count": 90,
   "id": "8b04b1f7",
   "metadata": {},
   "outputs": [
    {
     "data": {
      "text/plain": [
       "array([0, 1, 0, 0, 0, 0, 0, 0, 0, 1, 1, 1, 1, 0, 1, 0, 1, 0, 0, 0, 0, 1,\n",
       "       0, 0, 1, 0, 0, 1, 1, 0, 1, 0, 0, 0, 0, 1, 1, 1, 1, 1, 0, 1, 1, 1,\n",
       "       1, 1, 1, 1, 1, 1, 0])"
      ]
     },
     "execution_count": 90,
     "metadata": {},
     "output_type": "execute_result"
    }
   ],
   "source": [
    "shuffled_deck[:-1]"
   ]
  },
  {
   "cell_type": "code",
   "execution_count": 95,
   "id": "93029119",
   "metadata": {},
   "outputs": [
    {
     "name": "stdout",
     "output_type": "stream",
     "text": [
      "Stopping the game at index 0.\n",
      "The next card in the deck is red.\n",
      "We have won!\n"
     ]
    }
   ],
   "source": [
    "remain_red_cards = 26\n",
    "for i, card in enumerate(shuffled_deck[:-1]):\n",
    "    remain_red_cards-=card\n",
    "    remain_total_cards = 52-i-1\n",
    "    if remain_red_cards / remain_total_cards > 0.5:\n",
    "        break\n",
    "print(f\"Stopping the game at index {i}.\")\n",
    "final_card = shuffled_deck[i + 1]\n",
    "color = 'red' if final_card else 0\n",
    "print(f\"The next card in the deck is {'red' if final_card else 'black'}.\")\n",
    "print(f\"We have {'won' if final_card else 'lost'}!\")"
   ]
  },
  {
   "cell_type": "markdown",
   "id": "d2d42e3e",
   "metadata": {},
   "source": [
    "Chiến lược này đã mang lại chiến thắng trong lần thử đầu tiên của chúng tôi. Chiến lược của chúng tôi dừng lại khi phần số thẻ đỏ còn lại lớn hơn một nửa tổng số thẻ còn lại. Chúng ta có thể tổng quát phân số đó bằng tham số min_red_fraction, do đó sẽ tạm dừng khi tỷ lệ thẻ đỏ lớn hơn giá trị tham số đã nhập. Chiến lược tổng quát này được thực hiện tiếp theo với giá trị đặt trước `min_red_fraction` là 0,5."
   ]
  },
  {
   "cell_type": "markdown",
   "id": "6b2c7db8",
   "metadata": {},
   "source": [
    "Generalizing the card game strategy\n"
   ]
  },
  {
   "cell_type": "code",
   "execution_count": 98,
   "id": "abd5fd43",
   "metadata": {},
   "outputs": [],
   "source": [
    "np.random.seed(0)\n",
    "total_cards = 52\n",
    "total_red_cards = 26\n",
    "def execution_strategy(min_faction_red=0.5,shuffled_deck= None,return_idx = False):\n",
    "    if shuffled_deck is None:\n",
    "        shuffled_deck = np.random.permutation(unshuffled_deck)\n",
    "    remaining_red_cards = total_red_cards\n",
    "    for i,card in enumerate(shuffled_deck[:-1]):\n",
    "        remain_red_cards-=card\n",
    "        fraction_red_cards = remain_total_cards / (total_cards-i-1)\n",
    "        if fraction_red_cards > min_faction_red:\n",
    "            break\n",
    "    return (i+1, shuffled_deck[i+1]) if return_index else shuffled_deck[i+1]"
   ]
  },
  {
   "cell_type": "code",
   "execution_count": null,
   "id": "f5f7862f",
   "metadata": {},
   "outputs": [],
   "source": []
  }
 ],
 "metadata": {
  "kernelspec": {
   "display_name": "Python 3",
   "language": "python",
   "name": "python3"
  },
  "language_info": {
   "codemirror_mode": {
    "name": "ipython",
    "version": 3
   },
   "file_extension": ".py",
   "mimetype": "text/x-python",
   "name": "python",
   "nbconvert_exporter": "python",
   "pygments_lexer": "ipython3",
   "version": "3.8.5"
  }
 },
 "nbformat": 4,
 "nbformat_minor": 5
}
