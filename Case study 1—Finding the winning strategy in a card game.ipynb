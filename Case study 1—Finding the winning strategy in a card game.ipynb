{
 "cells": [
  {
   "cell_type": "code",
   "execution_count": 1,
   "id": "219d4fcf",
   "metadata": {},
   "outputs": [],
   "source": [
    "import numpy as np\n",
    "import pandas as pd\n",
    "import matplotlib.pyplot as plt"
   ]
  },
  {
   "cell_type": "markdown",
   "id": "8ce8429f",
   "metadata": {},
   "source": [
    "## Case Study 1 : Finding the winning strategy in a card game \n"
   ]
  },
  {
   "cell_type": "markdown",
   "id": "e07a5888",
   "metadata": {},
   "source": [
    "### Problem statement\n",
    "Bạn có muốn kiếm được 1 ít tiền không ? Hãy đặt cược và 1 trò chơi bài với số tiền cực nhỏ.Trước mặt bạn là một bộ bài bị xáo trộn. Tất cả 52 lá nằm úp xuống. Một nửa số thẻ có màu đỏ, và một nửa là màu đen. Tôi sẽ tiến hành lật từng thẻ một. Nếu lá bài cuối cùng tôi lật có màu đỏ, bạn sẽ thắng một đô la. Nếu không, bạn sẽ mất một đô la.\n",
    "\n",
    "Đây là bước ngoặt: bạn có thể yêu cầu tôi tạm dừng trò chơi bất cứ lúc nào. Khi bạn nói “Tạm dừng”, tôi sẽ lật lá bài tiếp theo và kết thúc trò chơi. Thẻ tiếp theo sẽ đóng vai trò là thẻ cuối cùng. Bạn sẽ giành được một đô la nếu nó có màu đỏ,"
   ]
  },
  {
   "cell_type": "markdown",
   "id": "2cb1fcb2",
   "metadata": {},
   "source": [
    "#### Overview \n",
    "1. Tính xác xuất và quan sát sự kiện \n",
    "2. Vẽ đồ thị xác xuất của sự kiện trên 1 khoảng thời gian \n",
    "3. Simulate random processes, such as coin flips and card shuffling, using Python."
   ]
  },
  {
   "cell_type": "markdown",
   "id": "b90bc78c",
   "metadata": {},
   "source": [
    "# Computing probabilities using Python \n",
    "Trong chương này chúng ta sẽ học được \n",
    "1. Những cái gì là cơ bản về lý thuyết xác xuất\n",
    "2. Tính xuất xuất của 1 quan sát\n",
    "3. Tính toán xác xuất theo phạm vị quan sát "
   ]
  },
  {
   "cell_type": "markdown",
   "id": "e3341490",
   "metadata": {},
   "source": [
    "## 1.1 Sample space analysis\n",
    "Một hành động có thể đo lường. Một *không gian mẫu* là tập hợp của tất cả các trường hợp có thể xẩy ra của hành động đó . Chúng ta cùng lấy 1 hành động đơi giản của đồng xu. Chỉ đơn giảng là Mặt ngửa hay mặt ups. và chúng ta lưu trữ cái không gian mẫu"
   ]
  },
  {
   "cell_type": "code",
   "execution_count": 3,
   "id": "c01bea2a",
   "metadata": {},
   "outputs": [],
   "source": [
    "sample_space = {'Head','Tails'}"
   ]
  },
  {
   "cell_type": "markdown",
   "id": "1b7c2d1e",
   "metadata": {},
   "source": [
    "Tính toán xác xuất khi tung mặt ngửa\n"
   ]
  },
  {
   "cell_type": "code",
   "execution_count": 4,
   "id": "489b343e",
   "metadata": {},
   "outputs": [
    {
     "name": "stdout",
     "output_type": "stream",
     "text": [
      "Probability of choosing head is 0.5\n"
     ]
    }
   ],
   "source": [
    "probability_heads = 1/len(sample_space)\n",
    "print(f\"Probability of choosing head is {probability_heads}\")"
   ]
  },
  {
   "cell_type": "markdown",
   "id": "84f088b6",
   "metadata": {},
   "source": [
    "**Sự kiện** là 1 tập con của các phần tử trong không gian mẫu phù hợp với 1 vài sự kiện có điều kiên. Một sự kiện điều kiện là đơn giản là Boolean function cái nơi đầu vào là 1 các phần tử là không gian mẫu. Hàm đó trả về `True` khi và chỉ khi element phù hợp với điều kiện của chúng ta"
   ]
  },
  {
   "cell_type": "markdown",
   "id": "e66e394d",
   "metadata": {},
   "source": [
    "Chúng ta cùng định nghĩa các sự kiện có điều kiệu "
   ]
  },
  {
   "cell_type": "code",
   "execution_count": 6,
   "id": "ff7b6142",
   "metadata": {},
   "outputs": [],
   "source": [
    "def is_head_or_tails(outcome):\n",
    "    return outcome in {'Head','Tails'}\n",
    "def is_neither(outcome):\n",
    "    return not is_head_or_tails(outcome)\n",
    "def is_heads(outcome):\n",
    "    return outcome == 'Head'\n",
    "def is_tails(outcome):\n",
    "    return outcome == 'Tails'"
   ]
  },
  {
   "cell_type": "markdown",
   "id": "543485c1",
   "metadata": {},
   "source": [
    "Chúng ta có thể truyền `event condition` vào trong 1 hàm có tên là `get_matching_even` function rằng function định nghĩa ở dưới đây\n"
   ]
  },
  {
   "cell_type": "code",
   "execution_count": 7,
   "id": "c8cee1fc",
   "metadata": {},
   "outputs": [],
   "source": [
    "def get_matching_event(event_condition,sample_space):\n",
    "    return set([outcome for outcome in sample_space if event_condition(outcome)])"
   ]
  },
  {
   "cell_type": "code",
   "execution_count": 8,
   "id": "3b31b8cc",
   "metadata": {},
   "outputs": [],
   "source": [
    "event_conditions = [is_head_or_tails,is_heads,is_tails,is_neither]\n",
    "for event_condition in event_conditions:\n",
    "    print(f\"Event condition : {event_condition.__name__}\")\n"
   ]
  },
  {
   "cell_type": "code",
   "execution_count": null,
   "id": "2f0b24cc",
   "metadata": {},
   "outputs": [],
   "source": []
  }
 ],
 "metadata": {
  "kernelspec": {
   "display_name": "Python 3",
   "language": "python",
   "name": "python3"
  },
  "language_info": {
   "codemirror_mode": {
    "name": "ipython",
    "version": 3
   },
   "file_extension": ".py",
   "mimetype": "text/x-python",
   "name": "python",
   "nbconvert_exporter": "python",
   "pygments_lexer": "ipython3",
   "version": "3.8.5"
  }
 },
 "nbformat": 4,
 "nbformat_minor": 5
}
