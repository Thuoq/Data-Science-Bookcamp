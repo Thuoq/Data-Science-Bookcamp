{
 "cells": [
  {
   "cell_type": "code",
   "execution_count": 1,
   "id": "219d4fcf",
   "metadata": {},
   "outputs": [],
   "source": [
    "import numpy as np\n",
    "import pandas as pd\n",
    "import matplotlib.pyplot as plt\n"
   ]
  },
  {
   "cell_type": "markdown",
   "id": "8ce8429f",
   "metadata": {},
   "source": [
    "## Case Study 1 : Finding the winning strategy in a card game \n"
   ]
  },
  {
   "cell_type": "markdown",
   "id": "e07a5888",
   "metadata": {},
   "source": [
    "### Problem statement\n",
    "Bạn có muốn kiếm được 1 ít tiền không ? Hãy đặt cược và 1 trò chơi bài với số tiền cực nhỏ.Trước mặt bạn là một bộ bài bị xáo trộn. Tất cả 52 lá nằm úp xuống. Một nửa số thẻ có màu đỏ, và một nửa là màu đen. Tôi sẽ tiến hành lật từng thẻ một. Nếu lá bài cuối cùng tôi lật có màu đỏ, bạn sẽ thắng một đô la. Nếu không, bạn sẽ mất một đô la.\n",
    "\n",
    "Đây là bước ngoặt: bạn có thể yêu cầu tôi tạm dừng trò chơi bất cứ lúc nào. Khi bạn nói “Tạm dừng”, tôi sẽ lật lá bài tiếp theo và kết thúc trò chơi. Thẻ tiếp theo sẽ đóng vai trò là thẻ cuối cùng. Bạn sẽ giành được một đô la nếu nó có màu đỏ,"
   ]
  },
  {
   "cell_type": "markdown",
   "id": "2cb1fcb2",
   "metadata": {},
   "source": [
    "#### Overview \n",
    "1. Tính xác xuất và quan sát sự kiện \n",
    "2. Vẽ đồ thị xác xuất của sự kiện trên 1 khoảng thời gian \n",
    "3. Simulate random processes, such as coin flips and card shuffling, using Python."
   ]
  },
  {
   "cell_type": "markdown",
   "id": "b90bc78c",
   "metadata": {},
   "source": [
    "# Computing probabilities using Python \n",
    "Trong chương này chúng ta sẽ học được \n",
    "1. Những cái gì là cơ bản về lý thuyết xác xuất\n",
    "2. Tính xuất xuất của 1 quan sát\n",
    "3. Tính toán xác xuất theo phạm vị quan sát "
   ]
  },
  {
   "cell_type": "markdown",
   "id": "e3341490",
   "metadata": {},
   "source": [
    "## 1.1 Sample space analysis\n",
    "Một hành động có thể đo lường. Một *không gian mẫu* là tập hợp của tất cả các trường hợp có thể xẩy ra của hành động đó . Chúng ta cùng lấy 1 hành động đơi giản của đồng xu. Chỉ đơn giảng là Mặt ngửa hay mặt ups. và chúng ta lưu trữ cái không gian mẫu"
   ]
  },
  {
   "cell_type": "code",
   "execution_count": 2,
   "id": "c01bea2a",
   "metadata": {},
   "outputs": [],
   "source": [
    "sample_space = {'Head','Tails'}"
   ]
  },
  {
   "cell_type": "markdown",
   "id": "1b7c2d1e",
   "metadata": {},
   "source": [
    "Tính toán xác xuất khi tung mặt ngửa\n"
   ]
  },
  {
   "cell_type": "code",
   "execution_count": 3,
   "id": "489b343e",
   "metadata": {},
   "outputs": [
    {
     "name": "stdout",
     "output_type": "stream",
     "text": [
      "Probability of choosing head is 0.5\n"
     ]
    }
   ],
   "source": [
    "probability_heads = 1/len(sample_space)\n",
    "print(f\"Probability of choosing head is {probability_heads}\")"
   ]
  },
  {
   "cell_type": "markdown",
   "id": "84f088b6",
   "metadata": {},
   "source": [
    "**Sự kiện** là 1 tập con của các phần tử trong không gian mẫu phù hợp với 1 vài sự kiện có điều kiên. Một sự kiện điều kiện là đơn giản là Boolean function cái nơi đầu vào là 1 các phần tử là không gian mẫu. Hàm đó trả về `True` khi và chỉ khi element phù hợp với điều kiện của chúng ta"
   ]
  },
  {
   "cell_type": "markdown",
   "id": "e66e394d",
   "metadata": {},
   "source": [
    "Chúng ta cùng định nghĩa các sự kiện có điều kiệu "
   ]
  },
  {
   "cell_type": "code",
   "execution_count": 4,
   "id": "ff7b6142",
   "metadata": {},
   "outputs": [],
   "source": [
    "def is_head_or_tails(outcome):\n",
    "    return outcome in {'Head','Tails'}\n",
    "def is_neither(outcome):\n",
    "    return not is_head_or_tails(outcome)\n",
    "def is_heads(outcome):\n",
    "    return outcome == 'Head'\n",
    "def is_tails(outcome):\n",
    "    return outcome == 'Tails'"
   ]
  },
  {
   "cell_type": "markdown",
   "id": "543485c1",
   "metadata": {},
   "source": [
    "Chúng ta có thể truyền `event condition` vào trong 1 hàm có tên là `get_matching_even` function rằng function định nghĩa ở dưới đây\n"
   ]
  },
  {
   "cell_type": "code",
   "execution_count": 5,
   "id": "c8cee1fc",
   "metadata": {},
   "outputs": [],
   "source": [
    "def get_matching_event(event_condition,sample_space):\n",
    "    return set([outcome for outcome in sample_space if event_condition(outcome)])"
   ]
  },
  {
   "cell_type": "code",
   "execution_count": 6,
   "id": "3b31b8cc",
   "metadata": {},
   "outputs": [
    {
     "name": "stdout",
     "output_type": "stream",
     "text": [
      "Event condition : is_head_or_tails\n",
      "Event: {'Tails', 'Head'}\n",
      "Event condition : is_heads\n",
      "Event: {'Head'}\n",
      "Event condition : is_tails\n",
      "Event: {'Tails'}\n",
      "Event condition : is_neither\n",
      "Event: set()\n"
     ]
    }
   ],
   "source": [
    "event_conditions = [is_head_or_tails,is_heads,is_tails,is_neither]\n",
    "for event_condition in event_conditions:\n",
    "    print(f\"Event condition : {event_condition.__name__}\")\n",
    "    event = get_matching_event(event_condition,sample_space)\n",
    "    print(f\"Event: {event}\")\n"
   ]
  },
  {
   "cell_type": "code",
   "execution_count": 7,
   "id": "2f0b24cc",
   "metadata": {},
   "outputs": [],
   "source": [
    "def compute_probability(event_condition,generic_sample_space):\n",
    "    event = get_matching_event(event_condition,generic_sample_space)\n",
    "    return len(event)/len(generic_sample_space)\n",
    "    "
   ]
  },
  {
   "cell_type": "code",
   "execution_count": 8,
   "id": "e2428cde",
   "metadata": {},
   "outputs": [
    {
     "name": "stdout",
     "output_type": "stream",
     "text": [
      "Probability of event arising from 'is_head_or_tails' is 1.0\n",
      "Probability of event arising from 'is_heads' is 0.5\n",
      "Probability of event arising from 'is_tails' is 0.5\n",
      "Probability of event arising from 'is_neither' is 0.0\n"
     ]
    }
   ],
   "source": [
    "for event_condition in event_conditions:\n",
    "    prob = compute_probability(event_condition, sample_space)\n",
    "    name = event_condition.__name__\n",
    "    print(f\"Probability of event arising from '{name}' is {prob}\")"
   ]
  },
  {
   "cell_type": "markdown",
   "id": "c637edb2",
   "metadata": {},
   "source": [
    "### 1.1.1 Analyzing a biased coin\n",
    "Chúng ta đã tính toán xác xuất của 1 unbiased coin. Cái gì xảy ra nếu coin có thêm biased. Giả sử rằng, coin mặt ngửa khả năng rơi vào mặt ngửa là gấp 4 lần thằng mặt sấp. Làm ntn để chúng ta tính đoán cái `outcome`"
   ]
  },
  {
   "cell_type": "code",
   "execution_count": 9,
   "id": "bb7c0dba",
   "metadata": {},
   "outputs": [],
   "source": [
    "weighted_sample_space = {'Heads':4,'Tails':1}"
   ]
  },
  {
   "cell_type": "markdown",
   "id": "4ddc072c",
   "metadata": {},
   "source": [
    "Chúng ta đã có 1 không gian mẫu mới và được lưu trữ trong 1 dic. Đây sẽ cho phép chúng ta định nghĩa lại cái size của không gian mẫu là `sum weight`."
   ]
  },
  {
   "cell_type": "code",
   "execution_count": 10,
   "id": "db137df2",
   "metadata": {},
   "outputs": [
    {
     "name": "stdout",
     "output_type": "stream",
     "text": [
      "5\n"
     ]
    }
   ],
   "source": [
    "sample_space_size = sum(weighted_sample_space.values())\n",
    "print(sample_space_size)"
   ]
  },
  {
   "cell_type": "code",
   "execution_count": 11,
   "id": "4555cc0c",
   "metadata": {},
   "outputs": [],
   "source": [
    "assert sample_space_size == 5"
   ]
  },
  {
   "cell_type": "markdown",
   "id": "99cc1050",
   "metadata": {},
   "source": [
    "Chúng ta đã định nghĩa lại cái kích thước của sự kiện. Mỗi sự kiệu là tập của outcomes và cái đó phải map với weiths. "
   ]
  },
  {
   "cell_type": "code",
   "execution_count": 12,
   "id": "8ef72782",
   "metadata": {},
   "outputs": [
    {
     "ename": "AssertionError",
     "evalue": "",
     "output_type": "error",
     "traceback": [
      "\u001b[0;31m---------------------------------------------------------------------------\u001b[0m",
      "\u001b[0;31mAssertionError\u001b[0m                            Traceback (most recent call last)",
      "\u001b[0;32m/var/folders/m7/8zsps4310yn_y3x0qstcdzq80000gn/T/ipykernel_1767/3768732734.py\u001b[0m in \u001b[0;36m<module>\u001b[0;34m\u001b[0m\n\u001b[1;32m      1\u001b[0m \u001b[0mevent\u001b[0m \u001b[0;34m=\u001b[0m \u001b[0mget_matching_event\u001b[0m\u001b[0;34m(\u001b[0m\u001b[0mis_head_or_tails\u001b[0m\u001b[0;34m,\u001b[0m\u001b[0mweighted_sample_space\u001b[0m\u001b[0;34m)\u001b[0m\u001b[0;34m\u001b[0m\u001b[0;34m\u001b[0m\u001b[0m\n\u001b[1;32m      2\u001b[0m \u001b[0mevent_size\u001b[0m \u001b[0;34m=\u001b[0m \u001b[0msum\u001b[0m\u001b[0;34m(\u001b[0m\u001b[0mweighted_sample_space\u001b[0m\u001b[0;34m[\u001b[0m\u001b[0moutcome\u001b[0m\u001b[0;34m]\u001b[0m \u001b[0;32mfor\u001b[0m \u001b[0moutcome\u001b[0m \u001b[0;32min\u001b[0m \u001b[0mevent\u001b[0m\u001b[0;34m)\u001b[0m\u001b[0;34m\u001b[0m\u001b[0;34m\u001b[0m\u001b[0m\n\u001b[0;32m----> 3\u001b[0;31m \u001b[0;32massert\u001b[0m  \u001b[0mevent_size\u001b[0m \u001b[0;34m==\u001b[0m \u001b[0;36m5\u001b[0m\u001b[0;34m\u001b[0m\u001b[0;34m\u001b[0m\u001b[0m\n\u001b[0m",
      "\u001b[0;31mAssertionError\u001b[0m: "
     ]
    }
   ],
   "source": [
    "event = get_matching_event(is_head_or_tails,weighted_sample_space)\n",
    "event_size = sum(weighted_sample_space[outcome] for outcome in event)\n",
    "assert  event_size == 5"
   ]
  },
  {
   "cell_type": "code",
   "execution_count": 13,
   "id": "2293f0eb",
   "metadata": {},
   "outputs": [],
   "source": [
    "def compute_event_probability(event_condition,generic_sample_space):\n",
    "    event = get_matching_event(event_condition,generic_sample_space)\n",
    "    if type(generic_sample_space) == type(set()):\n",
    "        return len(event)/len(generic_sample_space)\n",
    "    \n",
    "    event_size = sum(generic_sample_space[outcome] for outcome in event)\n",
    "    return event_size/sum(generic_sample_space.values())"
   ]
  },
  {
   "cell_type": "code",
   "execution_count": 14,
   "id": "2f609e1c",
   "metadata": {},
   "outputs": [
    {
     "name": "stdout",
     "output_type": "stream",
     "text": [
      "Probability of event arising from 'is_head_or_tails' is 0.2\n",
      "Probability of event arising from 'is_heads' is 0.0\n",
      "Probability of event arising from 'is_tails' is 0.2\n",
      "Probability of event arising from 'is_neither' is 0.8\n"
     ]
    }
   ],
   "source": [
    "for event_condition in event_conditions:\n",
    "    prob = compute_event_probability(event_condition, weighted_sample_space)\n",
    "    name = event_condition.__name__\n",
    "    print(f\"Probability of event arising from '{name}' is {prob}\")"
   ]
  },
  {
   "cell_type": "markdown",
   "id": "4d852ba0",
   "metadata": {},
   "source": [
    "##  Computing nontrivial probabilities \n",
    "Chúng ta sẽ giải quyết một số vấn đề ví dụ bằng cách sử dụng *compute_event_probability*"
   ]
  },
  {
   "cell_type": "markdown",
   "id": "bc799b1b",
   "metadata": {},
   "source": [
    "### 1.2.1 Problem 1: Phân tính 1 gia đình với 4 người con \n",
    "Giả sử 1 gia đình có 4 người con. Xác xuất 2 người con là nam ?. Chúng ta sẽ giả sử rằng mỗi con đc sinh ra là nam hoặc nữ. Vì vậy chúng ta có thể xây dựng 1 không gian mẫu không có trọng lượng cái nơi mà mỗi outcome đại diện cho 1 sequences có thể xảy ra của 4 người con được show ở dưới "
   ]
  },
  {
   "cell_type": "markdown",
   "id": "f1108003",
   "metadata": {},
   "source": [
    "BBBB\n",
    "BBBG \n",
    "BBGB\n",
    "BGBB\n",
    "GBBB\n",
    "GGBB\n",
    "GBBG\n",
    "GBBG\n",
    "BBGG\n",
    "BGBG\n",
    "GBGB\n",
    "BGGB\n",
    "BGGG\n",
    "GGGB\n",
    "GBGG\n",
    "GGBG\n",
    "GGGG"
   ]
  },
  {
   "cell_type": "code",
   "execution_count": 15,
   "id": "d3c12db9",
   "metadata": {},
   "outputs": [
    {
     "data": {
      "text/plain": [
       "{('Boy', 'Boy', 'Boy', 'Boy'),\n",
       " ('Boy', 'Boy', 'Boy', 'Girl'),\n",
       " ('Boy', 'Boy', 'Girl', 'Boy'),\n",
       " ('Boy', 'Boy', 'Girl', 'Girl'),\n",
       " ('Boy', 'Girl', 'Boy', 'Boy'),\n",
       " ('Boy', 'Girl', 'Boy', 'Girl'),\n",
       " ('Boy', 'Girl', 'Girl', 'Boy'),\n",
       " ('Boy', 'Girl', 'Girl', 'Girl'),\n",
       " ('Girl', 'Boy', 'Boy', 'Boy'),\n",
       " ('Girl', 'Boy', 'Boy', 'Girl'),\n",
       " ('Girl', 'Boy', 'Girl', 'Boy'),\n",
       " ('Girl', 'Boy', 'Girl', 'Girl'),\n",
       " ('Girl', 'Girl', 'Boy', 'Boy'),\n",
       " ('Girl', 'Girl', 'Boy', 'Girl'),\n",
       " ('Girl', 'Girl', 'Girl', 'Boy'),\n",
       " ('Girl', 'Girl', 'Girl', 'Girl')}"
      ]
     },
     "execution_count": 15,
     "metadata": {},
     "output_type": "execute_result"
    }
   ],
   "source": [
    "possible_children= ['Boy','Girl']\n",
    "sample_space = set()\n",
    "for child_1 in possible_children:\n",
    "    for child_2 in possible_children:\n",
    "        for child_3 in possible_children:\n",
    "            for child_4 in possible_children:\n",
    "                outcome = (child_1,child_2,child_3,child_4)\n",
    "                sample_space.add(outcome)\n",
    "sample_space"
   ]
  },
  {
   "cell_type": "markdown",
   "id": "8b2e891c",
   "metadata": {},
   "source": [
    "Chúng ta đã chạy 4 for nested lốp và khám phá ra 1 trật tự của 4 trường hợp. Nhưng ở trên kp là code tối ưu nhất để sử dụng. Chúng ta có thể dễ dàng tạo ra không gian mẫu sử dụng *Python*`itertools.product` function nó sẽ trả về cặt combinartions của tất cả các phần tử trong tất cả input list."
   ]
  },
  {
   "cell_type": "code",
   "execution_count": 16,
   "id": "5bb6506d",
   "metadata": {},
   "outputs": [
    {
     "data": {
      "text/plain": [
       "{('Boy', 'Boy', 'Boy', 'Boy'),\n",
       " ('Boy', 'Boy', 'Boy', 'Girl'),\n",
       " ('Boy', 'Boy', 'Girl', 'Boy'),\n",
       " ('Boy', 'Boy', 'Girl', 'Girl'),\n",
       " ('Boy', 'Girl', 'Boy', 'Boy'),\n",
       " ('Boy', 'Girl', 'Boy', 'Girl'),\n",
       " ('Boy', 'Girl', 'Girl', 'Boy'),\n",
       " ('Boy', 'Girl', 'Girl', 'Girl'),\n",
       " ('Girl', 'Boy', 'Boy', 'Boy'),\n",
       " ('Girl', 'Boy', 'Boy', 'Girl'),\n",
       " ('Girl', 'Boy', 'Girl', 'Boy'),\n",
       " ('Girl', 'Boy', 'Girl', 'Girl'),\n",
       " ('Girl', 'Girl', 'Boy', 'Boy'),\n",
       " ('Girl', 'Girl', 'Boy', 'Girl'),\n",
       " ('Girl', 'Girl', 'Girl', 'Boy'),\n",
       " ('Girl', 'Girl', 'Girl', 'Girl')}"
      ]
     },
     "execution_count": 16,
     "metadata": {},
     "output_type": "execute_result"
    }
   ],
   "source": [
    "from itertools import  product\n",
    "all_combinations = product(*(4*[possible_children]))\n",
    "set(all_combinations)"
   ]
  },
  {
   "cell_type": "markdown",
   "id": "32b4ea08",
   "metadata": {},
   "source": [
    "Chúng ta có thể sử dụng tốt hơn bởi sử dụng code\n",
    "```\n",
    "set(product(possible_children,repeat=4))\n",
    "```"
   ]
  },
  {
   "cell_type": "code",
   "execution_count": 17,
   "id": "3c3c8c53",
   "metadata": {},
   "outputs": [],
   "source": [
    "sample_space_efficient = set(product(possible_children, repeat=4))"
   ]
  },
  {
   "cell_type": "markdown",
   "id": "5a4c7303",
   "metadata": {},
   "source": [
    "Tính xác suất của trường hợp 2 boys\n"
   ]
  },
  {
   "cell_type": "code",
   "execution_count": 18,
   "id": "e854c03f",
   "metadata": {},
   "outputs": [],
   "source": [
    "def has_two_boys(outcome):\n",
    "    return len([child for child in outcome if child == 'Boy']) == 2"
   ]
  },
  {
   "cell_type": "code",
   "execution_count": 19,
   "id": "dbabc202",
   "metadata": {},
   "outputs": [
    {
     "name": "stdout",
     "output_type": "stream",
     "text": [
      "Probability of 2 boys is 0.375\n"
     ]
    }
   ],
   "source": [
    "prob = compute_event_probability(has_two_boys, sample_space)\n",
    "print(f\"Probability of 2 boys is {prob}\")\n",
    "#Probability of 2 boys is 0.37"
   ]
  },
  {
   "cell_type": "markdown",
   "id": "73129cee",
   "metadata": {},
   "source": [
    "### 1.2.2: Problem 2: Phân tích nhiều con xúc xắc\n",
    "\n",
    "Giả sử chúng ta 1 cái xúc xắc và các mặt đánh số từ 1 tới 6. và tung nó lên 6 lần. vậy xác xuất mỗi lầ là là 21 ? "
   ]
  },
  {
   "cell_type": "code",
   "execution_count": 20,
   "id": "fef7a30a",
   "metadata": {},
   "outputs": [
    {
     "name": "stdout",
     "output_type": "stream",
     "text": [
      "[1, 2, 3, 4, 5, 6]\n"
     ]
    }
   ],
   "source": [
    "possible_rolls = list(range(1,7))\n",
    "print(possible_rolls)"
   ]
  },
  {
   "cell_type": "markdown",
   "id": "6709a6eb",
   "metadata": {},
   "source": [
    "Tiếp đến chúng ta tạo 1 không gian mẫu cho 6 lần tung xúc xắc sử dụng `product function`"
   ]
  },
  {
   "cell_type": "code",
   "execution_count": 21,
   "id": "86165f40",
   "metadata": {},
   "outputs": [
    {
     "data": {
      "text/plain": [
       "{(3, 1, 4, 6, 4, 3),\n",
       " (6, 1, 3, 6, 3, 3),\n",
       " (2, 4, 2, 6, 4, 3),\n",
       " (2, 6, 4, 6, 3, 6),\n",
       " (3, 1, 1, 2, 2, 3),\n",
       " (2, 2, 5, 5, 5, 5),\n",
       " (1, 3, 6, 3, 6, 5),\n",
       " (6, 2, 3, 3, 2, 6),\n",
       " (6, 1, 4, 1, 2, 5),\n",
       " (2, 5, 2, 3, 3, 6),\n",
       " (6, 2, 3, 2, 3, 2),\n",
       " (2, 3, 3, 6, 3, 1),\n",
       " (1, 3, 6, 1, 3, 6),\n",
       " (1, 6, 1, 6, 4, 4),\n",
       " (4, 4, 4, 5, 5, 1),\n",
       " (3, 4, 2, 1, 6, 6),\n",
       " (3, 1, 6, 5, 2, 6),\n",
       " (3, 1, 6, 4, 3, 2),\n",
       " (3, 5, 3, 3, 2, 3),\n",
       " (3, 6, 5, 3, 3, 4),\n",
       " (6, 4, 4, 5, 5, 2),\n",
       " (4, 5, 6, 1, 6, 4),\n",
       " (5, 1, 3, 6, 4, 2),\n",
       " (3, 6, 3, 5, 5, 6),\n",
       " (3, 4, 2, 6, 6, 1),\n",
       " (6, 3, 5, 3, 1, 1),\n",
       " (1, 2, 6, 2, 2, 2),\n",
       " (1, 4, 2, 6, 5, 3),\n",
       " (6, 5, 4, 1, 5, 1),\n",
       " (2, 3, 5, 1, 3, 3),\n",
       " (1, 1, 1, 1, 6, 3),\n",
       " (1, 2, 2, 4, 1, 4),\n",
       " (3, 6, 4, 5, 6, 6),\n",
       " (6, 5, 3, 1, 5, 3),\n",
       " (4, 2, 5, 2, 1, 2),\n",
       " (1, 5, 3, 2, 6, 5),\n",
       " (2, 4, 1, 5, 3, 6),\n",
       " (2, 1, 2, 3, 5, 5),\n",
       " (3, 2, 4, 4, 5, 4),\n",
       " (2, 6, 1, 1, 6, 3),\n",
       " (5, 4, 5, 5, 6, 2),\n",
       " (2, 3, 4, 3, 6, 5),\n",
       " (6, 6, 6, 2, 2, 3),\n",
       " (3, 5, 4, 5, 1, 1),\n",
       " (4, 2, 4, 4, 4, 4),\n",
       " (4, 4, 5, 2, 3, 6),\n",
       " (5, 6, 5, 1, 3, 6),\n",
       " (5, 1, 2, 5, 3, 5),\n",
       " (2, 5, 4, 5, 3, 4),\n",
       " (1, 2, 1, 1, 2, 2),\n",
       " (2, 5, 6, 4, 6, 1),\n",
       " (5, 1, 2, 4, 4, 1),\n",
       " (1, 6, 5, 3, 3, 2),\n",
       " (1, 3, 2, 6, 4, 4),\n",
       " (6, 3, 4, 5, 2, 2),\n",
       " (4, 6, 6, 5, 5, 6),\n",
       " (6, 2, 3, 1, 1, 2),\n",
       " (6, 6, 5, 4, 5, 5),\n",
       " (2, 5, 1, 1, 1, 4),\n",
       " (3, 5, 5, 5, 2, 1),\n",
       " (4, 2, 3, 5, 6, 3),\n",
       " (2, 5, 2, 1, 2, 2),\n",
       " (4, 2, 5, 4, 5, 4),\n",
       " (4, 6, 6, 4, 6, 2),\n",
       " (6, 6, 3, 5, 6, 4),\n",
       " (4, 6, 1, 6, 3, 1),\n",
       " (6, 1, 1, 6, 4, 3),\n",
       " (3, 3, 6, 4, 1, 6),\n",
       " (3, 1, 6, 3, 1, 2),\n",
       " (4, 6, 3, 1, 3, 6),\n",
       " (5, 6, 2, 4, 3, 3),\n",
       " (4, 5, 4, 1, 6, 2),\n",
       " (2, 6, 2, 6, 4, 6),\n",
       " (3, 6, 3, 4, 3, 6),\n",
       " (4, 3, 3, 1, 6, 2),\n",
       " (6, 2, 1, 3, 3, 6),\n",
       " (3, 6, 3, 3, 4, 2),\n",
       " (1, 2, 5, 2, 6, 6),\n",
       " (6, 2, 1, 2, 4, 2),\n",
       " (2, 3, 1, 6, 4, 1),\n",
       " (3, 1, 4, 5, 3, 6),\n",
       " (6, 2, 6, 2, 2, 5),\n",
       " (6, 4, 2, 6, 5, 6),\n",
       " (3, 6, 4, 4, 4, 6),\n",
       " (1, 4, 6, 2, 1, 6),\n",
       " (5, 3, 5, 6, 4, 4),\n",
       " (4, 3, 5, 4, 1, 3),\n",
       " (6, 2, 6, 1, 3, 1),\n",
       " (6, 4, 2, 5, 6, 2),\n",
       " (3, 6, 1, 5, 6, 6),\n",
       " (1, 1, 6, 2, 4, 2),\n",
       " (2, 4, 1, 3, 2, 2),\n",
       " (3, 2, 6, 5, 1, 2),\n",
       " (1, 1, 5, 2, 1, 1),\n",
       " (6, 5, 2, 2, 5, 5),\n",
       " (4, 6, 5, 3, 5, 5),\n",
       " (6, 5, 2, 1, 6, 1),\n",
       " (1, 4, 1, 5, 3, 6),\n",
       " (5, 6, 5, 4, 6, 2),\n",
       " (4, 3, 4, 6, 4, 5),\n",
       " (2, 6, 5, 2, 1, 1),\n",
       " (5, 6, 6, 5, 5, 6),\n",
       " (1, 3, 6, 3, 3, 2),\n",
       " (4, 6, 6, 3, 3, 2),\n",
       " (1, 1, 4, 4, 4, 3),\n",
       " (6, 1, 5, 4, 2, 5),\n",
       " (6, 1, 3, 5, 3, 4),\n",
       " (4, 3, 1, 2, 2, 5),\n",
       " (6, 1, 1, 5, 1, 3),\n",
       " (6, 5, 6, 4, 3, 3),\n",
       " (1, 3, 4, 4, 5, 1),\n",
       " (1, 6, 2, 3, 3, 2),\n",
       " (2, 2, 2, 3, 4, 1),\n",
       " (5, 2, 3, 4, 4, 5),\n",
       " (2, 6, 6, 3, 3, 4),\n",
       " (2, 6, 4, 4, 4, 3),\n",
       " (4, 4, 3, 2, 4, 6),\n",
       " (6, 4, 1, 4, 5, 5),\n",
       " (6, 2, 1, 1, 1, 2),\n",
       " (2, 3, 5, 4, 2, 3),\n",
       " (4, 4, 4, 4, 5, 2),\n",
       " (3, 4, 4, 2, 4, 5),\n",
       " (1, 2, 5, 1, 4, 6),\n",
       " (4, 5, 6, 3, 1, 6),\n",
       " (2, 5, 2, 1, 5, 3),\n",
       " (4, 5, 2, 2, 6, 6),\n",
       " (3, 2, 1, 1, 2, 6),\n",
       " (6, 2, 4, 2, 5, 6),\n",
       " (2, 1, 2, 3, 2, 2),\n",
       " (1, 2, 5, 6, 4, 1),\n",
       " (3, 6, 1, 4, 4, 6),\n",
       " (3, 6, 5, 1, 5, 1),\n",
       " (2, 3, 4, 5, 6, 1),\n",
       " (3, 2, 2, 3, 6, 5),\n",
       " (4, 3, 2, 4, 1, 3),\n",
       " (3, 6, 1, 3, 5, 2),\n",
       " (5, 6, 5, 3, 3, 2),\n",
       " (3, 2, 2, 1, 3, 6),\n",
       " (6, 2, 4, 6, 1, 6),\n",
       " (4, 1, 6, 3, 6, 2),\n",
       " (4, 6, 5, 1, 4, 1),\n",
       " (5, 4, 3, 2, 4, 4),\n",
       " (3, 6, 2, 4, 5, 6),\n",
       " (5, 4, 6, 6, 3, 3),\n",
       " (1, 4, 2, 3, 3, 5),\n",
       " (3, 2, 4, 5, 1, 2),\n",
       " (1, 5, 5, 3, 5, 4),\n",
       " (2, 6, 3, 2, 4, 2),\n",
       " (1, 3, 6, 2, 1, 2),\n",
       " (3, 4, 3, 4, 5, 6),\n",
       " (4, 3, 1, 6, 4, 5),\n",
       " (5, 3, 4, 2, 3, 2),\n",
       " (4, 4, 3, 1, 1, 6),\n",
       " (6, 2, 5, 6, 2, 6),\n",
       " (6, 1, 5, 2, 1, 1),\n",
       " (2, 5, 6, 6, 1, 3),\n",
       " (4, 4, 1, 2, 4, 4),\n",
       " (5, 2, 6, 1, 3, 5),\n",
       " (4, 3, 2, 6, 5, 5),\n",
       " (4, 2, 2, 6, 2, 1),\n",
       " (5, 5, 1, 4, 1, 1),\n",
       " (3, 1, 2, 3, 5, 6),\n",
       " (5, 2, 2, 3, 3, 6),\n",
       " (4, 2, 4, 1, 2, 6),\n",
       " (4, 6, 6, 6, 1, 4),\n",
       " (4, 6, 6, 3, 6, 3),\n",
       " (2, 1, 1, 2, 2, 5),\n",
       " (4, 2, 5, 2, 6, 1),\n",
       " (6, 1, 1, 5, 4, 4),\n",
       " (1, 5, 1, 1, 6, 6),\n",
       " (6, 1, 2, 5, 5, 2),\n",
       " (1, 4, 4, 5, 2, 1),\n",
       " (1, 3, 2, 4, 6, 1),\n",
       " (5, 5, 6, 3, 3, 3),\n",
       " (3, 4, 1, 2, 4, 5),\n",
       " (1, 2, 2, 1, 4, 6),\n",
       " (3, 2, 5, 4, 2, 6),\n",
       " (2, 5, 5, 4, 6, 4),\n",
       " (6, 6, 3, 6, 3, 2),\n",
       " (4, 1, 5, 2, 5, 5),\n",
       " (4, 1, 3, 2, 3, 4),\n",
       " (2, 6, 6, 3, 6, 5),\n",
       " (4, 5, 3, 3, 1, 6),\n",
       " (2, 6, 2, 4, 5, 3),\n",
       " (4, 5, 4, 3, 2, 4),\n",
       " (5, 2, 1, 4, 5, 5),\n",
       " (6, 2, 3, 4, 1, 5),\n",
       " (3, 6, 1, 2, 2, 2),\n",
       " (4, 1, 5, 1, 6, 1),\n",
       " (3, 3, 6, 2, 3, 3),\n",
       " (4, 6, 1, 3, 1, 3),\n",
       " (6, 2, 1, 1, 4, 3),\n",
       " (6, 6, 4, 1, 2, 4),\n",
       " (1, 6, 4, 2, 3, 6),\n",
       " (2, 5, 2, 4, 2, 5),\n",
       " (1, 4, 5, 5, 3, 1),\n",
       " (2, 3, 6, 2, 5, 6),\n",
       " (3, 4, 2, 2, 5, 5),\n",
       " (1, 2, 3, 4, 4, 3),\n",
       " (3, 6, 6, 1, 4, 4),\n",
       " (5, 3, 2, 6, 6, 5),\n",
       " (5, 4, 2, 1, 1, 6),\n",
       " (5, 4, 3, 1, 2, 4),\n",
       " (3, 3, 5, 4, 6, 5),\n",
       " (6, 1, 6, 2, 6, 6),\n",
       " (2, 6, 3, 1, 2, 2),\n",
       " (4, 3, 1, 5, 2, 5),\n",
       " (3, 4, 2, 6, 1, 5),\n",
       " (5, 3, 5, 3, 2, 6),\n",
       " (4, 3, 1, 4, 3, 1),\n",
       " (5, 2, 3, 6, 4, 1),\n",
       " (6, 5, 4, 3, 4, 4),\n",
       " (6, 5, 2, 3, 2, 3),\n",
       " (1, 5, 4, 4, 5, 6),\n",
       " (1, 4, 1, 3, 4, 3),\n",
       " (6, 2, 2, 6, 2, 6),\n",
       " (4, 4, 1, 1, 2, 4),\n",
       " (5, 4, 1, 2, 5, 4),\n",
       " (6, 3, 5, 6, 4, 5),\n",
       " (1, 6, 5, 4, 2, 4),\n",
       " (1, 5, 3, 3, 6, 4),\n",
       " (2, 2, 5, 4, 3, 3),\n",
       " (4, 4, 2, 1, 3, 4),\n",
       " (1, 5, 6, 6, 1, 3),\n",
       " (2, 2, 4, 6, 5, 5),\n",
       " (5, 2, 5, 1, 4, 3),\n",
       " (2, 6, 6, 1, 4, 1),\n",
       " (2, 4, 2, 6, 1, 2),\n",
       " (1, 6, 6, 4, 3, 4),\n",
       " (2, 5, 4, 6, 2, 3),\n",
       " (1, 3, 3, 4, 5, 4),\n",
       " (1, 3, 1, 5, 6, 3),\n",
       " (5, 1, 3, 1, 1, 6),\n",
       " (6, 3, 4, 6, 1, 1),\n",
       " (6, 1, 4, 4, 6, 4),\n",
       " (1, 4, 3, 6, 5, 6),\n",
       " (4, 6, 6, 6, 4, 5),\n",
       " (2, 3, 6, 1, 3, 6),\n",
       " (2, 5, 2, 2, 1, 1),\n",
       " (3, 6, 2, 6, 5, 2),\n",
       " (1, 4, 2, 5, 3, 1),\n",
       " (3, 3, 5, 3, 3, 5),\n",
       " (4, 2, 6, 1, 6, 5),\n",
       " (2, 1, 4, 1, 1, 4),\n",
       " (6, 6, 3, 6, 6, 3),\n",
       " (6, 6, 1, 6, 4, 2),\n",
       " (6, 4, 4, 5, 2, 1),\n",
       " (3, 2, 3, 4, 3, 6),\n",
       " (4, 1, 1, 6, 2, 5),\n",
       " (4, 5, 6, 1, 3, 3),\n",
       " (4, 1, 3, 2, 6, 5),\n",
       " (5, 1, 3, 6, 1, 1),\n",
       " (3, 6, 3, 5, 2, 5),\n",
       " (2, 4, 1, 4, 1, 4),\n",
       " (3, 2, 5, 3, 6, 3),\n",
       " (3, 6, 1, 2, 5, 3),\n",
       " (4, 5, 2, 3, 3, 4),\n",
       " (5, 4, 4, 5, 4, 4),\n",
       " (4, 1, 6, 5, 1, 4),\n",
       " (5, 4, 1, 1, 2, 4),\n",
       " (5, 2, 6, 3, 3, 1),\n",
       " (6, 2, 6, 3, 1, 4),\n",
       " (3, 6, 4, 5, 3, 5),\n",
       " (2, 4, 6, 3, 3, 6),\n",
       " (1, 5, 3, 2, 3, 4),\n",
       " (1, 5, 1, 4, 5, 6),\n",
       " (6, 3, 5, 5, 2, 5),\n",
       " (1, 2, 6, 4, 3, 6),\n",
       " (3, 4, 3, 2, 6, 3),\n",
       " (1, 5, 1, 3, 6, 2),\n",
       " (3, 3, 1, 1, 1, 3),\n",
       " (3, 3, 6, 5, 2, 3),\n",
       " (5, 2, 1, 6, 5, 1),\n",
       " (5, 2, 5, 5, 6, 3),\n",
       " (6, 5, 2, 3, 5, 4),\n",
       " (1, 4, 1, 6, 2, 5),\n",
       " (1, 5, 2, 4, 6, 6),\n",
       " (3, 1, 2, 1, 6, 3),\n",
       " (5, 3, 1, 3, 4, 4),\n",
       " (6, 3, 3, 6, 5, 5),\n",
       " (5, 2, 2, 1, 4, 3),\n",
       " (1, 3, 2, 6, 1, 3),\n",
       " (1, 6, 4, 4, 4, 2),\n",
       " (2, 5, 2, 6, 3, 1),\n",
       " (5, 6, 6, 6, 5, 5),\n",
       " (6, 6, 5, 4, 2, 4),\n",
       " (6, 6, 3, 5, 3, 3),\n",
       " (4, 6, 6, 4, 3, 1),\n",
       " (1, 2, 4, 2, 2, 5),\n",
       " (2, 3, 3, 1, 3, 6),\n",
       " (1, 1, 5, 6, 3, 6),\n",
       " (2, 3, 1, 1, 1, 5),\n",
       " (3, 3, 5, 6, 6, 1),\n",
       " (4, 4, 2, 1, 6, 5),\n",
       " (5, 1, 2, 6, 5, 5),\n",
       " (3, 1, 4, 4, 1, 4),\n",
       " (6, 1, 1, 6, 1, 2),\n",
       " (4, 5, 4, 1, 3, 1),\n",
       " (1, 1, 5, 5, 4, 2),\n",
       " (1, 6, 6, 4, 6, 5),\n",
       " (2, 6, 2, 6, 1, 5),\n",
       " (5, 3, 5, 5, 2, 2),\n",
       " (2, 5, 3, 6, 4, 1),\n",
       " (4, 1, 5, 3, 2, 3),\n",
       " (4, 1, 1, 4, 1, 1),\n",
       " (1, 6, 2, 6, 6, 6),\n",
       " (3, 6, 3, 3, 1, 1),\n",
       " (2, 1, 3, 6, 5, 3),\n",
       " (1, 2, 5, 2, 3, 5),\n",
       " (6, 2, 1, 2, 1, 1),\n",
       " (5, 4, 1, 5, 4, 4),\n",
       " (5, 6, 2, 5, 5, 3),\n",
       " (3, 1, 3, 6, 4, 6),\n",
       " (3, 3, 3, 3, 4, 5),\n",
       " (5, 3, 6, 5, 3, 2),\n",
       " (1, 4, 6, 5, 5, 5),\n",
       " (6, 4, 2, 5, 3, 1),\n",
       " (3, 6, 1, 5, 3, 5),\n",
       " (2, 1, 2, 5, 1, 5),\n",
       " (1, 5, 1, 2, 4, 2),\n",
       " (6, 1, 6, 3, 3, 4),\n",
       " (4, 1, 6, 5, 4, 5),\n",
       " (2, 1, 5, 1, 5, 5),\n",
       " (1, 5, 6, 1, 5, 4),\n",
       " (2, 1, 6, 1, 6, 3),\n",
       " (6, 3, 3, 5, 2, 5),\n",
       " (1, 5, 3, 5, 1, 6),\n",
       " (4, 3, 4, 6, 1, 4),\n",
       " (1, 5, 4, 5, 2, 4),\n",
       " (4, 3, 6, 2, 5, 4),\n",
       " (6, 3, 5, 4, 5, 2),\n",
       " (1, 5, 2, 2, 5, 2),\n",
       " (5, 6, 6, 5, 2, 5),\n",
       " (2, 3, 6, 3, 3, 2),\n",
       " (4, 4, 5, 3, 6, 1),\n",
       " (3, 4, 3, 5, 4, 5),\n",
       " (1, 1, 4, 4, 1, 2),\n",
       " (4, 2, 6, 3, 6, 1),\n",
       " (6, 5, 1, 3, 6, 2),\n",
       " (5, 1, 6, 3, 4, 3),\n",
       " (5, 5, 6, 4, 2, 5),\n",
       " (5, 5, 2, 5, 1, 3),\n",
       " (3, 3, 4, 5, 3, 3),\n",
       " (4, 2, 5, 3, 6, 3),\n",
       " (6, 6, 2, 4, 2, 4),\n",
       " (2, 5, 5, 1, 5, 1),\n",
       " (3, 5, 3, 1, 4, 4),\n",
       " (4, 4, 3, 2, 1, 5),\n",
       " (2, 2, 2, 5, 4, 5),\n",
       " (3, 1, 2, 4, 4, 5),\n",
       " (5, 3, 1, 6, 2, 6),\n",
       " (4, 3, 3, 4, 1, 6),\n",
       " (1, 3, 3, 2, 6, 1),\n",
       " (1, 6, 2, 5, 4, 6),\n",
       " (1, 6, 6, 2, 5, 1),\n",
       " (4, 3, 3, 3, 2, 2),\n",
       " (3, 4, 4, 2, 1, 4),\n",
       " (1, 6, 2, 4, 5, 2),\n",
       " (2, 3, 2, 1, 4, 4),\n",
       " (4, 5, 5, 5, 6, 1),\n",
       " (6, 6, 1, 5, 4, 3),\n",
       " (1, 2, 2, 2, 3, 5),\n",
       " (3, 2, 5, 5, 1, 5),\n",
       " (2, 3, 1, 1, 4, 6),\n",
       " (1, 2, 6, 6, 3, 2),\n",
       " (3, 2, 3, 2, 4, 3),\n",
       " (4, 5, 2, 2, 3, 5),\n",
       " (6, 2, 4, 2, 2, 5),\n",
       " (2, 4, 3, 1, 1, 2),\n",
       " (4, 5, 2, 1, 4, 1),\n",
       " (5, 3, 3, 5, 3, 2),\n",
       " (4, 1, 1, 4, 4, 2),\n",
       " (3, 6, 1, 3, 2, 1),\n",
       " (5, 6, 4, 4, 6, 5),\n",
       " (5, 4, 4, 3, 6, 1),\n",
       " (6, 6, 2, 6, 6, 6),\n",
       " (2, 4, 4, 2, 1, 6),\n",
       " (6, 1, 3, 3, 3, 4),\n",
       " (2, 4, 6, 1, 4, 3),\n",
       " (4, 1, 6, 3, 3, 1),\n",
       " (5, 4, 3, 2, 1, 3),\n",
       " (2, 4, 2, 3, 4, 4),\n",
       " (6, 3, 3, 3, 1, 1),\n",
       " (2, 2, 1, 3, 4, 4),\n",
       " (3, 4, 3, 4, 2, 5),\n",
       " (1, 5, 1, 5, 2, 4),\n",
       " (3, 5, 5, 4, 3, 6),\n",
       " (4, 3, 1, 6, 1, 4),\n",
       " (6, 5, 5, 4, 4, 6),\n",
       " (6, 1, 4, 3, 1, 1),\n",
       " (6, 1, 6, 3, 6, 5),\n",
       " (1, 6, 1, 3, 4, 5),\n",
       " (3, 4, 3, 3, 3, 1),\n",
       " (3, 5, 5, 3, 4, 2),\n",
       " (4, 4, 2, 3, 6, 1),\n",
       " (5, 2, 5, 2, 3, 5),\n",
       " (2, 6, 3, 4, 5, 6),\n",
       " (6, 3, 3, 5, 5, 6),\n",
       " (4, 4, 1, 2, 1, 3),\n",
       " (5, 5, 6, 2, 1, 1),\n",
       " (1, 5, 4, 5, 5, 5),\n",
       " (3, 1, 2, 3, 2, 5),\n",
       " (1, 2, 5, 4, 3, 1),\n",
       " (4, 4, 5, 6, 4, 3),\n",
       " (6, 5, 3, 5, 1, 6),\n",
       " (2, 2, 5, 5, 2, 2),\n",
       " (2, 3, 6, 3, 6, 3),\n",
       " (4, 4, 4, 6, 1, 2),\n",
       " (4, 2, 6, 6, 4, 3),\n",
       " (1, 6, 1, 6, 1, 1),\n",
       " (4, 4, 2, 2, 2, 3),\n",
       " (3, 2, 3, 6, 6, 3),\n",
       " (5, 1, 4, 3, 5, 3),\n",
       " (5, 5, 4, 4, 3, 5),\n",
       " (6, 5, 6, 5, 1, 4),\n",
       " (6, 6, 5, 2, 4, 1),\n",
       " (2, 5, 5, 4, 3, 3),\n",
       " (2, 5, 3, 5, 4, 2),\n",
       " (3, 3, 3, 5, 5, 1),\n",
       " (4, 5, 2, 5, 6, 1),\n",
       " (5, 1, 5, 2, 2, 6),\n",
       " (1, 3, 1, 6, 5, 2),\n",
       " (5, 1, 1, 3, 1, 4),\n",
       " (4, 6, 3, 5, 4, 3),\n",
       " (3, 2, 1, 2, 5, 1),\n",
       " (2, 3, 6, 2, 2, 5),\n",
       " (6, 6, 4, 4, 6, 3),\n",
       " (3, 4, 5, 1, 6, 4),\n",
       " (4, 5, 3, 6, 6, 5),\n",
       " (5, 6, 4, 3, 4, 5),\n",
       " (3, 4, 2, 2, 2, 4),\n",
       " (2, 1, 5, 3, 6, 1),\n",
       " (5, 3, 2, 6, 3, 4),\n",
       " (2, 6, 4, 1, 1, 3),\n",
       " (3, 2, 3, 5, 2, 5),\n",
       " (3, 2, 5, 5, 4, 6),\n",
       " (6, 2, 3, 5, 3, 5),\n",
       " (1, 2, 6, 6, 6, 3),\n",
       " (2, 4, 2, 2, 2, 4),\n",
       " (4, 3, 6, 2, 2, 1),\n",
       " (6, 4, 6, 1, 1, 5),\n",
       " (6, 1, 6, 2, 3, 5),\n",
       " (6, 5, 5, 2, 2, 2),\n",
       " (6, 1, 6, 1, 4, 1),\n",
       " (2, 3, 4, 4, 2, 6),\n",
       " (3, 5, 5, 2, 2, 2),\n",
       " (4, 4, 3, 4, 1, 1),\n",
       " (2, 4, 5, 2, 5, 5),\n",
       " (4, 1, 6, 6, 1, 3),\n",
       " (6, 1, 1, 3, 4, 4),\n",
       " (1, 5, 4, 3, 3, 1),\n",
       " (6, 3, 5, 6, 1, 4),\n",
       " (1, 2, 6, 5, 2, 5),\n",
       " (6, 3, 3, 3, 4, 2),\n",
       " (1, 5, 3, 3, 3, 3),\n",
       " (3, 3, 2, 2, 1, 5),\n",
       " (4, 2, 5, 5, 1, 5),\n",
       " (6, 1, 4, 3, 4, 2),\n",
       " (1, 4, 3, 5, 3, 4),\n",
       " (3, 5, 2, 5, 6, 3),\n",
       " (3, 5, 4, 4, 5, 4),\n",
       " (4, 2, 5, 4, 2, 1),\n",
       " (5, 5, 4, 2, 1, 1),\n",
       " (1, 5, 2, 5, 5, 5),\n",
       " (2, 2, 4, 6, 2, 4),\n",
       " (5, 5, 4, 3, 1, 5),\n",
       " (2, 6, 1, 4, 6, 6),\n",
       " (6, 6, 6, 6, 6, 1),\n",
       " (4, 3, 5, 1, 1, 4),\n",
       " (1, 6, 4, 6, 2, 5),\n",
       " (6, 6, 6, 5, 2, 6),\n",
       " (2, 3, 6, 6, 4, 5),\n",
       " (1, 2, 5, 4, 6, 2),\n",
       " (1, 3, 1, 5, 3, 2),\n",
       " (6, 1, 5, 3, 5, 2),\n",
       " (4, 5, 3, 4, 4, 1),\n",
       " (5, 3, 1, 4, 4, 3),\n",
       " (5, 5, 5, 4, 6, 4),\n",
       " (2, 3, 3, 2, 2, 5),\n",
       " (6, 4, 3, 6, 5, 4),\n",
       " (1, 6, 5, 6, 3, 5),\n",
       " (4, 4, 6, 6, 5, 1),\n",
       " (6, 6, 1, 6, 1, 1),\n",
       " (3, 6, 4, 4, 1, 3),\n",
       " (3, 4, 3, 6, 2, 1),\n",
       " (2, 1, 1, 3, 6, 6),\n",
       " (4, 3, 4, 3, 4, 6),\n",
       " (5, 5, 1, 5, 6, 2),\n",
       " (3, 2, 5, 3, 3, 2),\n",
       " (6, 1, 6, 5, 6, 1),\n",
       " (5, 1, 3, 2, 3, 6),\n",
       " (3, 2, 1, 5, 3, 3),\n",
       " (2, 6, 3, 6, 5, 2),\n",
       " (6, 1, 5, 1, 2, 6),\n",
       " (5, 6, 2, 6, 4, 2),\n",
       " (3, 4, 6, 6, 5, 2),\n",
       " (6, 1, 3, 1, 4, 1),\n",
       " (3, 1, 2, 5, 2, 1),\n",
       " (3, 6, 3, 6, 4, 5),\n",
       " (4, 1, 2, 4, 6, 6),\n",
       " (5, 2, 3, 1, 4, 6),\n",
       " (2, 6, 4, 1, 4, 4),\n",
       " (6, 1, 1, 2, 2, 4),\n",
       " (6, 5, 3, 4, 6, 1),\n",
       " (1, 1, 5, 1, 5, 4),\n",
       " (1, 1, 3, 2, 6, 3),\n",
       " (1, 3, 5, 2, 5, 6),\n",
       " (6, 2, 6, 6, 6, 3),\n",
       " (1, 5, 1, 3, 3, 1),\n",
       " (2, 4, 2, 1, 6, 1),\n",
       " (1, 4, 6, 6, 5, 4),\n",
       " (1, 3, 5, 1, 6, 2),\n",
       " (3, 5, 6, 2, 5, 1),\n",
       " (6, 5, 3, 2, 3, 2),\n",
       " (1, 1, 2, 1, 1, 5),\n",
       " (2, 6, 5, 1, 5, 4),\n",
       " (2, 4, 1, 6, 2, 5),\n",
       " (1, 5, 2, 4, 3, 5),\n",
       " (2, 4, 3, 2, 6, 5),\n",
       " (6, 3, 6, 2, 6, 2),\n",
       " (5, 2, 3, 4, 1, 2),\n",
       " (5, 5, 2, 3, 4, 6),\n",
       " (1, 5, 2, 3, 4, 1),\n",
       " (2, 3, 6, 4, 2, 1),\n",
       " (6, 3, 3, 6, 2, 4),\n",
       " (5, 4, 5, 6, 5, 1),\n",
       " (6, 4, 1, 4, 2, 2),\n",
       " (3, 3, 2, 2, 4, 6),\n",
       " (5, 1, 6, 5, 2, 6),\n",
       " (6, 6, 6, 3, 1, 2),\n",
       " (6, 1, 4, 6, 2, 4),\n",
       " (1, 2, 5, 1, 1, 3),\n",
       " (5, 5, 3, 3, 2, 3),\n",
       " (5, 5, 5, 3, 4, 4),\n",
       " (2, 2, 2, 6, 3, 4),\n",
       " (3, 1, 3, 2, 5, 5),\n",
       " (3, 4, 5, 4, 5, 1),\n",
       " (3, 4, 5, 3, 1, 6),\n",
       " (1, 6, 2, 6, 3, 5),\n",
       " (4, 5, 6, 6, 6, 3),\n",
       " (4, 3, 4, 1, 3, 2),\n",
       " (6, 1, 5, 6, 3, 4),\n",
       " (2, 1, 5, 5, 1, 3),\n",
       " (2, 1, 3, 6, 2, 2),\n",
       " (5, 4, 1, 5, 1, 3),\n",
       " (1, 2, 4, 3, 4, 5),\n",
       " (2, 3, 2, 2, 3, 3),\n",
       " (5, 6, 2, 5, 2, 2),\n",
       " (3, 1, 3, 6, 1, 5),\n",
       " (4, 1, 2, 2, 4, 2),\n",
       " (6, 4, 1, 6, 6, 4),\n",
       " (2, 3, 5, 6, 3, 2),\n",
       " (4, 4, 4, 6, 6, 1),\n",
       " (3, 6, 2, 4, 2, 3),\n",
       " (2, 2, 1, 4, 3, 6),\n",
       " (4, 3, 2, 3, 5, 6),\n",
       " (3, 2, 1, 5, 6, 4),\n",
       " (6, 4, 4, 6, 6, 2),\n",
       " (5, 4, 4, 3, 1, 5),\n",
       " (2, 6, 1, 6, 6, 2),\n",
       " (6, 1, 2, 2, 5, 3),\n",
       " (2, 1, 4, 2, 6, 5),\n",
       " (6, 1, 1, 1, 5, 1),\n",
       " (6, 5, 6, 2, 4, 6),\n",
       " (5, 5, 2, 1, 2, 2),\n",
       " (6, 6, 3, 3, 3, 3),\n",
       " (5, 2, 1, 1, 5, 6),\n",
       " (2, 6, 2, 1, 5, 4),\n",
       " (1, 1, 3, 5, 4, 5),\n",
       " (5, 6, 5, 6, 3, 5),\n",
       " (3, 5, 4, 3, 5, 5),\n",
       " (3, 1, 5, 4, 4, 3),\n",
       " (1, 4, 5, 2, 3, 2),\n",
       " (3, 5, 4, 2, 6, 1),\n",
       " (1, 2, 3, 1, 4, 4),\n",
       " (1, 3, 6, 5, 1, 5),\n",
       " (3, 5, 3, 1, 1, 3),\n",
       " (5, 3, 4, 5, 3, 5),\n",
       " (3, 1, 2, 4, 1, 4),\n",
       " (3, 3, 5, 1, 6, 6),\n",
       " (2, 3, 6, 4, 5, 2),\n",
       " (3, 3, 1, 2, 5, 4),\n",
       " (5, 3, 4, 4, 4, 1),\n",
       " (1, 4, 4, 4, 6, 4),\n",
       " (3, 4, 2, 3, 1, 6),\n",
       " (1, 6, 2, 4, 2, 1),\n",
       " (5, 1, 4, 5, 3, 6),\n",
       " (6, 6, 6, 3, 4, 3),\n",
       " (2, 3, 2, 1, 1, 3),\n",
       " (5, 5, 5, 6, 2, 6),\n",
       " (5, 5, 3, 3, 5, 4),\n",
       " (4, 6, 1, 2, 5, 6),\n",
       " (6, 2, 5, 1, 1, 3),\n",
       " (3, 6, 6, 1, 1, 1),\n",
       " (6, 4, 1, 5, 4, 4),\n",
       " (4, 3, 4, 1, 6, 3),\n",
       " (2, 2, 1, 2, 2, 2),\n",
       " (4, 3, 2, 1, 4, 2),\n",
       " (5, 6, 4, 4, 3, 4),\n",
       " (5, 4, 2, 4, 6, 3),\n",
       " (3, 1, 1, 6, 1, 5),\n",
       " (2, 4, 3, 4, 6, 1),\n",
       " (1, 1, 2, 3, 2, 1),\n",
       " (4, 1, 5, 4, 6, 4),\n",
       " (3, 2, 6, 3, 5, 6),\n",
       " (1, 1, 3, 4, 1, 5),\n",
       " (1, 5, 4, 4, 2, 3),\n",
       " (3, 6, 3, 4, 5, 2),\n",
       " (6, 6, 2, 1, 5, 5),\n",
       " (2, 4, 2, 3, 1, 3),\n",
       " (1, 3, 5, 3, 1, 4),\n",
       " (1, 6, 6, 1, 3, 5),\n",
       " (2, 3, 5, 6, 6, 3),\n",
       " (1, 5, 5, 6, 6, 2),\n",
       " (1, 3, 1, 2, 6, 4),\n",
       " (5, 6, 3, 6, 6, 6),\n",
       " (3, 5, 5, 3, 1, 1),\n",
       " (4, 6, 2, 4, 4, 4),\n",
       " (3, 5, 1, 2, 6, 1),\n",
       " (5, 3, 4, 3, 1, 1),\n",
       " (4, 6, 5, 4, 6, 5),\n",
       " (1, 1, 1, 5, 5, 5),\n",
       " (4, 6, 1, 6, 6, 6),\n",
       " (1, 4, 3, 6, 2, 3),\n",
       " (4, 2, 6, 6, 1, 2),\n",
       " (6, 6, 4, 3, 4, 1),\n",
       " (3, 2, 3, 6, 3, 2),\n",
       " (6, 2, 1, 6, 2, 1),\n",
       " (6, 2, 3, 6, 4, 2),\n",
       " (6, 4, 3, 3, 4, 1),\n",
       " (1, 1, 4, 5, 5, 3),\n",
       " (1, 3, 6, 5, 4, 6),\n",
       " (3, 6, 4, 2, 3, 6),\n",
       " (4, 5, 1, 1, 5, 4),\n",
       " (1, 3, 6, 4, 5, 2),\n",
       " (6, 2, 2, 1, 1, 3),\n",
       " (5, 4, 4, 5, 1, 1),\n",
       " (5, 4, 6, 1, 5, 1),\n",
       " (2, 6, 6, 4, 4, 4),\n",
       " (3, 4, 5, 1, 3, 3),\n",
       " (3, 4, 1, 3, 3, 4),\n",
       " (2, 4, 4, 5, 1, 1),\n",
       " (5, 1, 1, 6, 6, 3),\n",
       " (5, 5, 3, 6, 3, 6),\n",
       " (5, 2, 1, 3, 5, 2),\n",
       " (5, 6, 1, 4, 3, 4),\n",
       " (6, 2, 5, 1, 4, 4),\n",
       " (3, 2, 2, 6, 3, 5),\n",
       " (2, 2, 4, 1, 4, 2),\n",
       " (6, 3, 1, 4, 6, 5),\n",
       " (2, 1, 4, 5, 5, 2),\n",
       " (3, 4, 4, 3, 6, 5),\n",
       " (1, 3, 2, 3, 1, 4),\n",
       " (2, 2, 3, 1, 4, 4),\n",
       " (4, 6, 2, 3, 1, 4),\n",
       " (6, 2, 4, 3, 6, 6),\n",
       " (6, 1, 2, 3, 1, 1),\n",
       " (6, 4, 6, 4, 6, 4),\n",
       " (4, 6, 6, 1, 3, 2),\n",
       " (3, 2, 5, 6, 6, 6),\n",
       " (2, 2, 6, 1, 6, 5),\n",
       " (6, 3, 6, 3, 5, 4),\n",
       " (6, 1, 1, 3, 1, 3),\n",
       " (1, 1, 3, 4, 4, 6),\n",
       " (1, 1, 1, 4, 2, 5),\n",
       " (1, 5, 6, 3, 4, 5),\n",
       " (6, 5, 3, 4, 1, 5),\n",
       " (2, 6, 2, 3, 1, 6),\n",
       " (1, 1, 3, 3, 5, 2),\n",
       " (1, 3, 5, 3, 4, 5),\n",
       " (6, 5, 4, 4, 2, 3),\n",
       " (4, 4, 3, 6, 2, 5),\n",
       " (1, 6, 3, 2, 6, 2),\n",
       " (5, 3, 1, 3, 1, 1),\n",
       " (4, 1, 1, 1, 1, 2),\n",
       " (5, 2, 6, 6, 3, 4),\n",
       " (3, 3, 6, 4, 6, 6),\n",
       " (4, 6, 5, 2, 5, 1),\n",
       " (4, 6, 1, 4, 5, 2),\n",
       " (3, 1, 5, 1, 2, 5),\n",
       " (1, 5, 1, 6, 6, 5),\n",
       " (5, 3, 6, 2, 3, 3),\n",
       " (5, 3, 4, 3, 4, 2),\n",
       " (6, 4, 2, 2, 3, 2),\n",
       " (5, 4, 2, 2, 5, 5),\n",
       " (6, 2, 5, 5, 5, 4),\n",
       " (6, 6, 4, 6, 2, 3),\n",
       " (5, 5, 3, 4, 1, 2),\n",
       " (2, 1, 3, 2, 1, 6),\n",
       " (6, 6, 2, 3, 5, 1),\n",
       " (5, 2, 2, 4, 4, 6),\n",
       " (6, 4, 3, 6, 2, 3),\n",
       " (6, 4, 5, 2, 6, 3),\n",
       " (5, 3, 5, 4, 6, 5),\n",
       " (6, 2, 1, 6, 5, 2),\n",
       " (4, 3, 4, 3, 1, 5),\n",
       " (2, 1, 1, 3, 3, 5),\n",
       " (1, 4, 6, 5, 2, 2),\n",
       " (5, 4, 2, 6, 1, 5),\n",
       " (5, 4, 3, 6, 2, 3),\n",
       " (2, 3, 1, 5, 5, 3),\n",
       " (3, 4, 4, 1, 4, 1),\n",
       " (5, 4, 2, 5, 2, 1),\n",
       " (2, 6, 3, 6, 2, 1),\n",
       " (4, 1, 3, 3, 4, 4),\n",
       " (6, 3, 1, 2, 5, 1),\n",
       " (2, 6, 5, 2, 6, 1),\n",
       " (4, 5, 4, 4, 3, 4),\n",
       " (2, 1, 6, 2, 2, 4),\n",
       " (5, 6, 2, 6, 1, 1),\n",
       " (5, 6, 4, 2, 5, 1),\n",
       " (1, 5, 6, 1, 2, 1),\n",
       " (5, 5, 2, 2, 1, 4),\n",
       " (3, 6, 3, 6, 1, 4),\n",
       " (4, 2, 1, 1, 5, 2),\n",
       " (2, 2, 2, 2, 4, 6),\n",
       " (3, 4, 2, 3, 6, 5),\n",
       " (1, 1, 5, 1, 2, 3),\n",
       " (1, 1, 3, 2, 3, 2),\n",
       " (1, 1, 1, 2, 1, 1),\n",
       " (2, 2, 2, 1, 5, 2),\n",
       " (1, 3, 5, 1, 3, 1),\n",
       " (5, 4, 5, 1, 2, 5),\n",
       " (6, 5, 1, 4, 2, 3),\n",
       " (1, 3, 1, 3, 3, 2),\n",
       " (6, 1, 3, 2, 6, 1),\n",
       " (2, 5, 6, 2, 4, 3),\n",
       " (6, 1, 2, 3, 4, 2),\n",
       " (6, 3, 1, 1, 1, 3),\n",
       " (5, 5, 1, 4, 4, 6),\n",
       " (3, 1, 3, 1, 2, 3),\n",
       " (2, 6, 4, 2, 6, 4),\n",
       " (1, 3, 4, 3, 5, 3),\n",
       " (6, 3, 4, 3, 6, 4),\n",
       " (1, 1, 1, 4, 5, 6),\n",
       " (1, 1, 2, 4, 6, 4),\n",
       " (2, 2, 2, 5, 1, 2),\n",
       " (2, 5, 1, 4, 4, 6),\n",
       " (4, 3, 1, 5, 4, 1),\n",
       " (6, 5, 6, 3, 4, 5),\n",
       " (1, 6, 3, 5, 4, 4),\n",
       " (3, 2, 5, 2, 2, 6),\n",
       " (6, 5, 2, 4, 3, 3),\n",
       " (6, 5, 4, 4, 5, 4),\n",
       " (6, 6, 6, 1, 6, 6),\n",
       " (3, 1, 6, 1, 5, 4),\n",
       " (2, 1, 1, 1, 1, 1),\n",
       " (5, 3, 4, 6, 2, 4),\n",
       " (3, 4, 4, 5, 6, 1),\n",
       " (5, 3, 2, 4, 6, 5),\n",
       " (4, 4, 6, 1, 5, 6),\n",
       " (4, 5, 6, 6, 3, 2),\n",
       " (3, 4, 3, 1, 2, 6),\n",
       " (5, 4, 6, 3, 1, 3),\n",
       " (1, 2, 4, 3, 1, 4),\n",
       " (3, 2, 4, 5, 6, 2),\n",
       " (3, 4, 1, 1, 4, 1),\n",
       " (6, 6, 2, 6, 3, 3),\n",
       " (4, 1, 2, 6, 1, 6),\n",
       " (2, 4, 1, 1, 6, 4),\n",
       " (6, 4, 1, 6, 3, 3),\n",
       " (5, 4, 5, 5, 3, 5),\n",
       " (4, 3, 5, 2, 6, 5),\n",
       " (1, 5, 4, 2, 5, 6),\n",
       " (4, 3, 2, 3, 2, 5),\n",
       " (6, 5, 3, 6, 2, 1),\n",
       " (6, 3, 3, 1, 6, 3),\n",
       " (3, 4, 4, 4, 2, 3),\n",
       " (2, 4, 3, 6, 4, 4),\n",
       " (2, 2, 1, 3, 1, 1),\n",
       " (5, 4, 1, 6, 3, 3),\n",
       " (6, 6, 5, 6, 6, 4),\n",
       " (6, 4, 6, 5, 2, 2),\n",
       " (2, 6, 5, 5, 4, 3),\n",
       " (2, 6, 1, 6, 3, 1),\n",
       " (3, 6, 1, 6, 1, 4),\n",
       " (2, 4, 3, 4, 1, 5),\n",
       " (4, 5, 2, 4, 4, 4),\n",
       " (2, 1, 4, 2, 3, 4),\n",
       " (5, 1, 2, 1, 6, 3),\n",
       " (2, 6, 5, 3, 1, 4),\n",
       " (5, 5, 4, 1, 3, 6),\n",
       " (6, 5, 6, 2, 1, 5),\n",
       " (2, 5, 1, 2, 2, 2),\n",
       " (5, 5, 1, 2, 3, 2),\n",
       " (3, 3, 1, 3, 6, 1),\n",
       " (2, 4, 4, 6, 5, 4),\n",
       " (2, 6, 2, 1, 2, 3),\n",
       " (6, 3, 6, 4, 2, 2),\n",
       " (1, 1, 3, 5, 1, 4),\n",
       " (3, 1, 5, 4, 1, 2),\n",
       " (5, 2, 6, 4, 4, 1),\n",
       " (1, 5, 5, 6, 1, 6),\n",
       " (3, 1, 2, 6, 6, 2),\n",
       " (5, 2, 2, 6, 4, 2),\n",
       " (2, 5, 4, 2, 5, 3),\n",
       " (2, 1, 1, 5, 3, 1),\n",
       " (1, 2, 3, 1, 1, 3),\n",
       " (6, 3, 5, 5, 4, 1),\n",
       " (3, 1, 3, 1, 5, 4),\n",
       " (3, 1, 1, 1, 3, 3),\n",
       " (6, 2, 3, 2, 3, 6),\n",
       " (4, 4, 4, 5, 5, 5),\n",
       " (4, 4, 2, 6, 6, 4),\n",
       " (3, 3, 5, 1, 3, 5),\n",
       " (3, 4, 5, 6, 1, 1),\n",
       " (3, 3, 1, 2, 2, 3),\n",
       " (1, 6, 1, 5, 5, 4),\n",
       " (6, 5, 2, 4, 6, 4),\n",
       " (1, 4, 4, 4, 3, 3),\n",
       " (5, 3, 2, 2, 5, 1),\n",
       " (1, 4, 2, 1, 6, 1),\n",
       " (3, 1, 6, 4, 3, 6),\n",
       " (4, 4, 1, 5, 1, 6),\n",
       " (3, 1, 4, 1, 6, 4),\n",
       " (6, 6, 2, 5, 1, 3),\n",
       " (1, 3, 6, 6, 3, 5),\n",
       " (1, 6, 4, 5, 5, 2),\n",
       " (3, 2, 6, 2, 3, 4),\n",
       " (3, 2, 4, 2, 1, 3),\n",
       " (3, 4, 2, 6, 6, 5),\n",
       " (6, 3, 5, 3, 1, 5),\n",
       " (5, 4, 5, 3, 2, 1),\n",
       " (1, 2, 6, 2, 2, 6),\n",
       " (1, 2, 2, 3, 1, 4),\n",
       " (3, 5, 2, 2, 6, 4),\n",
       " (4, 1, 5, 4, 3, 3),\n",
       " (2, 1, 2, 2, 6, 5),\n",
       " (2, 4, 5, 2, 2, 2),\n",
       " (2, 1, 5, 6, 5, 4),\n",
       " (5, 4, 5, 5, 6, 6),\n",
       " (5, 6, 3, 6, 3, 5),\n",
       " (3, 5, 4, 5, 1, 5),\n",
       " (5, 4, 1, 6, 6, 4),\n",
       " (4, 1, 4, 6, 6, 5),\n",
       " (3, 5, 4, 4, 2, 1),\n",
       " (4, 2, 2, 4, 6, 3),\n",
       " (3, 5, 2, 1, 2, 6),\n",
       " (2, 5, 6, 4, 6, 5),\n",
       " (5, 1, 2, 4, 4, 5),\n",
       " (1, 6, 5, 3, 3, 6),\n",
       " (1, 6, 3, 4, 4, 5),\n",
       " (4, 4, 6, 3, 5, 2),\n",
       " (1, 1, 4, 1, 6, 2),\n",
       " (3, 3, 1, 6, 4, 3),\n",
       " (2, 5, 1, 2, 5, 3),\n",
       " (5, 5, 1, 2, 6, 3),\n",
       " (5, 5, 3, 1, 5, 4),\n",
       " (6, 2, 3, 1, 1, 6),\n",
       " (6, 3, 4, 5, 2, 6),\n",
       " (3, 5, 5, 5, 2, 5),\n",
       " (1, 6, 3, 3, 5, 1),\n",
       " (6, 5, 4, 5, 1, 2),\n",
       " (1, 1, 1, 5, 2, 4),\n",
       " (2, 5, 2, 1, 2, 6),\n",
       " (6, 5, 6, 1, 5, 2),\n",
       " (4, 6, 1, 6, 3, 5),\n",
       " (5, 1, 5, 4, 4, 3),\n",
       " (3, 1, 6, 3, 1, 6),\n",
       " (5, 3, 6, 4, 1, 6),\n",
       " (3, 3, 2, 6, 5, 3),\n",
       " (5, 6, 2, 3, 4, 3),\n",
       " (3, 6, 5, 1, 2, 4),\n",
       " (4, 3, 3, 1, 6, 6),\n",
       " (5, 3, 5, 1, 5, 2),\n",
       " (1, 3, 6, 4, 2, 1),\n",
       " (6, 2, 1, 2, 4, 6),\n",
       " (5, 1, 6, 4, 5, 3),\n",
       " (4, 5, 4, 6, 6, 1),\n",
       " (6, 2, 2, 4, 5, 2),\n",
       " (1, 4, 2, 4, 4, 3),\n",
       " (2, 2, 6, 5, 2, 3),\n",
       " (4, 3, 5, 5, 5, 2),\n",
       " (1, 1, 6, 2, 4, 6),\n",
       " (2, 4, 1, 3, 2, 6),\n",
       " (3, 2, 6, 5, 1, 6),\n",
       " (3, 4, 6, 2, 1, 5),\n",
       " (1, 6, 2, 5, 6, 2),\n",
       " (3, 2, 4, 2, 4, 4),\n",
       " (5, 2, 3, 1, 1, 3),\n",
       " (2, 4, 6, 6, 4, 2),\n",
       " (2, 2, 4, 1, 1, 1),\n",
       " (5, 4, 5, 3, 5, 2),\n",
       " (4, 1, 4, 5, 3, 5),\n",
       " (2, 1, 6, 3, 1, 3),\n",
       " (5, 6, 1, 5, 5, 4),\n",
       " (2, 6, 5, 2, 1, 5),\n",
       " (4, 2, 2, 3, 4, 3),\n",
       " (4, 1, 3, 4, 4, 3),\n",
       " (5, 2, 4, 1, 2, 3),\n",
       " (2, 4, 3, 2, 3, 2),\n",
       " (5, 4, 6, 3, 6, 2),\n",
       " (4, 4, 5, 5, 1, 1),\n",
       " (6, 4, 3, 1, 4, 1),\n",
       " (5, 1, 2, 2, 3, 1),\n",
       " (5, 5, 2, 3, 1, 3),\n",
       " (1, 3, 4, 4, 5, 5),\n",
       " (1, 6, 3, 2, 3, 1),\n",
       " (3, 5, 3, 5, 2, 3),\n",
       " (1, 6, 2, 3, 3, 6),\n",
       " (6, 1, 3, 4, 4, 4),\n",
       " (2, 2, 2, 3, 4, 5),\n",
       " (4, 2, 3, 3, 5, 3),\n",
       " (4, 6, 1, 4, 2, 1),\n",
       " (6, 2, 1, 1, 1, 6),\n",
       " (5, 6, 2, 2, 2, 3),\n",
       " (4, 4, 4, 4, 5, 6),\n",
       " (1, 5, 1, 6, 3, 4),\n",
       " (3, 5, 6, 5, 5, 4),\n",
       " (4, 4, 4, 3, 6, 2),\n",
       " (1, 6, 1, 4, 5, 5),\n",
       " (1, 2, 2, 6, 1, 4),\n",
       " (3, 1, 3, 2, 2, 2),\n",
       " (3, 6, 2, 1, 2, 4),\n",
       " (1, 6, 1, 3, 6, 1),\n",
       " (6, 3, 6, 5, 6, 5),\n",
       " (5, 1, 3, 4, 5, 3),\n",
       " (3, 1, 4, 3, 2, 6),\n",
       " (1, 2, 5, 6, 4, 5),\n",
       " (5, 3, 5, 4, 3, 4),\n",
       " (3, 6, 5, 1, 5, 5),\n",
       " (5, 3, 1, 5, 2, 2),\n",
       " (5, 3, 3, 1, 6, 2),\n",
       " (1, 2, 5, 5, 5, 1),\n",
       " (6, 4, 6, 6, 1, 4),\n",
       " (5, 5, 5, 5, 5, 3),\n",
       " (5, 6, 5, 2, 4, 2),\n",
       " (3, 5, 2, 3, 2, 2),\n",
       " (4, 6, 5, 1, 4, 5),\n",
       " (5, 2, 4, 5, 4, 3),\n",
       " (3, 2, 4, 5, 1, 6),\n",
       " (2, 6, 3, 2, 4, 6),\n",
       " (4, 2, 1, 1, 2, 1),\n",
       " (1, 3, 4, 2, 3, 1),\n",
       " (2, 4, 1, 2, 6, 3),\n",
       " (2, 2, 2, 1, 2, 1),\n",
       " (3, 1, 6, 5, 1, 2),\n",
       " (5, 5, 2, 5, 6, 3),\n",
       " (6, 1, 5, 2, 1, 5),\n",
       " (1, 2, 1, 4, 1, 3),\n",
       " (4, 1, 2, 5, 4, 5),\n",
       " (4, 2, 2, 6, 2, 5),\n",
       " (5, 5, 1, 4, 1, 5),\n",
       " (2, 6, 4, 2, 3, 3),\n",
       " (6, 3, 4, 3, 3, 3),\n",
       " (5, 5, 1, 3, 2, 1),\n",
       " (5, 2, 5, 6, 1, 1),\n",
       " (4, 4, 3, 5, 2, 1),\n",
       " (4, 2, 5, 2, 6, 5),\n",
       " (6, 5, 6, 3, 1, 4),\n",
       " (1, 6, 3, 5, 1, 3),\n",
       " (1, 5, 6, 4, 2, 6),\n",
       " (6, 1, 2, 5, 5, 6),\n",
       " (1, 6, 5, 1, 5, 3),\n",
       " (1, 3, 2, 4, 6, 5),\n",
       " (3, 5, 1, 5, 3, 3),\n",
       " (3, 5, 3, 5, 5, 4),\n",
       " (6, 6, 3, 6, 3, 6),\n",
       " (6, 1, 2, 4, 6, 2),\n",
       " (6, 6, 1, 3, 6, 4),\n",
       " (4, 2, 1, 3, 6, 3),\n",
       " (5, 1, 5, 5, 1, 1),\n",
       " (3, 6, 1, 2, 2, 6),\n",
       " (4, 1, 1, 2, 5, 3),\n",
       " (3, 6, 3, 1, 5, 3),\n",
       " (1, 4, 5, 5, 3, 5),\n",
       " (3, 5, 4, 5, 6, 4),\n",
       " (6, 4, 1, 5, 1, 1),\n",
       " (2, 3, 1, 4, 5, 2),\n",
       " (5, 2, 4, 4, 1, 3),\n",
       " (5, 6, 5, 1, 2, 2),\n",
       " (1, 2, 4, 6, 5, 3),\n",
       " (1, 5, 5, 1, 3, 4),\n",
       " (3, 6, 4, 1, 6, 3),\n",
       " (2, 4, 1, 1, 3, 3),\n",
       " (2, 6, 3, 1, 2, 6),\n",
       " (3, 2, 6, 3, 2, 3),\n",
       " (5, 3, 3, 4, 4, 4),\n",
       " (3, 2, 2, 4, 1, 1),\n",
       " (4, 3, 5, 2, 3, 4),\n",
       " (3, 6, 6, 6, 4, 3),\n",
       " (4, 3, 1, 4, 3, 5),\n",
       " (5, 2, 3, 6, 4, 5),\n",
       " (6, 3, 3, 1, 3, 2),\n",
       " (3, 6, 6, 4, 1, 4),\n",
       " (3, 5, 2, 3, 5, 3),\n",
       " (4, 3, 4, 4, 5, 6),\n",
       " (1, 1, 2, 6, 1, 4),\n",
       " (3, 2, 1, 6, 4, 3),\n",
       " (5, 1, 2, 1, 3, 2),\n",
       " (1, 1, 4, 2, 5, 4),\n",
       " (1, 2, 3, 3, 6, 1),\n",
       " (1, 3, 4, 5, 1, 3),\n",
       " (1, 3, 6, 1, 5, 3),\n",
       " (4, 6, 4, 5, 1, 3),\n",
       " (1, 3, 2, 2, 4, 1),\n",
       " (3, 1, 4, 5, 2, 2),\n",
       " (3, 1, 2, 6, 3, 1),\n",
       " (5, 2, 2, 6, 1, 1),\n",
       " (2, 6, 6, 1, 4, 5),\n",
       " ...}"
      ]
     },
     "execution_count": 21,
     "metadata": {},
     "output_type": "execute_result"
    }
   ],
   "source": [
    "sample_space = set(product(possible_rolls,repeat=6))\n",
    "sample_space"
   ]
  },
  {
   "cell_type": "code",
   "execution_count": 22,
   "id": "536af68a",
   "metadata": {},
   "outputs": [],
   "source": [
    "def has_sum_of_21(outcome):return sum(outcome) == 21"
   ]
  },
  {
   "cell_type": "code",
   "execution_count": 23,
   "id": "96a2eba7",
   "metadata": {},
   "outputs": [
    {
     "data": {
      "text/plain": [
       "0.09284979423868313"
      ]
     },
     "execution_count": 23,
     "metadata": {},
     "output_type": "execute_result"
    }
   ],
   "source": [
    "prob = compute_event_probability(has_sum_of_21,sample_space)\n",
    "prob"
   ]
  },
  {
   "cell_type": "markdown",
   "id": "bd54d628",
   "metadata": {},
   "source": [
    "### 1.2.3 Problem 3: Tính xác xuất của súc sắc có weighted trong không gian mẫu "
   ]
  },
  {
   "cell_type": "markdown",
   "id": "933b1beb",
   "metadata": {},
   "source": [
    "Chúng ta vừa tính xác xuất 6 lần tung xăc có thể tổng là 21. Bây giờ chúng ta sẽ tính lại xác xuất khi có weight trong sample sace. Chúng ta cần  chuyển đổi không gian mẫu không có weighted sang không gian mẫu có weithg. "
   ]
  },
  {
   "cell_type": "code",
   "execution_count": 24,
   "id": "89b72b35",
   "metadata": {},
   "outputs": [],
   "source": [
    "from collections import defaultdict\n",
    "weighted_sample_space = defaultdict(int)\n",
    "for outcome in sample_space:\n",
    "    total = sum(outcome)\n",
    "    weighted_sample_space[total] +=1"
   ]
  },
  {
   "cell_type": "code",
   "execution_count": 25,
   "id": "6b8dc2bb",
   "metadata": {},
   "outputs": [
    {
     "data": {
      "text/plain": [
       "defaultdict(int,\n",
       "            {21: 4332,\n",
       "             22: 4221,\n",
       "             27: 1666,\n",
       "             12: 456,\n",
       "             24: 3431,\n",
       "             19: 3906,\n",
       "             18: 3431,\n",
       "             20: 4221,\n",
       "             23: 3906,\n",
       "             26: 2247,\n",
       "             28: 1161,\n",
       "             15: 1666,\n",
       "             17: 2856,\n",
       "             13: 756,\n",
       "             14: 1161,\n",
       "             30: 456,\n",
       "             16: 2247,\n",
       "             25: 2856,\n",
       "             9: 56,\n",
       "             32: 126,\n",
       "             31: 252,\n",
       "             29: 756,\n",
       "             11: 252,\n",
       "             33: 56,\n",
       "             10: 126,\n",
       "             7: 6,\n",
       "             35: 6,\n",
       "             8: 21,\n",
       "             34: 21,\n",
       "             6: 1,\n",
       "             36: 1})"
      ]
     },
     "execution_count": 25,
     "metadata": {},
     "output_type": "execute_result"
    }
   ],
   "source": [
    "weighted_sample_space"
   ]
  },
  {
   "cell_type": "code",
   "execution_count": 26,
   "id": "f7d548c6",
   "metadata": {},
   "outputs": [],
   "source": [
    "num_combinations = weighted_sample_space[21]"
   ]
  },
  {
   "cell_type": "code",
   "execution_count": 27,
   "id": "47c707e3",
   "metadata": {},
   "outputs": [
    {
     "data": {
      "text/plain": [
       "4332"
      ]
     },
     "execution_count": 27,
     "metadata": {},
     "output_type": "execute_result"
    }
   ],
   "source": [
    "num_combinations"
   ]
  },
  {
   "cell_type": "code",
   "execution_count": 28,
   "id": "477676a8",
   "metadata": {},
   "outputs": [
    {
     "data": {
      "text/plain": [
       "4332"
      ]
     },
     "execution_count": 28,
     "metadata": {},
     "output_type": "execute_result"
    }
   ],
   "source": [
    "event = get_matching_event(lambda x : sum(x) == 21, sample_space)\n",
    "len(event)"
   ]
  },
  {
   "cell_type": "code",
   "execution_count": 29,
   "id": "08427244",
   "metadata": {},
   "outputs": [
    {
     "data": {
      "text/plain": [
       "0.09284979423868313"
      ]
     },
     "execution_count": 29,
     "metadata": {},
     "output_type": "execute_result"
    }
   ],
   "source": [
    "prob = compute_event_probability(lambda x: x == 21,\n",
    "weighted_sample_space)\n",
    "prob"
   ]
  },
  {
   "cell_type": "markdown",
   "id": "bdfcaf15",
   "metadata": {},
   "source": [
    "## 1.3 Tính xác xuất trên phạm vi khoảng thời gian \n",
    "Cho đến nay, chúng tôi chỉ phân tích các điều kiện sự kiện thỏa mãn một số giá trị đơn lẻ. Bây giờ, chúng tôi sẽ phân tích các điều kiện sự kiện kéo dài các khoảng giá trị. Một khoảng thời gian alf 1 tập hợp các só giữa bao gồm 2 ranh giới của chúng. \n"
   ]
  },
  {
   "cell_type": "code",
   "execution_count": 30,
   "id": "1dadbf32",
   "metadata": {},
   "outputs": [],
   "source": [
    "def is_in_interval(number,minimum,maximum):\n",
    "    return minimum <= number <= maximum"
   ]
  },
  {
   "cell_type": "markdown",
   "id": "35e247d5",
   "metadata": {},
   "source": [
    "Cho bạn một `is_in_interval()`, chúng ta có thể tính xác xuất rằng của 1 sự kiện liên quan tới giá trị trong 1 khoảng số nhất định. Ví dụ, chúng ta sẽ tính  khả năng xả ra của 6 con xúc xắc đó khoảng 10->21 "
   ]
  },
  {
   "cell_type": "code",
   "execution_count": 31,
   "id": "5508a483",
   "metadata": {},
   "outputs": [
    {
     "name": "stdout",
     "output_type": "stream",
     "text": [
      "Probability of interval is 0.5446244855967078\n"
     ]
    }
   ],
   "source": [
    "prob = compute_event_probability(lambda x  : is_in_interval(x,10,21),weighted_sample_space)\n",
    "print(f\"Probability of interval is {prob}\")"
   ]
  },
  {
   "cell_type": "markdown",
   "id": "1b1d611c",
   "metadata": {},
   "source": [
    "### 1.3.1 : Đánh giá các cực trị bằng cách sử dụng phân tích khoảng thời gian"
   ]
  },
  {
   "cell_type": "markdown",
   "id": "8576789b",
   "metadata": {},
   "source": [
    "Phân tích khoảng thời gian là rất quan trọng để giải quyết toàn bộ các vấn đề rất quan trọng trong xác suất và thống kê. Một trong những vấn đề như vậy liên quan đến việc đánh giá các điểm cực đoan: vấn đề nằm ở việc liệu dữ liệu quan sát có quá cực đoan để có thể tin được hay không ? \n",
    "Dữ liệu có vẻ cực đoan khi nó xảy ra một cách ngẫu nhiên quá bất thường. Ví dụ: giả sử chúng ta quan sát 10 lần lật của một đồng xu được cho là công bằng và đồng xu đó rơi vào mặt ngửa 8 trong số 10 lần. Đây có phải là một kết quả hợp lý cho một đồng tiền công bằng? Hay đồng xu của chúng ta bí mật thiên về hạ cánh? Để tìm hiểu, chúng ta phải trả lời câu hỏi sau: xác suất để 10 lần tung đồng xu công bằng dẫn đến số đầu cực đoan là bao nhiêu? Chúng tôi sẽ xác định số lượng đầu cực đại là tám đầu trở lên."
   ]
  },
  {
   "cell_type": "code",
   "execution_count": 32,
   "id": "982a97fc",
   "metadata": {},
   "outputs": [],
   "source": [
    "def generate_coin_sample_space(num_flips=10):\n",
    "    weighted_sample_space = defaultdict(int)\n",
    "    for coin_flips in product(['Head','Tails'], repeat=num_flips):\n",
    "        head_count = len([outcome for outcome in coin_flips if outcome == 'Head'])\n",
    "        weighted_sample_space[head_count] +=1\n",
    "    return weighted_sample_space"
   ]
  },
  {
   "cell_type": "code",
   "execution_count": 33,
   "id": "0a2a75ac",
   "metadata": {},
   "outputs": [
    {
     "data": {
      "text/plain": [
       "1"
      ]
     },
     "execution_count": 33,
     "metadata": {},
     "output_type": "execute_result"
    }
   ],
   "source": [
    "weighted_sample_space = generate_coin_sample_space()\n",
    "weighted_sample_space[10]"
   ]
  },
  {
   "cell_type": "code",
   "execution_count": 34,
   "id": "d7292cb9",
   "metadata": {},
   "outputs": [
    {
     "name": "stdout",
     "output_type": "stream",
     "text": [
      "Probability of observing more than 7 heads is 0.0546875\n"
     ]
    }
   ],
   "source": [
    "prob = compute_event_probability(lambda x: is_in_interval(x, 8, 10),\n",
    "weighted_sample_space)\n",
    "print(f\"Probability of observing more than 7 heads is {prob}\")"
   ]
  },
  {
   "cell_type": "markdown",
   "id": "3fa9b419",
   "metadata": {},
   "source": [
    "# Section 2- Plotting probabilities using Matplotlib\n",
    " "
   ]
  },
  {
   "cell_type": "markdown",
   "id": "addd847f",
   "metadata": {},
   "source": [
    "Trong section này chúgn ta cover \n",
    "1. Tạo 1 plot đơn giản sử dụng Matplotlib\n",
    "2. Label plotted data\n",
    "3. Phân phối xác xuất\n",
    "4. Ploting và comparing multiple probability distributions "
   ]
  },
  {
   "cell_type": "markdown",
   "id": "6cda375f",
   "metadata": {},
   "source": [
    "## 2.1 Basic Matplot lib plots \n"
   ]
  },
  {
   "cell_type": "markdown",
   "id": "d738f45c",
   "metadata": {},
   "source": [
    "Plot a linear relationship"
   ]
  },
  {
   "cell_type": "code",
   "execution_count": 35,
   "id": "242e641b",
   "metadata": {},
   "outputs": [
    {
     "data": {
      "image/png": "[encoded data removed]",
      "text/plain": [
       "<Figure size 432x288 with 1 Axes>"
      ]
     },
     "metadata": {
      "needs_background": "light"
     },
     "output_type": "display_data"
    }
   ],
   "source": [
    "x= range(0,10)\n",
    "y= [2*value for value in x]\n",
    "plt.plot(x,y)\n",
    "plt.show();\n"
   ]
  },
  {
   "cell_type": "markdown",
   "id": "88df1632",
   "metadata": {},
   "source": [
    "Plotting individual data points\n"
   ]
  },
  {
   "cell_type": "code",
   "execution_count": 36,
   "id": "83972cc4",
   "metadata": {},
   "outputs": [
    {
     "data": {
      "image/png": "[encoded data removed]",
      "text/plain": [
       "<Figure size 432x288 with 1 Axes>"
      ]
     },
     "metadata": {
      "needs_background": "light"
     },
     "output_type": "display_data"
    }
   ],
   "source": [
    "plt.scatter(x,y)\n",
    "plt.show()"
   ]
  },
  {
   "cell_type": "markdown",
   "id": "46dcd6d0",
   "metadata": {},
   "source": [
    "Giả sử chúng ta muốn nhấn mạnh khoảng thời gian mà **x** bắt đầu từ 2 và kết thúc từ 6. Chúng ta có thể làm điều đó bằng việc tô đường cong được vẽ trong khoảng thời gian chỉ định sử dụng. `plt.fill_between()`. Cái hàm này lấu inpuy đầu vào là cả x và y cũng như là where parameter như là 1 lis boolean values và True nếu x value. "
   ]
  },
  {
   "cell_type": "code",
   "execution_count": 37,
   "id": "27a963b1",
   "metadata": {},
   "outputs": [
    {
     "data": {
      "image/png": "[encoded data removed]",
      "text/plain": [
       "<Figure size 432x288 with 1 Axes>"
      ]
     },
     "metadata": {
      "needs_background": "light"
     },
     "output_type": "display_data"
    }
   ],
   "source": [
    "plt.plot(x,y)\n",
    "where = [is_in_interval(value,2,6) for value in x]\n",
    "plt.fill_between(x,y,where=where)\n",
    "plt.show()"
   ]
  },
  {
   "cell_type": "code",
   "execution_count": 38,
   "id": "b92567b2",
   "metadata": {},
   "outputs": [
    {
     "data": {
      "image/png": "[encoded data removed]",
      "text/plain": [
       "<Figure size 432x288 with 1 Axes>"
      ]
     },
     "metadata": {
      "needs_background": "light"
     },
     "output_type": "display_data"
    }
   ],
   "source": [
    "plt.scatter(x,y)\n",
    "plt.plot(x,y)\n",
    "where = [is_in_interval(value,2,6) for value in x]\n",
    "plt.fill_between(x,y,where=where)\n",
    "plt.show()"
   ]
  },
  {
   "cell_type": "markdown",
   "id": "2085a3f3",
   "metadata": {},
   "source": [
    "### 2.2 Plotting coin-flip probabilities \n"
   ]
  },
  {
   "cell_type": "code",
   "execution_count": 45,
   "id": "6b800c5e",
   "metadata": {},
   "outputs": [
    {
     "data": {
      "image/png": "[encoded data removed]",
      "text/plain": [
       "<Figure size 432x288 with 1 Axes>"
      ]
     },
     "metadata": {
      "needs_background": "light"
     },
     "output_type": "display_data"
    }
   ],
   "source": [
    "x_10_flips = list(weighted_sample_space.keys())\n",
    "y_10_flips = [weighted_sample_space[key] for key in x_10_flips]\n",
    "plt.scatter(x_10_flips,y_10_flips)\n",
    "plt.xlabel('Head-Count')\n",
    "plt.title('A scatter plot representation of the sample space for 10 flipped coins. The symmetric plot is centered around a peak at 5 of 10 counted head',fontsize=20)\n",
    "\n",
    "plt.ylabel('Number of coin-flip combinations with x heads')\n",
    "plt.show()"
   ]
  },
  {
   "cell_type": "markdown",
   "id": "26edecea",
   "metadata": {},
   "source": [
    "Giờ chúng ta  tính xác xuất của số lần tung được 1,2,3,4 mặt ngửa trong 10 lần thử "
   ]
  },
  {
   "cell_type": "code",
   "execution_count": 51,
   "id": "6139afaa",
   "metadata": {},
   "outputs": [
    {
     "data": {
      "image/png": "[encoded data removed]",
      "text/plain": [
       "<Figure size 432x288 with 1 Axes>"
      ]
     },
     "metadata": {
      "needs_background": "light"
     },
     "output_type": "display_data"
    }
   ],
   "source": [
    "sample_space_size = sum(weighted_sample_space.values())\n",
    "prob_x_10_flips =  [value / sample_space_size for value in y_10_flips]\n",
    "where = [is_in_interval(value, 8, 10) for value in x_10_flips]\n",
    "plt.fill_between(x_10_flips,prob_x_10_flips,where=where)\n",
    "plt.scatter(x_10_flips,prob_x_10_flips)\n",
    "plt.plot(x_10_flips,prob_x_10_flips)\n",
    "plt.xlabel('Head-count')\n",
    "plt.ylabel('Probability')\n",
    "plt.show()"
   ]
  },
  {
   "cell_type": "code",
   "execution_count": 52,
   "id": "39715ade",
   "metadata": {},
   "outputs": [
    {
     "data": {
      "image/png": "[encoded data removed]",
      "text/plain": [
       "<Figure size 432x288 with 1 Axes>"
      ]
     },
     "metadata": {
      "needs_background": "light"
     },
     "output_type": "display_data"
    }
   ],
   "source": [
    "plt.plot(x_10_flips, prob_x_10_flips)\n",
    "plt.scatter(x_10_flips, prob_x_10_flips)\n",
    "where = [not is_in_interval(value, 3, 7) for value in x_10_flips]\n",
    "plt.fill_between(x_10_flips, prob_x_10_flips, where=where)\n",
    "plt.xlabel('Head-count')\n",
    "plt.ylabel('Probability')\n",
    "plt.show()"
   ]
  },
  {
   "cell_type": "markdown",
   "id": "156f8394",
   "metadata": {},
   "source": [
    "### 2.2.1 Comparing mutiple coin flips probabilities distributions \n",
    " "
   ]
  },
  {
   "cell_type": "markdown",
   "id": "8305dbb8",
   "metadata": {},
   "source": []
  }
 ],
 "metadata": {
  "kernelspec": {
   "display_name": "Python 3",
   "language": "python",
   "name": "python3"
  },
  "language_info": {
   "codemirror_mode": {
    "name": "ipython",
    "version": 3
   },
   "file_extension": ".py",
   "mimetype": "text/x-python",
   "name": "python",
   "nbconvert_exporter": "python",
   "pygments_lexer": "ipython3",
   "version": "3.8.5"
  }
 },
 "nbformat": 4,
 "nbformat_minor": 5
}
